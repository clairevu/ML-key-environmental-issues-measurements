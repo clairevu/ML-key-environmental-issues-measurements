{
 "cells": [
  {
   "cell_type": "markdown",
   "metadata": {
    "id": "AHVEJVw361o-"
   },
   "source": [
    "# **DS862**\n",
    "\n",
    "*   Aditya Tamhankar\n",
    "*   Chisako Tani\n",
    "*   Claire Vu\n",
    "\n"
   ]
  },
  {
   "cell_type": "markdown",
   "metadata": {
    "id": "rsVEtubB8Hnc"
   },
   "source": [
    "## **1 - Introduction**"
   ]
  },
  {
   "cell_type": "markdown",
   "metadata": {
    "id": "3plROd3a7kYe"
   },
   "source": [
    "**Topic:** Identifying key environmental issues and the degree of measures taken by various regions"
   ]
  },
  {
   "cell_type": "markdown",
   "metadata": {
    "id": "cBYW1sni7zsB"
   },
   "source": [
    "**Goal:** The goal of this project is to identify key environmental issues and how each region deal with them (ie. plans to reduce city-wide emissions, enhance water security, etc.) with the help of data mining, visualizations and clustering techniques."
   ]
  },
  {
   "cell_type": "markdown",
   "metadata": {
    "id": "PsB9KFfd78ED"
   },
   "source": [
    "**Motivation**: This topic is inspired by an Kaggle competition hosted by CDP called[ “Unlocking Climate Solution: City-Business Collaboration for a Sustainable Future”](https://www.kaggle.com/c/cdp-unlocking-climate-solutions/overview). We picked this topic because not only do we want to challenge ourselves in a real-life data contest, but it also is our chance to work on a meaningful project that would help make positive environmental impacts. "
   ]
  },
  {
   "cell_type": "markdown",
   "metadata": {
    "id": "E-yXWYEHhUyL"
   },
   "source": [
    "**Overview of CDP**: [CDP](https://www.cdp.net/en) is a non-profit organization that researches and manages environmental action globally for investors, companies and cities. CDP has the world's largest and most comprehensive data based on environmental action, which is constantly updated through its annual survey of companies and cities around the world on how they are addressing environmental issues. Using this data, they ran an analytics competition on kaggle from October to December of this year."
   ]
  },
  {
   "cell_type": "markdown",
   "metadata": {
    "id": "xOajycg6l0kn"
   },
   "source": [
    "**Structure of the Questionnaire by CDP:** The questionnaire by CDP is in the format shown in the PDF below. Some questions are multiple choice, some are open-ended, and some have a table with choices and text fields for each question.\n",
    "\n",
    "In the case of multiple-choice questions, the answers are simply stored in the \"Response Answer\" column of the csv. In the case of a question with an answer table, the \"Question Number\", \"Column Number\", and \"Row Number\" can be used to identify which question and which table is answered."
   ]
  },
  {
   "cell_type": "markdown",
   "metadata": {
    "id": "ZZVJO5-_8m9B"
   },
   "source": [
    "## **2 - About the Data**"
   ]
  },
  {
   "cell_type": "markdown",
   "metadata": {
    "id": "9Nt4_1UglbRW"
   },
   "source": [
    "CDP has released the following data based on three different surveys: 1) corporate climate change disclosures, 2) corporate water security disclosures, and 3) disclosures from cities. These data are available for the years 2018-2020, for a total of nine files.\n",
    "\n",
    "For this project, we decided to use the data from cities because we wanted to know if there were differences in the way different regions and countries dealt with environmental issues. A secondary reason was that the data published by CDP is huge, several hundred megabytes per file, and we needed to narrow down the scope of the project to be realistic."
   ]
  },
  {
   "cell_type": "code",
   "execution_count": 1,
   "metadata": {
    "executionInfo": {
     "elapsed": 201,
     "status": "ok",
     "timestamp": 1664474933684,
     "user": {
      "displayName": "Claire Vu",
      "userId": "16337834021308321030"
     },
     "user_tz": 420
    },
    "id": "JmiWk555Z26o"
   },
   "outputs": [],
   "source": [
    "import pandas as pd"
   ]
  },
  {
   "cell_type": "code",
   "execution_count": 2,
   "metadata": {
    "executionInfo": {
     "elapsed": 1644,
     "status": "ok",
     "timestamp": 1664474935525,
     "user": {
      "displayName": "Claire Vu",
      "userId": "16337834021308321030"
     },
     "user_tz": 420
    },
    "id": "XxiYAQzCZ26s"
   },
   "outputs": [],
   "source": [
    "data = pd.read_csv('2019_Full_Cities_Dataset.csv') \n",
    "questions = pd.read_csv('2019_Questions_Summary.csv')"
   ]
  },
  {
   "cell_type": "code",
   "execution_count": 4,
   "metadata": {
    "executionInfo": {
     "elapsed": 330,
     "status": "ok",
     "timestamp": 1664474961751,
     "user": {
      "displayName": "Claire Vu",
      "userId": "16337834021308321030"
     },
     "user_tz": 420
    },
    "id": "osPJusocJBuJ"
   },
   "outputs": [],
   "source": [
    "# from google.colab import drive\n",
    "# drive.mount('/content/drive')"
   ]
  },
  {
   "cell_type": "markdown",
   "metadata": {
    "id": "4cOaa1OwSLYZ"
   },
   "source": [
    "\"2019_Questions_Summary.csv\" is our own data to organize the questions listed in the PDF, including question number and question content, category, question type, whether it is a follow-up question or not, and whether it can be used for our analysis (marked with '*')."
   ]
  },
  {
   "cell_type": "code",
   "execution_count": 5,
   "metadata": {
    "colab": {
     "base_uri": "https://localhost:8080/",
     "height": 503
    },
    "executionInfo": {
     "elapsed": 8,
     "status": "ok",
     "timestamp": 1664474962527,
     "user": {
      "displayName": "Claire Vu",
      "userId": "16337834021308321030"
     },
     "user_tz": 420
    },
    "id": "hgBcsiGNSGCP",
    "outputId": "d6fa9401-32ac-42e5-bf76-67c1249de46a"
   },
   "outputs": [
    {
     "data": {
      "text/html": [
       "\n",
       "  <div id=\"df-055a628f-7172-4bcf-a34a-ff9a7c357682\">\n",
       "    <div class=\"colab-df-container\">\n",
       "      <div>\n",
       "<style scoped>\n",
       "    .dataframe tbody tr th:only-of-type {\n",
       "        vertical-align: middle;\n",
       "    }\n",
       "\n",
       "    .dataframe tbody tr th {\n",
       "        vertical-align: top;\n",
       "    }\n",
       "\n",
       "    .dataframe thead th {\n",
       "        text-align: right;\n",
       "    }\n",
       "</style>\n",
       "<table border=\"1\" class=\"dataframe\">\n",
       "  <thead>\n",
       "    <tr style=\"text-align: right;\">\n",
       "      <th></th>\n",
       "      <th>Questionnaire</th>\n",
       "      <th>Year Reported to CDP</th>\n",
       "      <th>Account Number</th>\n",
       "      <th>Organization</th>\n",
       "      <th>Country</th>\n",
       "      <th>CDP Region</th>\n",
       "      <th>Parent Section</th>\n",
       "      <th>Section</th>\n",
       "      <th>Question Number</th>\n",
       "      <th>Question Name</th>\n",
       "      <th>Column Number</th>\n",
       "      <th>Column Name</th>\n",
       "      <th>Row Number</th>\n",
       "      <th>Row Name</th>\n",
       "      <th>Response Answer</th>\n",
       "      <th>Comments</th>\n",
       "      <th>File Name</th>\n",
       "      <th>Last update</th>\n",
       "    </tr>\n",
       "  </thead>\n",
       "  <tbody>\n",
       "    <tr>\n",
       "      <th>0</th>\n",
       "      <td>Cities 2019</td>\n",
       "      <td>2019</td>\n",
       "      <td>54113</td>\n",
       "      <td>City of Flagstaff</td>\n",
       "      <td>United States of America</td>\n",
       "      <td>North America</td>\n",
       "      <td>NaN</td>\n",
       "      <td>Energy</td>\n",
       "      <td>8.0a</td>\n",
       "      <td>Please provide details of your renewable energ...</td>\n",
       "      <td>2.0</td>\n",
       "      <td>Energy / electricity types covered by target</td>\n",
       "      <td>3.0</td>\n",
       "      <td>NaN</td>\n",
       "      <td>Other: Proportion of community electricity use...</td>\n",
       "      <td>NaN</td>\n",
       "      <td>NaN</td>\n",
       "      <td>24/06/2020 05:30:36 AM</td>\n",
       "    </tr>\n",
       "    <tr>\n",
       "      <th>1</th>\n",
       "      <td>Cities 2019</td>\n",
       "      <td>2019</td>\n",
       "      <td>35894</td>\n",
       "      <td>Ville de Montreal</td>\n",
       "      <td>Canada</td>\n",
       "      <td>North America</td>\n",
       "      <td>Emissions Reduction</td>\n",
       "      <td>Mitigation Actions</td>\n",
       "      <td>5.4</td>\n",
       "      <td>Describe the anticipated outcomes of the most ...</td>\n",
       "      <td>9.0</td>\n",
       "      <td>Co-benefit area</td>\n",
       "      <td>1.0</td>\n",
       "      <td>NaN</td>\n",
       "      <td>NaN</td>\n",
       "      <td>source: http://ville.montreal.qc.ca/pls/portal...</td>\n",
       "      <td>NaN</td>\n",
       "      <td>24/06/2020 05:30:36 AM</td>\n",
       "    </tr>\n",
       "    <tr>\n",
       "      <th>2</th>\n",
       "      <td>Cities 2019</td>\n",
       "      <td>2019</td>\n",
       "      <td>44185</td>\n",
       "      <td>Suwon City</td>\n",
       "      <td>Republic of Korea</td>\n",
       "      <td>East Asia</td>\n",
       "      <td>Emissions Reduction</td>\n",
       "      <td>Mitigation Target setting</td>\n",
       "      <td>5.0a</td>\n",
       "      <td>Please provide details of your total city-wide...</td>\n",
       "      <td>3.0</td>\n",
       "      <td>Boundary of target relative to city boundary (...</td>\n",
       "      <td>1.0</td>\n",
       "      <td>NaN</td>\n",
       "      <td>Same – covers entire city and nothing else</td>\n",
       "      <td>NaN</td>\n",
       "      <td>NaN</td>\n",
       "      <td>24/06/2020 05:30:36 AM</td>\n",
       "    </tr>\n",
       "  </tbody>\n",
       "</table>\n",
       "</div>\n",
       "      <button class=\"colab-df-convert\" onclick=\"convertToInteractive('df-055a628f-7172-4bcf-a34a-ff9a7c357682')\"\n",
       "              title=\"Convert this dataframe to an interactive table.\"\n",
       "              style=\"display:none;\">\n",
       "        \n",
       "  <svg xmlns=\"http://www.w3.org/2000/svg\" height=\"24px\"viewBox=\"0 0 24 24\"\n",
       "       width=\"24px\">\n",
       "    <path d=\"M0 0h24v24H0V0z\" fill=\"none\"/>\n",
       "    <path d=\"M18.56 5.44l.94 2.06.94-2.06 2.06-.94-2.06-.94-.94-2.06-.94 2.06-2.06.94zm-11 1L8.5 8.5l.94-2.06 2.06-.94-2.06-.94L8.5 2.5l-.94 2.06-2.06.94zm10 10l.94 2.06.94-2.06 2.06-.94-2.06-.94-.94-2.06-.94 2.06-2.06.94z\"/><path d=\"M17.41 7.96l-1.37-1.37c-.4-.4-.92-.59-1.43-.59-.52 0-1.04.2-1.43.59L10.3 9.45l-7.72 7.72c-.78.78-.78 2.05 0 2.83L4 21.41c.39.39.9.59 1.41.59.51 0 1.02-.2 1.41-.59l7.78-7.78 2.81-2.81c.8-.78.8-2.07 0-2.86zM5.41 20L4 18.59l7.72-7.72 1.47 1.35L5.41 20z\"/>\n",
       "  </svg>\n",
       "      </button>\n",
       "      \n",
       "  <style>\n",
       "    .colab-df-container {\n",
       "      display:flex;\n",
       "      flex-wrap:wrap;\n",
       "      gap: 12px;\n",
       "    }\n",
       "\n",
       "    .colab-df-convert {\n",
       "      background-color: #E8F0FE;\n",
       "      border: none;\n",
       "      border-radius: 50%;\n",
       "      cursor: pointer;\n",
       "      display: none;\n",
       "      fill: #1967D2;\n",
       "      height: 32px;\n",
       "      padding: 0 0 0 0;\n",
       "      width: 32px;\n",
       "    }\n",
       "\n",
       "    .colab-df-convert:hover {\n",
       "      background-color: #E2EBFA;\n",
       "      box-shadow: 0px 1px 2px rgba(60, 64, 67, 0.3), 0px 1px 3px 1px rgba(60, 64, 67, 0.15);\n",
       "      fill: #174EA6;\n",
       "    }\n",
       "\n",
       "    [theme=dark] .colab-df-convert {\n",
       "      background-color: #3B4455;\n",
       "      fill: #D2E3FC;\n",
       "    }\n",
       "\n",
       "    [theme=dark] .colab-df-convert:hover {\n",
       "      background-color: #434B5C;\n",
       "      box-shadow: 0px 1px 3px 1px rgba(0, 0, 0, 0.15);\n",
       "      filter: drop-shadow(0px 1px 2px rgba(0, 0, 0, 0.3));\n",
       "      fill: #FFFFFF;\n",
       "    }\n",
       "  </style>\n",
       "\n",
       "      <script>\n",
       "        const buttonEl =\n",
       "          document.querySelector('#df-055a628f-7172-4bcf-a34a-ff9a7c357682 button.colab-df-convert');\n",
       "        buttonEl.style.display =\n",
       "          google.colab.kernel.accessAllowed ? 'block' : 'none';\n",
       "\n",
       "        async function convertToInteractive(key) {\n",
       "          const element = document.querySelector('#df-055a628f-7172-4bcf-a34a-ff9a7c357682');\n",
       "          const dataTable =\n",
       "            await google.colab.kernel.invokeFunction('convertToInteractive',\n",
       "                                                     [key], {});\n",
       "          if (!dataTable) return;\n",
       "\n",
       "          const docLinkHtml = 'Like what you see? Visit the ' +\n",
       "            '<a target=\"_blank\" href=https://colab.research.google.com/notebooks/data_table.ipynb>data table notebook</a>'\n",
       "            + ' to learn more about interactive tables.';\n",
       "          element.innerHTML = '';\n",
       "          dataTable['output_type'] = 'display_data';\n",
       "          await google.colab.output.renderOutput(dataTable, element);\n",
       "          const docLink = document.createElement('div');\n",
       "          docLink.innerHTML = docLinkHtml;\n",
       "          element.appendChild(docLink);\n",
       "        }\n",
       "      </script>\n",
       "    </div>\n",
       "  </div>\n",
       "  "
      ],
      "text/plain": [
       "  Questionnaire  Year Reported to CDP  Account Number       Organization  \\\n",
       "0   Cities 2019                  2019           54113  City of Flagstaff   \n",
       "1   Cities 2019                  2019           35894  Ville de Montreal   \n",
       "2   Cities 2019                  2019           44185         Suwon City   \n",
       "\n",
       "                    Country     CDP Region       Parent Section  \\\n",
       "0  United States of America  North America                  NaN   \n",
       "1                    Canada  North America  Emissions Reduction   \n",
       "2         Republic of Korea      East Asia  Emissions Reduction   \n",
       "\n",
       "                     Section Question Number  \\\n",
       "0                     Energy            8.0a   \n",
       "1         Mitigation Actions             5.4   \n",
       "2  Mitigation Target setting            5.0a   \n",
       "\n",
       "                                       Question Name  Column Number  \\\n",
       "0  Please provide details of your renewable energ...            2.0   \n",
       "1  Describe the anticipated outcomes of the most ...            9.0   \n",
       "2  Please provide details of your total city-wide...            3.0   \n",
       "\n",
       "                                         Column Name  Row Number Row Name  \\\n",
       "0       Energy / electricity types covered by target         3.0      NaN   \n",
       "1                                    Co-benefit area         1.0      NaN   \n",
       "2  Boundary of target relative to city boundary (...         1.0      NaN   \n",
       "\n",
       "                                     Response Answer  \\\n",
       "0  Other: Proportion of community electricity use...   \n",
       "1                                                NaN   \n",
       "2         Same – covers entire city and nothing else   \n",
       "\n",
       "                                            Comments File Name  \\\n",
       "0                                                NaN       NaN   \n",
       "1  source: http://ville.montreal.qc.ca/pls/portal...       NaN   \n",
       "2                                                NaN       NaN   \n",
       "\n",
       "              Last update  \n",
       "0  24/06/2020 05:30:36 AM  \n",
       "1  24/06/2020 05:30:36 AM  \n",
       "2  24/06/2020 05:30:36 AM  "
      ]
     },
     "execution_count": 5,
     "metadata": {},
     "output_type": "execute_result"
    }
   ],
   "source": [
    "data.head(3)"
   ]
  },
  {
   "cell_type": "code",
   "execution_count": 6,
   "metadata": {
    "colab": {
     "base_uri": "https://localhost:8080/"
    },
    "executionInfo": {
     "elapsed": 254,
     "status": "ok",
     "timestamp": 1664474962775,
     "user": {
      "displayName": "Claire Vu",
      "userId": "16337834021308321030"
     },
     "user_tz": 420
    },
    "id": "mWH12L5sSEGd",
    "outputId": "d7f995c5-86e8-4449-9c2d-6d5499348869"
   },
   "outputs": [
    {
     "name": "stdout",
     "output_type": "stream",
     "text": [
      "(219246, 18)\n",
      "8\n",
      "93\n",
      "814\n",
      "9\n",
      "30\n",
      "155\n"
     ]
    }
   ],
   "source": [
    "print(data.shape)\n",
    "print(data.groupby(['CDP Region'])['CDP Region'].nunique().sum())\n",
    "print(data.groupby(['Country']).Country.nunique().sum())\n",
    "print(data.groupby(['Organization']).Organization.nunique().sum())\n",
    "print(data.groupby(['Parent Section'])['Parent Section'].nunique().sum())\n",
    "print(data.groupby(['Section']).Section.nunique().sum())\n",
    "print(data.groupby(['Question Number'])['Question Number'].nunique().sum())"
   ]
  },
  {
   "cell_type": "markdown",
   "metadata": {
    "id": "lxB382eoT9_D"
   },
   "source": [
    "As indicated above, the survey covered 8 areas of the world, 93 countries, and 814 cities responded. Also, there are 157 questions, each of which is divided into 9 categories and 29 subcategories."
   ]
  },
  {
   "cell_type": "markdown",
   "metadata": {
    "id": "HzUDzBqg2mS2"
   },
   "source": [
    "## **3 - Exploratory Analysis**\n",
    "\n",
    "In this section, we will explore the data and each region's approach to environmental issues through charts.\n",
    "\n",
    "Since there are 157 questions included in the data, we decided to use Tableau for visualization. For the analysis, we used the same csv that was loaded above. Among the charts drawn for each question, we will pick up the charts that show differences by region, especially for each question category."
   ]
  },
  {
   "cell_type": "markdown",
   "metadata": {
    "id": "oTNQ6fA8V-5W"
   },
   "source": [
    "The following graph shows the breakdown by region of the 814 cities that participated in the survey. It can be seen that cities in Latin America responded particularly well, and cities in Asia responded less.\n",
    "\n",
    "Because of the variation in the number of participants in each region, we will use percentages in the visualization that follows.\n",
    "\n"
   ]
  },
  {
   "cell_type": "code",
   "execution_count": 7,
   "metadata": {
    "colab": {
     "base_uri": "https://localhost:8080/",
     "height": 424
    },
    "executionInfo": {
     "elapsed": 60,
     "status": "ok",
     "timestamp": 1664474962776,
     "user": {
      "displayName": "Claire Vu",
      "userId": "16337834021308321030"
     },
     "user_tz": 420
    },
    "id": "1Qt4PeT12sco",
    "outputId": "f1dcdb81-4eae-4b87-f817-4dae59f61e2a"
   },
   "outputs": [
    {
     "data": {
      "text/html": [
       "<div class='tableauPlaceholder' id='viz1607842002943' style='position: relative'><noscript><a href='#'><img alt=' ' src='https:&#47;&#47;public.tableau.com&#47;static&#47;images&#47;Bo&#47;Book3_16078417496350&#47;Respondents&#47;1_rss.png' style='border: none' /></a></noscript><object class='tableauViz'  style='display:none;'><param name='host_url' value='https%3A%2F%2Fpublic.tableau.com%2F' /> <param name='embed_code_version' value='3' /> <param name='site_root' value='' /><param name='name' value='Book3_16078417496350&#47;Respondents' /><param name='tabs' value='no' /><param name='toolbar' value='yes' /><param name='static_image' value='https:&#47;&#47;public.tableau.com&#47;static&#47;images&#47;Bo&#47;Book3_16078417496350&#47;Respondents&#47;1.png' /> <param name='animate_transition' value='yes' /><param name='display_static_image' value='yes' /><param name='display_spinner' value='yes' /><param name='display_overlay' value='yes' /><param name='display_count' value='yes' /><param name='language' value='en' /></object></div>                <script type='text/javascript'>                    var divElement = document.getElementById('viz1607842002943');                    var vizElement = divElement.getElementsByTagName('object')[0];                    vizElement.style.width='100%';vizElement.style.height=(divElement.offsetWidth*0.40)+'px';                    var scriptElement = document.createElement('script');                    scriptElement.src = 'https://public.tableau.com/javascripts/api/viz_v1.js';                    vizElement.parentNode.insertBefore(scriptElement, vizElement);                </script>\n"
      ],
      "text/plain": [
       "<IPython.core.display.HTML object>"
      ]
     },
     "metadata": {},
     "output_type": "display_data"
    }
   ],
   "source": [
    "%%HTML\n",
    "<div class='tableauPlaceholder' id='viz1607842002943' style='position: relative'><noscript><a href='#'><img alt=' ' src='https:&#47;&#47;public.tableau.com&#47;static&#47;images&#47;Bo&#47;Book3_16078417496350&#47;Respondents&#47;1_rss.png' style='border: none' /></a></noscript><object class='tableauViz'  style='display:none;'><param name='host_url' value='https%3A%2F%2Fpublic.tableau.com%2F' /> <param name='embed_code_version' value='3' /> <param name='site_root' value='' /><param name='name' value='Book3_16078417496350&#47;Respondents' /><param name='tabs' value='no' /><param name='toolbar' value='yes' /><param name='static_image' value='https:&#47;&#47;public.tableau.com&#47;static&#47;images&#47;Bo&#47;Book3_16078417496350&#47;Respondents&#47;1.png' /> <param name='animate_transition' value='yes' /><param name='display_static_image' value='yes' /><param name='display_spinner' value='yes' /><param name='display_overlay' value='yes' /><param name='display_count' value='yes' /><param name='language' value='en' /></object></div>                <script type='text/javascript'>                    var divElement = document.getElementById('viz1607842002943');                    var vizElement = divElement.getElementsByTagName('object')[0];                    vizElement.style.width='100%';vizElement.style.height=(divElement.offsetWidth*0.40)+'px';                    var scriptElement = document.createElement('script');                    scriptElement.src = 'https://public.tableau.com/javascripts/api/viz_v1.js';                    vizElement.parentNode.insertBefore(scriptElement, vizElement);                </script>"
   ]
  },
  {
   "cell_type": "markdown",
   "metadata": {
    "id": "nGi3xcjaRETg"
   },
   "source": [
    "### 3.1 - Governance & Data Management\n",
    "As you can clearly see, the majority of cities answered \"Yes\". However, in Latin America and the Middle East, the percentage of \"Yes\" responses was lower than in other regions."
   ]
  },
  {
   "cell_type": "code",
   "execution_count": 8,
   "metadata": {
    "colab": {
     "base_uri": "https://localhost:8080/",
     "height": 424
    },
    "executionInfo": {
     "elapsed": 59,
     "status": "ok",
     "timestamp": 1664474962776,
     "user": {
      "displayName": "Claire Vu",
      "userId": "16337834021308321030"
     },
     "user_tz": 420
    },
    "id": "U-l3SCSBRVwW",
    "outputId": "a21a1c04-5160-42e1-ec43-5b87c1c3721e"
   },
   "outputs": [
    {
     "data": {
      "text/html": [
       "<div class='tableauPlaceholder' id='viz1607849103418' style='position: relative'><noscript><a href='#'><img alt=' ' src='https:&#47;&#47;public.tableau.com&#47;static&#47;images&#47;Bo&#47;Book3_16078417496350&#47;Q1_0&#47;1_rss.png' style='border: none' /></a></noscript><object class='tableauViz'  style='display:none;'><param name='host_url' value='https%3A%2F%2Fpublic.tableau.com%2F' /> <param name='embed_code_version' value='3' /> <param name='site_root' value='' /><param name='name' value='Book3_16078417496350&#47;Q1_0' /><param name='tabs' value='no' /><param name='toolbar' value='yes' /><param name='static_image' value='https:&#47;&#47;public.tableau.com&#47;static&#47;images&#47;Bo&#47;Book3_16078417496350&#47;Q1_0&#47;1.png' /> <param name='animate_transition' value='yes' /><param name='display_static_image' value='yes' /><param name='display_spinner' value='yes' /><param name='display_overlay' value='yes' /><param name='display_count' value='yes' /><param name='language' value='en' /></object></div>                <script type='text/javascript'>                    var divElement = document.getElementById('viz1607849103418');                    var vizElement = divElement.getElementsByTagName('object')[0];                    vizElement.style.width='100%';vizElement.style.height=(divElement.offsetWidth*0.40)+'px';                    var scriptElement = document.createElement('script');                    scriptElement.src = 'https://public.tableau.com/javascripts/api/viz_v1.js';                    vizElement.parentNode.insertBefore(scriptElement, vizElement);                </script>\n"
      ],
      "text/plain": [
       "<IPython.core.display.HTML object>"
      ]
     },
     "metadata": {},
     "output_type": "display_data"
    }
   ],
   "source": [
    "%%HTML\n",
    "<div class='tableauPlaceholder' id='viz1607849103418' style='position: relative'><noscript><a href='#'><img alt=' ' src='https:&#47;&#47;public.tableau.com&#47;static&#47;images&#47;Bo&#47;Book3_16078417496350&#47;Q1_0&#47;1_rss.png' style='border: none' /></a></noscript><object class='tableauViz'  style='display:none;'><param name='host_url' value='https%3A%2F%2Fpublic.tableau.com%2F' /> <param name='embed_code_version' value='3' /> <param name='site_root' value='' /><param name='name' value='Book3_16078417496350&#47;Q1_0' /><param name='tabs' value='no' /><param name='toolbar' value='yes' /><param name='static_image' value='https:&#47;&#47;public.tableau.com&#47;static&#47;images&#47;Bo&#47;Book3_16078417496350&#47;Q1_0&#47;1.png' /> <param name='animate_transition' value='yes' /><param name='display_static_image' value='yes' /><param name='display_spinner' value='yes' /><param name='display_overlay' value='yes' /><param name='display_count' value='yes' /><param name='language' value='en' /></object></div>                <script type='text/javascript'>                    var divElement = document.getElementById('viz1607849103418');                    var vizElement = divElement.getElementsByTagName('object')[0];                    vizElement.style.width='100%';vizElement.style.height=(divElement.offsetWidth*0.40)+'px';                    var scriptElement = document.createElement('script');                    scriptElement.src = 'https://public.tableau.com/javascripts/api/viz_v1.js';                    vizElement.parentNode.insertBefore(scriptElement, vizElement);                </script>"
   ]
  },
  {
   "cell_type": "markdown",
   "metadata": {
    "id": "-ayHoX3Xqeca"
   },
   "source": [
    "Here, Africa and South and West Asia have different characteristics from the others. In Africa, adaptation targets ranked first, while in South and West Asia, waste management ranked first."
   ]
  },
  {
   "cell_type": "code",
   "execution_count": 9,
   "metadata": {
    "colab": {
     "base_uri": "https://localhost:8080/",
     "height": 627
    },
    "executionInfo": {
     "elapsed": 57,
     "status": "ok",
     "timestamp": 1664474962776,
     "user": {
      "displayName": "Claire Vu",
      "userId": "16337834021308321030"
     },
     "user_tz": 420
    },
    "id": "6KfXyG2Z5rX1",
    "outputId": "23ac9bb8-113f-40bc-cfdb-ea2f912e6205"
   },
   "outputs": [
    {
     "data": {
      "text/html": [
       "<div class='tableauPlaceholder' id='viz1607842855512' style='position: relative'><noscript><a href='#'><img alt=' ' src='https:&#47;&#47;public.tableau.com&#47;static&#47;images&#47;Bo&#47;Book3_16078417496350&#47;Q1_0a&#47;1_rss.png' style='border: none' /></a></noscript><object class='tableauViz'  style='display:none;'><param name='host_url' value='https%3A%2F%2Fpublic.tableau.com%2F' /> <param name='embed_code_version' value='3' /> <param name='site_root' value='' /><param name='name' value='Book3_16078417496350&#47;Q1_0a' /><param name='tabs' value='no' /><param name='toolbar' value='yes' /><param name='static_image' value='https:&#47;&#47;public.tableau.com&#47;static&#47;images&#47;Bo&#47;Book3_16078417496350&#47;Q1_0a&#47;1.png' /> <param name='animate_transition' value='yes' /><param name='display_static_image' value='yes' /><param name='display_spinner' value='yes' /><param name='display_overlay' value='yes' /><param name='display_count' value='yes' /><param name='language' value='en' /></object></div>                <script type='text/javascript'>                    var divElement = document.getElementById('viz1607842855512');                    var vizElement = divElement.getElementsByTagName('object')[0];                    vizElement.style.width='100%';vizElement.style.height=(divElement.offsetWidth*0.60)+'px';                    var scriptElement = document.createElement('script');                    scriptElement.src = 'https://public.tableau.com/javascripts/api/viz_v1.js';                    vizElement.parentNode.insertBefore(scriptElement, vizElement);                </script>\n"
      ],
      "text/plain": [
       "<IPython.core.display.HTML object>"
      ]
     },
     "metadata": {},
     "output_type": "display_data"
    }
   ],
   "source": [
    "%%HTML\n",
    "<div class='tableauPlaceholder' id='viz1607842855512' style='position: relative'><noscript><a href='#'><img alt=' ' src='https:&#47;&#47;public.tableau.com&#47;static&#47;images&#47;Bo&#47;Book3_16078417496350&#47;Q1_0a&#47;1_rss.png' style='border: none' /></a></noscript><object class='tableauViz'  style='display:none;'><param name='host_url' value='https%3A%2F%2Fpublic.tableau.com%2F' /> <param name='embed_code_version' value='3' /> <param name='site_root' value='' /><param name='name' value='Book3_16078417496350&#47;Q1_0a' /><param name='tabs' value='no' /><param name='toolbar' value='yes' /><param name='static_image' value='https:&#47;&#47;public.tableau.com&#47;static&#47;images&#47;Bo&#47;Book3_16078417496350&#47;Q1_0a&#47;1.png' /> <param name='animate_transition' value='yes' /><param name='display_static_image' value='yes' /><param name='display_spinner' value='yes' /><param name='display_overlay' value='yes' /><param name='display_count' value='yes' /><param name='language' value='en' /></object></div>                <script type='text/javascript'>                    var divElement = document.getElementById('viz1607842855512');                    var vizElement = divElement.getElementsByTagName('object')[0];                    vizElement.style.width='100%';vizElement.style.height=(divElement.offsetWidth*0.60)+'px';                    var scriptElement = document.createElement('script');                    scriptElement.src = 'https://public.tableau.com/javascripts/api/viz_v1.js';                    vizElement.parentNode.insertBefore(scriptElement, vizElement);                </script>"
   ]
  },
  {
   "cell_type": "markdown",
   "metadata": {
    "id": "NXg-kMy00y-u"
   },
   "source": [
    "As for the tools used, Excel still accounts for a large percentage, indicating that a unified tool or methodology is not widespread."
   ]
  },
  {
   "cell_type": "code",
   "execution_count": 10,
   "metadata": {
    "colab": {
     "base_uri": "https://localhost:8080/",
     "height": 424
    },
    "executionInfo": {
     "elapsed": 57,
     "status": "ok",
     "timestamp": 1664474962777,
     "user": {
      "displayName": "Claire Vu",
      "userId": "16337834021308321030"
     },
     "user_tz": 420
    },
    "id": "mGygTf2BSh6e",
    "outputId": "a3e30939-a475-479b-bfb8-d2668fa0a1a8"
   },
   "outputs": [
    {
     "data": {
      "text/html": [
       "<div class='tableauPlaceholder' id='viz1607849331694' style='position: relative'><noscript><a href='#'><img alt=' ' src='https:&#47;&#47;public.tableau.com&#47;static&#47;images&#47;Bo&#47;Book3_16078417496350&#47;Q1_12&#47;1_rss.png' style='border: none' /></a></noscript><object class='tableauViz'  style='display:none;'><param name='host_url' value='https%3A%2F%2Fpublic.tableau.com%2F' /> <param name='embed_code_version' value='3' /> <param name='site_root' value='' /><param name='name' value='Book3_16078417496350&#47;Q1_12' /><param name='tabs' value='no' /><param name='toolbar' value='yes' /><param name='static_image' value='https:&#47;&#47;public.tableau.com&#47;static&#47;images&#47;Bo&#47;Book3_16078417496350&#47;Q1_12&#47;1.png' /> <param name='animate_transition' value='yes' /><param name='display_static_image' value='yes' /><param name='display_spinner' value='yes' /><param name='display_overlay' value='yes' /><param name='display_count' value='yes' /><param name='language' value='en' /></object></div>                <script type='text/javascript'>                    var divElement = document.getElementById('viz1607849331694');                    var vizElement = divElement.getElementsByTagName('object')[0];                    vizElement.style.width='100%';vizElement.style.height=(divElement.offsetWidth*0.40)+'px';                    var scriptElement = document.createElement('script');                    scriptElement.src = 'https://public.tableau.com/javascripts/api/viz_v1.js';                    vizElement.parentNode.insertBefore(scriptElement, vizElement);                </script>\n"
      ],
      "text/plain": [
       "<IPython.core.display.HTML object>"
      ]
     },
     "metadata": {},
     "output_type": "display_data"
    }
   ],
   "source": [
    "%%HTML\n",
    "<div class='tableauPlaceholder' id='viz1607849331694' style='position: relative'><noscript><a href='#'><img alt=' ' src='https:&#47;&#47;public.tableau.com&#47;static&#47;images&#47;Bo&#47;Book3_16078417496350&#47;Q1_12&#47;1_rss.png' style='border: none' /></a></noscript><object class='tableauViz'  style='display:none;'><param name='host_url' value='https%3A%2F%2Fpublic.tableau.com%2F' /> <param name='embed_code_version' value='3' /> <param name='site_root' value='' /><param name='name' value='Book3_16078417496350&#47;Q1_12' /><param name='tabs' value='no' /><param name='toolbar' value='yes' /><param name='static_image' value='https:&#47;&#47;public.tableau.com&#47;static&#47;images&#47;Bo&#47;Book3_16078417496350&#47;Q1_12&#47;1.png' /> <param name='animate_transition' value='yes' /><param name='display_static_image' value='yes' /><param name='display_spinner' value='yes' /><param name='display_overlay' value='yes' /><param name='display_count' value='yes' /><param name='language' value='en' /></object></div>                <script type='text/javascript'>                    var divElement = document.getElementById('viz1607849331694');                    var vizElement = divElement.getElementsByTagName('object')[0];                    vizElement.style.width='100%';vizElement.style.height=(divElement.offsetWidth*0.40)+'px';                    var scriptElement = document.createElement('script');                    scriptElement.src = 'https://public.tableau.com/javascripts/api/viz_v1.js';                    vizElement.parentNode.insertBefore(scriptElement, vizElement);                </script>"
   ]
  },
  {
   "cell_type": "markdown",
   "metadata": {
    "id": "x_WJxR_JVjFU"
   },
   "source": [
    "### 3.2 - Climate Hazards and Vulnerability\n",
    "What is interesting about this graph is that the disincentives for environmental initiatives vary greatly by region. For example, poverty is a major factor in Africa, while rapid urbanization is a challenge in South and West Asia, and budgetary issues are a major factor in North America and Europe."
   ]
  },
  {
   "cell_type": "code",
   "execution_count": 11,
   "metadata": {
    "colab": {
     "base_uri": "https://localhost:8080/",
     "height": 627
    },
    "executionInfo": {
     "elapsed": 56,
     "status": "ok",
     "timestamp": 1664474962777,
     "user": {
      "displayName": "Claire Vu",
      "userId": "16337834021308321030"
     },
     "user_tz": 420
    },
    "id": "wnc62AuJVvud",
    "outputId": "20ad1371-28df-404d-8572-6c08a53b2ea1"
   },
   "outputs": [
    {
     "data": {
      "text/html": [
       "<div class='tableauPlaceholder' id='viz1607908010543' style='position: relative'><noscript><a href='#'><img alt=' ' src='https:&#47;&#47;public.tableau.com&#47;static&#47;images&#47;Bo&#47;Book3_16078417496350&#47;Q2_2&#47;1_rss.png' style='border: none' /></a></noscript><object class='tableauViz'  style='display:none;'><param name='host_url' value='https%3A%2F%2Fpublic.tableau.com%2F' /> <param name='embed_code_version' value='3' /> <param name='site_root' value='' /><param name='name' value='Book3_16078417496350&#47;Q2_2' /><param name='tabs' value='no' /><param name='toolbar' value='yes' /><param name='static_image' value='https:&#47;&#47;public.tableau.com&#47;static&#47;images&#47;Bo&#47;Book3_16078417496350&#47;Q2_2&#47;1.png' /> <param name='animate_transition' value='yes' /><param name='display_static_image' value='yes' /><param name='display_spinner' value='yes' /><param name='display_overlay' value='yes' /><param name='display_count' value='yes' /><param name='language' value='en' /><param name='filter' value='publish=yes' /></object></div>                <script type='text/javascript'>                    var divElement = document.getElementById('viz1607908010543');                    var vizElement = divElement.getElementsByTagName('object')[0];                    vizElement.style.width='100%';vizElement.style.height=(divElement.offsetWidth*0.60)+'px';                    var scriptElement = document.createElement('script');                    scriptElement.src = 'https://public.tableau.com/javascripts/api/viz_v1.js';                    vizElement.parentNode.insertBefore(scriptElement, vizElement);                </script>\n"
      ],
      "text/plain": [
       "<IPython.core.display.HTML object>"
      ]
     },
     "metadata": {},
     "output_type": "display_data"
    }
   ],
   "source": [
    "%%HTML\n",
    "<div class='tableauPlaceholder' id='viz1607908010543' style='position: relative'><noscript><a href='#'><img alt=' ' src='https:&#47;&#47;public.tableau.com&#47;static&#47;images&#47;Bo&#47;Book3_16078417496350&#47;Q2_2&#47;1_rss.png' style='border: none' /></a></noscript><object class='tableauViz'  style='display:none;'><param name='host_url' value='https%3A%2F%2Fpublic.tableau.com%2F' /> <param name='embed_code_version' value='3' /> <param name='site_root' value='' /><param name='name' value='Book3_16078417496350&#47;Q2_2' /><param name='tabs' value='no' /><param name='toolbar' value='yes' /><param name='static_image' value='https:&#47;&#47;public.tableau.com&#47;static&#47;images&#47;Bo&#47;Book3_16078417496350&#47;Q2_2&#47;1.png' /> <param name='animate_transition' value='yes' /><param name='display_static_image' value='yes' /><param name='display_spinner' value='yes' /><param name='display_overlay' value='yes' /><param name='display_count' value='yes' /><param name='language' value='en' /><param name='filter' value='publish=yes' /></object></div>                <script type='text/javascript'>                    var divElement = document.getElementById('viz1607908010543');                    var vizElement = divElement.getElementsByTagName('object')[0];                    vizElement.style.width='100%';vizElement.style.height=(divElement.offsetWidth*0.60)+'px';                    var scriptElement = document.createElement('script');                    scriptElement.src = 'https://public.tableau.com/javascripts/api/viz_v1.js';                    vizElement.parentNode.insertBefore(scriptElement, vizElement);                </script>"
   ]
  },
  {
   "cell_type": "markdown",
   "metadata": {
    "id": "nzDzZHlNYRkE"
   },
   "source": [
    "### 3.3 - Adaption\n",
    "The percentage of \"Yes\" responses was lower in Latin America and South and West Asia. When \"Intending\" and \"In progress\" are included, it is clear that almost all regions have a plan for climate change. The percentage of respondents who answered \"Do know know\" was higher in Latin America."
   ]
  },
  {
   "cell_type": "code",
   "execution_count": 12,
   "metadata": {
    "colab": {
     "base_uri": "https://localhost:8080/",
     "height": 424
    },
    "executionInfo": {
     "elapsed": 55,
     "status": "ok",
     "timestamp": 1664474962777,
     "user": {
      "displayName": "Claire Vu",
      "userId": "16337834021308321030"
     },
     "user_tz": 420
    },
    "id": "wHOxfj0PYV_N",
    "outputId": "c6b10500-27a2-4b48-96ab-939c6d59f4bf"
   },
   "outputs": [
    {
     "data": {
      "text/html": [
       "<div class='tableauPlaceholder' id='viz1607850892939' style='position: relative'><noscript><a href='#'><img alt=' ' src='https:&#47;&#47;public.tableau.com&#47;static&#47;images&#47;Bo&#47;Book3_16078417496350&#47;Q3_1&#47;1_rss.png' style='border: none' /></a></noscript><object class='tableauViz'  style='display:none;'><param name='host_url' value='https%3A%2F%2Fpublic.tableau.com%2F' /> <param name='embed_code_version' value='3' /> <param name='site_root' value='' /><param name='name' value='Book3_16078417496350&#47;Q3_1' /><param name='tabs' value='no' /><param name='toolbar' value='yes' /><param name='static_image' value='https:&#47;&#47;public.tableau.com&#47;static&#47;images&#47;Bo&#47;Book3_16078417496350&#47;Q3_1&#47;1.png' /> <param name='animate_transition' value='yes' /><param name='display_static_image' value='yes' /><param name='display_spinner' value='yes' /><param name='display_overlay' value='yes' /><param name='display_count' value='yes' /><param name='language' value='en' /></object></div>                <script type='text/javascript'>                    var divElement = document.getElementById('viz1607850892939');                    var vizElement = divElement.getElementsByTagName('object')[0];                    vizElement.style.width='100%';vizElement.style.height=(divElement.offsetWidth*0.40)+'px';                    var scriptElement = document.createElement('script');                    scriptElement.src = 'https://public.tableau.com/javascripts/api/viz_v1.js';                    vizElement.parentNode.insertBefore(scriptElement, vizElement);                </script>\n"
      ],
      "text/plain": [
       "<IPython.core.display.HTML object>"
      ]
     },
     "metadata": {},
     "output_type": "display_data"
    }
   ],
   "source": [
    "%%HTML\n",
    "<div class='tableauPlaceholder' id='viz1607850892939' style='position: relative'><noscript><a href='#'><img alt=' ' src='https:&#47;&#47;public.tableau.com&#47;static&#47;images&#47;Bo&#47;Book3_16078417496350&#47;Q3_1&#47;1_rss.png' style='border: none' /></a></noscript><object class='tableauViz'  style='display:none;'><param name='host_url' value='https%3A%2F%2Fpublic.tableau.com%2F' /> <param name='embed_code_version' value='3' /> <param name='site_root' value='' /><param name='name' value='Book3_16078417496350&#47;Q3_1' /><param name='tabs' value='no' /><param name='toolbar' value='yes' /><param name='static_image' value='https:&#47;&#47;public.tableau.com&#47;static&#47;images&#47;Bo&#47;Book3_16078417496350&#47;Q3_1&#47;1.png' /> <param name='animate_transition' value='yes' /><param name='display_static_image' value='yes' /><param name='display_spinner' value='yes' /><param name='display_overlay' value='yes' /><param name='display_count' value='yes' /><param name='language' value='en' /></object></div>                <script type='text/javascript'>                    var divElement = document.getElementById('viz1607850892939');                    var vizElement = divElement.getElementsByTagName('object')[0];                    vizElement.style.width='100%';vizElement.style.height=(divElement.offsetWidth*0.40)+'px';                    var scriptElement = document.createElement('script');                    scriptElement.src = 'https://public.tableau.com/javascripts/api/viz_v1.js';                    vizElement.parentNode.insertBefore(scriptElement, vizElement);                </script>"
   ]
  },
  {
   "cell_type": "markdown",
   "metadata": {
    "id": "w3ntf19iYl_O"
   },
   "source": [
    "### 3.4 - City-wide Emissions\n",
    "The percentage of \"Yes\" responses is high in East Asia, Europe, North America, Southeast Asia and Oceania, while it is significantly low in Africa. It is assumed that there is a difference depending on the level of development of the country or region, since a certain level of technology is required to grasp the emission."
   ]
  },
  {
   "cell_type": "code",
   "execution_count": 13,
   "metadata": {
    "colab": {
     "base_uri": "https://localhost:8080/",
     "height": 424
    },
    "executionInfo": {
     "elapsed": 56,
     "status": "ok",
     "timestamp": 1664474962778,
     "user": {
      "displayName": "Claire Vu",
      "userId": "16337834021308321030"
     },
     "user_tz": 420
    },
    "id": "3ltbegh1Ypi-",
    "outputId": "0c7a1202-9718-44da-f07f-a778175be9a6"
   },
   "outputs": [
    {
     "data": {
      "text/html": [
       "<div class='tableauPlaceholder' id='viz1607851020904' style='position: relative'><noscript><a href='#'><img alt=' ' src='https:&#47;&#47;public.tableau.com&#47;static&#47;images&#47;4D&#47;4DC5Y86H3&#47;1_rss.png' style='border: none' /></a></noscript><object class='tableauViz'  style='display:none;'><param name='host_url' value='https%3A%2F%2Fpublic.tableau.com%2F' /> <param name='embed_code_version' value='3' /> <param name='path' value='shared&#47;4DC5Y86H3' /> <param name='toolbar' value='yes' /><param name='static_image' value='https:&#47;&#47;public.tableau.com&#47;static&#47;images&#47;4D&#47;4DC5Y86H3&#47;1.png' /> <param name='animate_transition' value='yes' /><param name='display_static_image' value='yes' /><param name='display_spinner' value='yes' /><param name='display_overlay' value='yes' /><param name='display_count' value='yes' /><param name='language' value='en' /></object></div>                <script type='text/javascript'>                    var divElement = document.getElementById('viz1607851020904');                    var vizElement = divElement.getElementsByTagName('object')[0];                    vizElement.style.width='100%';vizElement.style.height=(divElement.offsetWidth*0.40)+'px';                    var scriptElement = document.createElement('script');                    scriptElement.src = 'https://public.tableau.com/javascripts/api/viz_v1.js';                    vizElement.parentNode.insertBefore(scriptElement, vizElement);                </script>\n"
      ],
      "text/plain": [
       "<IPython.core.display.HTML object>"
      ]
     },
     "metadata": {},
     "output_type": "display_data"
    }
   ],
   "source": [
    "%%HTML\n",
    "<div class='tableauPlaceholder' id='viz1607851020904' style='position: relative'><noscript><a href='#'><img alt=' ' src='https:&#47;&#47;public.tableau.com&#47;static&#47;images&#47;4D&#47;4DC5Y86H3&#47;1_rss.png' style='border: none' /></a></noscript><object class='tableauViz'  style='display:none;'><param name='host_url' value='https%3A%2F%2Fpublic.tableau.com%2F' /> <param name='embed_code_version' value='3' /> <param name='path' value='shared&#47;4DC5Y86H3' /> <param name='toolbar' value='yes' /><param name='static_image' value='https:&#47;&#47;public.tableau.com&#47;static&#47;images&#47;4D&#47;4DC5Y86H3&#47;1.png' /> <param name='animate_transition' value='yes' /><param name='display_static_image' value='yes' /><param name='display_spinner' value='yes' /><param name='display_overlay' value='yes' /><param name='display_count' value='yes' /><param name='language' value='en' /></object></div>                <script type='text/javascript'>                    var divElement = document.getElementById('viz1607851020904');                    var vizElement = divElement.getElementsByTagName('object')[0];                    vizElement.style.width='100%';vizElement.style.height=(divElement.offsetWidth*0.40)+'px';                    var scriptElement = document.createElement('script');                    scriptElement.src = 'https://public.tableau.com/javascripts/api/viz_v1.js';                    vizElement.parentNode.insertBefore(scriptElement, vizElement);                </script>"
   ]
  },
  {
   "cell_type": "markdown",
   "metadata": {
    "id": "zaQT_Y_aAmws"
   },
   "source": [
    "In the previous question, there was a clear difference in the regions that capture emissions, but it is very interesting that there is no clear difference in the increase and decrease. It can be inferred that it is important not only to capture emissions but also to take specific measures."
   ]
  },
  {
   "cell_type": "code",
   "execution_count": 14,
   "metadata": {
    "colab": {
     "base_uri": "https://localhost:8080/",
     "height": 424
    },
    "executionInfo": {
     "elapsed": 55,
     "status": "ok",
     "timestamp": 1664474962778,
     "user": {
      "displayName": "Claire Vu",
      "userId": "16337834021308321030"
     },
     "user_tz": 420
    },
    "id": "SDCITeq8i2_z",
    "outputId": "3a54d8c2-2e8d-4c6a-b1d0-75788e01923c"
   },
   "outputs": [
    {
     "data": {
      "text/html": [
       "<div class='tableauPlaceholder' id='viz1607853646141' style='position: relative'><noscript><a href='#'><img alt=' ' src='https:&#47;&#47;public.tableau.com&#47;static&#47;images&#47;Bo&#47;Book3_16078417496350&#47;Q4_8&#47;1_rss.png' style='border: none' /></a></noscript><object class='tableauViz'  style='display:none;'><param name='host_url' value='https%3A%2F%2Fpublic.tableau.com%2F' /> <param name='embed_code_version' value='3' /> <param name='site_root' value='' /><param name='name' value='Book3_16078417496350&#47;Q4_8' /><param name='tabs' value='no' /><param name='toolbar' value='yes' /><param name='static_image' value='https:&#47;&#47;public.tableau.com&#47;static&#47;images&#47;Bo&#47;Book3_16078417496350&#47;Q4_8&#47;1.png' /> <param name='animate_transition' value='yes' /><param name='display_static_image' value='yes' /><param name='display_spinner' value='yes' /><param name='display_overlay' value='yes' /><param name='display_count' value='yes' /><param name='language' value='en' /></object></div>                <script type='text/javascript'>                    var divElement = document.getElementById('viz1607853646141');                    var vizElement = divElement.getElementsByTagName('object')[0];                    vizElement.style.width='100%';vizElement.style.height=(divElement.offsetWidth*0.40)+'px';                    var scriptElement = document.createElement('script');                    scriptElement.src = 'https://public.tableau.com/javascripts/api/viz_v1.js';                    vizElement.parentNode.insertBefore(scriptElement, vizElement);                </script>\n"
      ],
      "text/plain": [
       "<IPython.core.display.HTML object>"
      ]
     },
     "metadata": {},
     "output_type": "display_data"
    }
   ],
   "source": [
    "%%HTML\n",
    "<div class='tableauPlaceholder' id='viz1607853646141' style='position: relative'><noscript><a href='#'><img alt=' ' src='https:&#47;&#47;public.tableau.com&#47;static&#47;images&#47;Bo&#47;Book3_16078417496350&#47;Q4_8&#47;1_rss.png' style='border: none' /></a></noscript><object class='tableauViz'  style='display:none;'><param name='host_url' value='https%3A%2F%2Fpublic.tableau.com%2F' /> <param name='embed_code_version' value='3' /> <param name='site_root' value='' /><param name='name' value='Book3_16078417496350&#47;Q4_8' /><param name='tabs' value='no' /><param name='toolbar' value='yes' /><param name='static_image' value='https:&#47;&#47;public.tableau.com&#47;static&#47;images&#47;Bo&#47;Book3_16078417496350&#47;Q4_8&#47;1.png' /> <param name='animate_transition' value='yes' /><param name='display_static_image' value='yes' /><param name='display_spinner' value='yes' /><param name='display_overlay' value='yes' /><param name='display_count' value='yes' /><param name='language' value='en' /></object></div>                <script type='text/javascript'>                    var divElement = document.getElementById('viz1607853646141');                    var vizElement = divElement.getElementsByTagName('object')[0];                    vizElement.style.width='100%';vizElement.style.height=(divElement.offsetWidth*0.40)+'px';                    var scriptElement = document.createElement('script');                    scriptElement.src = 'https://public.tableau.com/javascripts/api/viz_v1.js';                    vizElement.parentNode.insertBefore(scriptElement, vizElement);                </script>"
   ]
  },
  {
   "cell_type": "markdown",
   "metadata": {
    "id": "v_3VjreajUuX"
   },
   "source": [
    "### 3.5 - Emissions Reduction\n",
    "The next two questions show the same trend as Q4.0, indicating that there are differences among regions in terms of emission reduction measures."
   ]
  },
  {
   "cell_type": "code",
   "execution_count": 15,
   "metadata": {
    "colab": {
     "base_uri": "https://localhost:8080/",
     "height": 627
    },
    "executionInfo": {
     "elapsed": 55,
     "status": "ok",
     "timestamp": 1664474962778,
     "user": {
      "displayName": "Claire Vu",
      "userId": "16337834021308321030"
     },
     "user_tz": 420
    },
    "id": "FcGElE8TjQx4",
    "outputId": "7893fdfd-89cf-4a55-f6e3-d28a55a57fa5"
   },
   "outputs": [
    {
     "data": {
      "text/html": [
       "<div class='tableauPlaceholder' id='viz1607853731643' style='position: relative'><noscript><a href='#'><img alt=' ' src='https:&#47;&#47;public.tableau.com&#47;static&#47;images&#47;Bo&#47;Book3_16078417496350&#47;Q5_0&#47;1_rss.png' style='border: none' /></a></noscript><object class='tableauViz'  style='display:none;'><param name='host_url' value='https%3A%2F%2Fpublic.tableau.com%2F' /> <param name='embed_code_version' value='3' /> <param name='site_root' value='' /><param name='name' value='Book3_16078417496350&#47;Q5_0' /><param name='tabs' value='no' /><param name='toolbar' value='yes' /><param name='static_image' value='https:&#47;&#47;public.tableau.com&#47;static&#47;images&#47;Bo&#47;Book3_16078417496350&#47;Q5_0&#47;1.png' /> <param name='animate_transition' value='yes' /><param name='display_static_image' value='yes' /><param name='display_spinner' value='yes' /><param name='display_overlay' value='yes' /><param name='display_count' value='yes' /><param name='language' value='en' /></object></div>                <script type='text/javascript'>                    var divElement = document.getElementById('viz1607853731643');                    var vizElement = divElement.getElementsByTagName('object')[0];                    vizElement.style.width='100%';vizElement.style.height=(divElement.offsetWidth*0.60)+'px';                    var scriptElement = document.createElement('script');                    scriptElement.src = 'https://public.tableau.com/javascripts/api/viz_v1.js';                    vizElement.parentNode.insertBefore(scriptElement, vizElement);                </script>\n"
      ],
      "text/plain": [
       "<IPython.core.display.HTML object>"
      ]
     },
     "metadata": {},
     "output_type": "display_data"
    }
   ],
   "source": [
    "%%HTML\n",
    "<div class='tableauPlaceholder' id='viz1607853731643' style='position: relative'><noscript><a href='#'><img alt=' ' src='https:&#47;&#47;public.tableau.com&#47;static&#47;images&#47;Bo&#47;Book3_16078417496350&#47;Q5_0&#47;1_rss.png' style='border: none' /></a></noscript><object class='tableauViz'  style='display:none;'><param name='host_url' value='https%3A%2F%2Fpublic.tableau.com%2F' /> <param name='embed_code_version' value='3' /> <param name='site_root' value='' /><param name='name' value='Book3_16078417496350&#47;Q5_0' /><param name='tabs' value='no' /><param name='toolbar' value='yes' /><param name='static_image' value='https:&#47;&#47;public.tableau.com&#47;static&#47;images&#47;Bo&#47;Book3_16078417496350&#47;Q5_0&#47;1.png' /> <param name='animate_transition' value='yes' /><param name='display_static_image' value='yes' /><param name='display_spinner' value='yes' /><param name='display_overlay' value='yes' /><param name='display_count' value='yes' /><param name='language' value='en' /></object></div>                <script type='text/javascript'>                    var divElement = document.getElementById('viz1607853731643');                    var vizElement = divElement.getElementsByTagName('object')[0];                    vizElement.style.width='100%';vizElement.style.height=(divElement.offsetWidth*0.60)+'px';                    var scriptElement = document.createElement('script');                    scriptElement.src = 'https://public.tableau.com/javascripts/api/viz_v1.js';                    vizElement.parentNode.insertBefore(scriptElement, vizElement);                </script>"
   ]
  },
  {
   "cell_type": "code",
   "execution_count": 16,
   "metadata": {
    "colab": {
     "base_uri": "https://localhost:8080/",
     "height": 424
    },
    "executionInfo": {
     "elapsed": 54,
     "status": "ok",
     "timestamp": 1664474962779,
     "user": {
      "displayName": "Claire Vu",
      "userId": "16337834021308321030"
     },
     "user_tz": 420
    },
    "id": "2u9tNul-jcmP",
    "outputId": "ec717371-a774-4ad9-bcd7-4c172e41a26a"
   },
   "outputs": [
    {
     "data": {
      "text/html": [
       "<div class='tableauPlaceholder' id='viz1607853815428' style='position: relative'><noscript><a href='#'><img alt=' ' src='https:&#47;&#47;public.tableau.com&#47;static&#47;images&#47;Bo&#47;Book3_16078417496350&#47;Q5_5&#47;1_rss.png' style='border: none' /></a></noscript><object class='tableauViz'  style='display:none;'><param name='host_url' value='https%3A%2F%2Fpublic.tableau.com%2F' /> <param name='embed_code_version' value='3' /> <param name='site_root' value='' /><param name='name' value='Book3_16078417496350&#47;Q5_5' /><param name='tabs' value='no' /><param name='toolbar' value='yes' /><param name='static_image' value='https:&#47;&#47;public.tableau.com&#47;static&#47;images&#47;Bo&#47;Book3_16078417496350&#47;Q5_5&#47;1.png' /> <param name='animate_transition' value='yes' /><param name='display_static_image' value='yes' /><param name='display_spinner' value='yes' /><param name='display_overlay' value='yes' /><param name='display_count' value='yes' /><param name='language' value='en' /></object></div>                <script type='text/javascript'>                    var divElement = document.getElementById('viz1607853815428');                    var vizElement = divElement.getElementsByTagName('object')[0];                    vizElement.style.width='100%';vizElement.style.height=(divElement.offsetWidth*0.40)+'px';                    var scriptElement = document.createElement('script');                    scriptElement.src = 'https://public.tableau.com/javascripts/api/viz_v1.js';                    vizElement.parentNode.insertBefore(scriptElement, vizElement);                </script>\n"
      ],
      "text/plain": [
       "<IPython.core.display.HTML object>"
      ]
     },
     "metadata": {},
     "output_type": "display_data"
    }
   ],
   "source": [
    "%%HTML\n",
    "<div class='tableauPlaceholder' id='viz1607853815428' style='position: relative'><noscript><a href='#'><img alt=' ' src='https:&#47;&#47;public.tableau.com&#47;static&#47;images&#47;Bo&#47;Book3_16078417496350&#47;Q5_5&#47;1_rss.png' style='border: none' /></a></noscript><object class='tableauViz'  style='display:none;'><param name='host_url' value='https%3A%2F%2Fpublic.tableau.com%2F' /> <param name='embed_code_version' value='3' /> <param name='site_root' value='' /><param name='name' value='Book3_16078417496350&#47;Q5_5' /><param name='tabs' value='no' /><param name='toolbar' value='yes' /><param name='static_image' value='https:&#47;&#47;public.tableau.com&#47;static&#47;images&#47;Bo&#47;Book3_16078417496350&#47;Q5_5&#47;1.png' /> <param name='animate_transition' value='yes' /><param name='display_static_image' value='yes' /><param name='display_spinner' value='yes' /><param name='display_overlay' value='yes' /><param name='display_count' value='yes' /><param name='language' value='en' /></object></div>                <script type='text/javascript'>                    var divElement = document.getElementById('viz1607853815428');                    var vizElement = divElement.getElementsByTagName('object')[0];                    vizElement.style.width='100%';vizElement.style.height=(divElement.offsetWidth*0.40)+'px';                    var scriptElement = document.createElement('script');                    scriptElement.src = 'https://public.tableau.com/javascripts/api/viz_v1.js';                    vizElement.parentNode.insertBefore(scriptElement, vizElement);                </script>"
   ]
  },
  {
   "cell_type": "markdown",
   "metadata": {
    "id": "d_2_bxAJkMgZ"
   },
   "source": [
    "### 3.6 - Opportunities\n",
    "As with Q2.2, the results vary greatly by region. Looking at the overall results, it is clear that there is a particularly high level of interest in Renewable Energy."
   ]
  },
  {
   "cell_type": "code",
   "execution_count": 17,
   "metadata": {
    "colab": {
     "base_uri": "https://localhost:8080/",
     "height": 627
    },
    "executionInfo": {
     "elapsed": 53,
     "status": "ok",
     "timestamp": 1664474962779,
     "user": {
      "displayName": "Claire Vu",
      "userId": "16337834021308321030"
     },
     "user_tz": 420
    },
    "id": "O6nGcIlMkiSJ",
    "outputId": "a2b3b3c4-366b-4ca6-fa11-808aa7428c76"
   },
   "outputs": [
    {
     "data": {
      "text/html": [
       "<div class='tableauPlaceholder' id='viz1607854088426' style='position: relative'><noscript><a href='#'><img alt=' ' src='https:&#47;&#47;public.tableau.com&#47;static&#47;images&#47;Bo&#47;Book3_16078417496350&#47;Q6_2&#47;1_rss.png' style='border: none' /></a></noscript><object class='tableauViz'  style='display:none;'><param name='host_url' value='https%3A%2F%2Fpublic.tableau.com%2F' /> <param name='embed_code_version' value='3' /> <param name='site_root' value='' /><param name='name' value='Book3_16078417496350&#47;Q6_2' /><param name='tabs' value='no' /><param name='toolbar' value='yes' /><param name='static_image' value='https:&#47;&#47;public.tableau.com&#47;static&#47;images&#47;Bo&#47;Book3_16078417496350&#47;Q6_2&#47;1.png' /> <param name='animate_transition' value='yes' /><param name='display_static_image' value='yes' /><param name='display_spinner' value='yes' /><param name='display_overlay' value='yes' /><param name='display_count' value='yes' /><param name='language' value='en' /></object></div>                <script type='text/javascript'>                    var divElement = document.getElementById('viz1607854088426');                    var vizElement = divElement.getElementsByTagName('object')[0];                    vizElement.style.width='100%';vizElement.style.height=(divElement.offsetWidth*0.60)+'px';                    var scriptElement = document.createElement('script');                    scriptElement.src = 'https://public.tableau.com/javascripts/api/viz_v1.js';                    vizElement.parentNode.insertBefore(scriptElement, vizElement);                </script>\n"
      ],
      "text/plain": [
       "<IPython.core.display.HTML object>"
      ]
     },
     "metadata": {},
     "output_type": "display_data"
    }
   ],
   "source": [
    "%%HTML\n",
    "<div class='tableauPlaceholder' id='viz1607854088426' style='position: relative'><noscript><a href='#'><img alt=' ' src='https:&#47;&#47;public.tableau.com&#47;static&#47;images&#47;Bo&#47;Book3_16078417496350&#47;Q6_2&#47;1_rss.png' style='border: none' /></a></noscript><object class='tableauViz'  style='display:none;'><param name='host_url' value='https%3A%2F%2Fpublic.tableau.com%2F' /> <param name='embed_code_version' value='3' /> <param name='site_root' value='' /><param name='name' value='Book3_16078417496350&#47;Q6_2' /><param name='tabs' value='no' /><param name='toolbar' value='yes' /><param name='static_image' value='https:&#47;&#47;public.tableau.com&#47;static&#47;images&#47;Bo&#47;Book3_16078417496350&#47;Q6_2&#47;1.png' /> <param name='animate_transition' value='yes' /><param name='display_static_image' value='yes' /><param name='display_spinner' value='yes' /><param name='display_overlay' value='yes' /><param name='display_count' value='yes' /><param name='language' value='en' /></object></div>                <script type='text/javascript'>                    var divElement = document.getElementById('viz1607854088426');                    var vizElement = divElement.getElementsByTagName('object')[0];                    vizElement.style.width='100%';vizElement.style.height=(divElement.offsetWidth*0.60)+'px';                    var scriptElement = document.createElement('script');                    scriptElement.src = 'https://public.tableau.com/javascripts/api/viz_v1.js';                    vizElement.parentNode.insertBefore(scriptElement, vizElement);                </script>"
   ]
  },
  {
   "cell_type": "markdown",
   "metadata": {
    "id": "_LMDnsgakxVT"
   },
   "source": [
    "### 3.7 - Energy\n",
    "The percentage of respondents who answered \"Yes\" in Latin America and Africa was low."
   ]
  },
  {
   "cell_type": "code",
   "execution_count": 18,
   "metadata": {
    "colab": {
     "base_uri": "https://localhost:8080/",
     "height": 424
    },
    "executionInfo": {
     "elapsed": 52,
     "status": "ok",
     "timestamp": 1664474962779,
     "user": {
      "displayName": "Claire Vu",
      "userId": "16337834021308321030"
     },
     "user_tz": 420
    },
    "id": "puqwUOM0k58L",
    "outputId": "75a76788-8ebb-4179-bde9-7ca9c22ec10b"
   },
   "outputs": [
    {
     "data": {
      "text/html": [
       "<div class='tableauPlaceholder' id='viz1607854188080' style='position: relative'><noscript><a href='#'><img alt=' ' src='https:&#47;&#47;public.tableau.com&#47;static&#47;images&#47;Bo&#47;Book3_16078417496350&#47;Q8_0&#47;1_rss.png' style='border: none' /></a></noscript><object class='tableauViz'  style='display:none;'><param name='host_url' value='https%3A%2F%2Fpublic.tableau.com%2F' /> <param name='embed_code_version' value='3' /> <param name='site_root' value='' /><param name='name' value='Book3_16078417496350&#47;Q8_0' /><param name='tabs' value='no' /><param name='toolbar' value='yes' /><param name='static_image' value='https:&#47;&#47;public.tableau.com&#47;static&#47;images&#47;Bo&#47;Book3_16078417496350&#47;Q8_0&#47;1.png' /> <param name='animate_transition' value='yes' /><param name='display_static_image' value='yes' /><param name='display_spinner' value='yes' /><param name='display_overlay' value='yes' /><param name='display_count' value='yes' /><param name='language' value='en' /></object></div>                <script type='text/javascript'>                    var divElement = document.getElementById('viz1607854188080');                    var vizElement = divElement.getElementsByTagName('object')[0];                    vizElement.style.width='100%';vizElement.style.height=(divElement.offsetWidth*0.40)+'px';                    var scriptElement = document.createElement('script');                    scriptElement.src = 'https://public.tableau.com/javascripts/api/viz_v1.js';                    vizElement.parentNode.insertBefore(scriptElement, vizElement);                </script>\n"
      ],
      "text/plain": [
       "<IPython.core.display.HTML object>"
      ]
     },
     "metadata": {},
     "output_type": "display_data"
    }
   ],
   "source": [
    "%%HTML\n",
    "<div class='tableauPlaceholder' id='viz1607854188080' style='position: relative'><noscript><a href='#'><img alt=' ' src='https:&#47;&#47;public.tableau.com&#47;static&#47;images&#47;Bo&#47;Book3_16078417496350&#47;Q8_0&#47;1_rss.png' style='border: none' /></a></noscript><object class='tableauViz'  style='display:none;'><param name='host_url' value='https%3A%2F%2Fpublic.tableau.com%2F' /> <param name='embed_code_version' value='3' /> <param name='site_root' value='' /><param name='name' value='Book3_16078417496350&#47;Q8_0' /><param name='tabs' value='no' /><param name='toolbar' value='yes' /><param name='static_image' value='https:&#47;&#47;public.tableau.com&#47;static&#47;images&#47;Bo&#47;Book3_16078417496350&#47;Q8_0&#47;1.png' /> <param name='animate_transition' value='yes' /><param name='display_static_image' value='yes' /><param name='display_spinner' value='yes' /><param name='display_overlay' value='yes' /><param name='display_count' value='yes' /><param name='language' value='en' /></object></div>                <script type='text/javascript'>                    var divElement = document.getElementById('viz1607854188080');                    var vizElement = divElement.getElementsByTagName('object')[0];                    vizElement.style.width='100%';vizElement.style.height=(divElement.offsetWidth*0.40)+'px';                    var scriptElement = document.createElement('script');                    scriptElement.src = 'https://public.tableau.com/javascripts/api/viz_v1.js';                    vizElement.parentNode.insertBefore(scriptElement, vizElement);                </script>"
   ]
  },
  {
   "cell_type": "markdown",
   "metadata": {
    "id": "bgPksUU6lSoF"
   },
   "source": [
    "### 3.8 - Waste\n",
    "Africa, which ranked high in terms of waste management in Q6.2, has not made much progress in introducing restriction policies. Asia and Latin America, which were also ranked high, seem to have made some progress in regulation. Although it is not possible to tell from this, the fact that 100% of the Middle East respondents answered \"No\" seems to indicate that there is a reason for this."
   ]
  },
  {
   "cell_type": "code",
   "execution_count": 19,
   "metadata": {
    "colab": {
     "base_uri": "https://localhost:8080/",
     "height": 475
    },
    "executionInfo": {
     "elapsed": 53,
     "status": "ok",
     "timestamp": 1664474962780,
     "user": {
      "displayName": "Claire Vu",
      "userId": "16337834021308321030"
     },
     "user_tz": 420
    },
    "id": "rFkSQGoUlUg5",
    "outputId": "4ff646a3-9a3d-454b-b645-ebfb304b0750"
   },
   "outputs": [
    {
     "data": {
      "text/html": [
       "<div class='tableauPlaceholder' id='viz1607854295258' style='position: relative'><noscript><a href='#'><img alt=' ' src='https:&#47;&#47;public.tableau.com&#47;static&#47;images&#47;Bo&#47;Book3_16078417496350&#47;Q13_6&#47;1_rss.png' style='border: none' /></a></noscript><object class='tableauViz'  style='display:none;'><param name='host_url' value='https%3A%2F%2Fpublic.tableau.com%2F' /> <param name='embed_code_version' value='3' /> <param name='site_root' value='' /><param name='name' value='Book3_16078417496350&#47;Q13_6' /><param name='tabs' value='no' /><param name='toolbar' value='yes' /><param name='static_image' value='https:&#47;&#47;public.tableau.com&#47;static&#47;images&#47;Bo&#47;Book3_16078417496350&#47;Q13_6&#47;1.png' /> <param name='animate_transition' value='yes' /><param name='display_static_image' value='yes' /><param name='display_spinner' value='yes' /><param name='display_overlay' value='yes' /><param name='display_count' value='yes' /><param name='language' value='en' /></object></div>                <script type='text/javascript'>                    var divElement = document.getElementById('viz1607854295258');                    var vizElement = divElement.getElementsByTagName('object')[0];                    vizElement.style.width='100%';vizElement.style.height=(divElement.offsetWidth*0.45)+'px';                    var scriptElement = document.createElement('script');                    scriptElement.src = 'https://public.tableau.com/javascripts/api/viz_v1.js';                    vizElement.parentNode.insertBefore(scriptElement, vizElement);                </script>\n"
      ],
      "text/plain": [
       "<IPython.core.display.HTML object>"
      ]
     },
     "metadata": {},
     "output_type": "display_data"
    }
   ],
   "source": [
    "%%HTML\n",
    "<div class='tableauPlaceholder' id='viz1607854295258' style='position: relative'><noscript><a href='#'><img alt=' ' src='https:&#47;&#47;public.tableau.com&#47;static&#47;images&#47;Bo&#47;Book3_16078417496350&#47;Q13_6&#47;1_rss.png' style='border: none' /></a></noscript><object class='tableauViz'  style='display:none;'><param name='host_url' value='https%3A%2F%2Fpublic.tableau.com%2F' /> <param name='embed_code_version' value='3' /> <param name='site_root' value='' /><param name='name' value='Book3_16078417496350&#47;Q13_6' /><param name='tabs' value='no' /><param name='toolbar' value='yes' /><param name='static_image' value='https:&#47;&#47;public.tableau.com&#47;static&#47;images&#47;Bo&#47;Book3_16078417496350&#47;Q13_6&#47;1.png' /> <param name='animate_transition' value='yes' /><param name='display_static_image' value='yes' /><param name='display_spinner' value='yes' /><param name='display_overlay' value='yes' /><param name='display_count' value='yes' /><param name='language' value='en' /></object></div>                <script type='text/javascript'>                    var divElement = document.getElementById('viz1607854295258');                    var vizElement = divElement.getElementsByTagName('object')[0];                    vizElement.style.width='100%';vizElement.style.height=(divElement.offsetWidth*0.45)+'px';                    var scriptElement = document.createElement('script');                    scriptElement.src = 'https://public.tableau.com/javascripts/api/viz_v1.js';                    vizElement.parentNode.insertBefore(scriptElement, vizElement);                </script>"
   ]
  },
  {
   "cell_type": "markdown",
   "metadata": {
    "id": "8Wq1M2bIlnmZ"
   },
   "source": [
    "### 3.9 - Water security\n",
    "The percentage of \"Yes\" is very high in almost all regions except Europe. In fact, in Q6.2, water issues were ranked lower in Europe. In particular, in Q14.3a, \"Increased water stress\" appears to be a risk regardless of region. Furthermore, in Africa and other regions, infrastructure issues are also a concern, indicating that we should pay attention to issues other than water quality and supply sources."
   ]
  },
  {
   "cell_type": "code",
   "execution_count": 20,
   "metadata": {
    "colab": {
     "base_uri": "https://localhost:8080/",
     "height": 475
    },
    "executionInfo": {
     "elapsed": 52,
     "status": "ok",
     "timestamp": 1664474962780,
     "user": {
      "displayName": "Claire Vu",
      "userId": "16337834021308321030"
     },
     "user_tz": 420
    },
    "id": "G28VhUu9lp5H",
    "outputId": "d483def7-8a77-45ce-ab92-d72b6d7a0a6c"
   },
   "outputs": [
    {
     "data": {
      "text/html": [
       "<div class='tableauPlaceholder' id='viz1607854385635' style='position: relative'><noscript><a href='#'><img alt=' ' src='https:&#47;&#47;public.tableau.com&#47;static&#47;images&#47;Bo&#47;Book3_16078417496350&#47;Q14_3&#47;1_rss.png' style='border: none' /></a></noscript><object class='tableauViz'  style='display:none;'><param name='host_url' value='https%3A%2F%2Fpublic.tableau.com%2F' /> <param name='embed_code_version' value='3' /> <param name='site_root' value='' /><param name='name' value='Book3_16078417496350&#47;Q14_3' /><param name='tabs' value='no' /><param name='toolbar' value='yes' /><param name='static_image' value='https:&#47;&#47;public.tableau.com&#47;static&#47;images&#47;Bo&#47;Book3_16078417496350&#47;Q14_3&#47;1.png' /> <param name='animate_transition' value='yes' /><param name='display_static_image' value='yes' /><param name='display_spinner' value='yes' /><param name='display_overlay' value='yes' /><param name='display_count' value='yes' /><param name='language' value='en' /></object></div>                <script type='text/javascript'>                    var divElement = document.getElementById('viz1607854385635');                    var vizElement = divElement.getElementsByTagName('object')[0];                    vizElement.style.width='100%';vizElement.style.height=(divElement.offsetWidth*0.45)+'px';                    var scriptElement = document.createElement('script');                    scriptElement.src = 'https://public.tableau.com/javascripts/api/viz_v1.js';                    vizElement.parentNode.insertBefore(scriptElement, vizElement);                </script>\n"
      ],
      "text/plain": [
       "<IPython.core.display.HTML object>"
      ]
     },
     "metadata": {},
     "output_type": "display_data"
    }
   ],
   "source": [
    "%%HTML\n",
    "<div class='tableauPlaceholder' id='viz1607854385635' style='position: relative'><noscript><a href='#'><img alt=' ' src='https:&#47;&#47;public.tableau.com&#47;static&#47;images&#47;Bo&#47;Book3_16078417496350&#47;Q14_3&#47;1_rss.png' style='border: none' /></a></noscript><object class='tableauViz'  style='display:none;'><param name='host_url' value='https%3A%2F%2Fpublic.tableau.com%2F' /> <param name='embed_code_version' value='3' /> <param name='site_root' value='' /><param name='name' value='Book3_16078417496350&#47;Q14_3' /><param name='tabs' value='no' /><param name='toolbar' value='yes' /><param name='static_image' value='https:&#47;&#47;public.tableau.com&#47;static&#47;images&#47;Bo&#47;Book3_16078417496350&#47;Q14_3&#47;1.png' /> <param name='animate_transition' value='yes' /><param name='display_static_image' value='yes' /><param name='display_spinner' value='yes' /><param name='display_overlay' value='yes' /><param name='display_count' value='yes' /><param name='language' value='en' /></object></div>                <script type='text/javascript'>                    var divElement = document.getElementById('viz1607854385635');                    var vizElement = divElement.getElementsByTagName('object')[0];                    vizElement.style.width='100%';vizElement.style.height=(divElement.offsetWidth*0.45)+'px';                    var scriptElement = document.createElement('script');                    scriptElement.src = 'https://public.tableau.com/javascripts/api/viz_v1.js';                    vizElement.parentNode.insertBefore(scriptElement, vizElement);                </script>"
   ]
  },
  {
   "cell_type": "code",
   "execution_count": 21,
   "metadata": {
    "colab": {
     "base_uri": "https://localhost:8080/",
     "height": 627
    },
    "executionInfo": {
     "elapsed": 52,
     "status": "ok",
     "timestamp": 1664474962780,
     "user": {
      "displayName": "Claire Vu",
      "userId": "16337834021308321030"
     },
     "user_tz": 420
    },
    "id": "yKmCReLGlzVU",
    "outputId": "9f654b09-babd-4b10-8bae-e3d49d6f1e7b"
   },
   "outputs": [
    {
     "data": {
      "text/html": [
       "<div class='tableauPlaceholder' id='viz1607854419545' style='position: relative'><noscript><a href='#'><img alt=' ' src='https:&#47;&#47;public.tableau.com&#47;static&#47;images&#47;Bo&#47;Book3_16078417496350&#47;Q14_3a&#47;1_rss.png' style='border: none' /></a></noscript><object class='tableauViz'  style='display:none;'><param name='host_url' value='https%3A%2F%2Fpublic.tableau.com%2F' /> <param name='embed_code_version' value='3' /> <param name='site_root' value='' /><param name='name' value='Book3_16078417496350&#47;Q14_3a' /><param name='tabs' value='no' /><param name='toolbar' value='yes' /><param name='static_image' value='https:&#47;&#47;public.tableau.com&#47;static&#47;images&#47;Bo&#47;Book3_16078417496350&#47;Q14_3a&#47;1.png' /> <param name='animate_transition' value='yes' /><param name='display_static_image' value='yes' /><param name='display_spinner' value='yes' /><param name='display_overlay' value='yes' /><param name='display_count' value='yes' /><param name='language' value='en' /></object></div>                <script type='text/javascript'>                    var divElement = document.getElementById('viz1607854419545');                    var vizElement = divElement.getElementsByTagName('object')[0];                    vizElement.style.width='100%';vizElement.style.height=(divElement.offsetWidth*0.60)+'px';                    var scriptElement = document.createElement('script');                    scriptElement.src = 'https://public.tableau.com/javascripts/api/viz_v1.js';                    vizElement.parentNode.insertBefore(scriptElement, vizElement);                </script>\n"
      ],
      "text/plain": [
       "<IPython.core.display.HTML object>"
      ]
     },
     "metadata": {},
     "output_type": "display_data"
    }
   ],
   "source": [
    "%%HTML\n",
    "<div class='tableauPlaceholder' id='viz1607854419545' style='position: relative'><noscript><a href='#'><img alt=' ' src='https:&#47;&#47;public.tableau.com&#47;static&#47;images&#47;Bo&#47;Book3_16078417496350&#47;Q14_3a&#47;1_rss.png' style='border: none' /></a></noscript><object class='tableauViz'  style='display:none;'><param name='host_url' value='https%3A%2F%2Fpublic.tableau.com%2F' /> <param name='embed_code_version' value='3' /> <param name='site_root' value='' /><param name='name' value='Book3_16078417496350&#47;Q14_3a' /><param name='tabs' value='no' /><param name='toolbar' value='yes' /><param name='static_image' value='https:&#47;&#47;public.tableau.com&#47;static&#47;images&#47;Bo&#47;Book3_16078417496350&#47;Q14_3a&#47;1.png' /> <param name='animate_transition' value='yes' /><param name='display_static_image' value='yes' /><param name='display_spinner' value='yes' /><param name='display_overlay' value='yes' /><param name='display_count' value='yes' /><param name='language' value='en' /></object></div>                <script type='text/javascript'>                    var divElement = document.getElementById('viz1607854419545');                    var vizElement = divElement.getElementsByTagName('object')[0];                    vizElement.style.width='100%';vizElement.style.height=(divElement.offsetWidth*0.60)+'px';                    var scriptElement = document.createElement('script');                    scriptElement.src = 'https://public.tableau.com/javascripts/api/viz_v1.js';                    vizElement.parentNode.insertBefore(scriptElement, vizElement);                </script>"
   ]
  },
  {
   "cell_type": "markdown",
   "metadata": {
    "id": "o8QRww1gbTbA"
   },
   "source": [
    "### 4.0 - Summary\n",
    "Q1.0, Q3.1, Q5.5, and Q14.3 show that regardless of region, respondents are highly concerned about environmental issues such as emissions and water security. On the other hand, there are differences in the degree to which the issues are being addressed, depending on the region. In particular, as shown in Q4.0 and Q5.0, Africa, Latin America, the Middle East, and South and West Asia were often characterized differently from other regions. Although more data is needed to confirm this, it can be seen that there is a difference between regions that include many developing countries and those that do not."
   ]
  },
  {
   "cell_type": "markdown",
   "metadata": {
    "id": "6Ib5qfI6RvKT"
   },
   "source": [
    "## **4 - Data Cleaning & Preparation**"
   ]
  },
  {
   "cell_type": "markdown",
   "metadata": {
    "id": "9kh9db2Yq3oX"
   },
   "source": [
    "In this section, we preprocess our data for our clustering analysis in the following sections. We first extract questions that can be used for project, then assign unique question numbers to them, put respondents and answers into a pivot table form (row: responsdent, columns: answers for each questions), and fill out NaN values."
   ]
  },
  {
   "cell_type": "code",
   "execution_count": 22,
   "metadata": {
    "executionInfo": {
     "elapsed": 51,
     "status": "ok",
     "timestamp": 1664474962780,
     "user": {
      "displayName": "Claire Vu",
      "userId": "16337834021308321030"
     },
     "user_tz": 420
    },
    "id": "mv5kbV3zsc2Z"
   },
   "outputs": [],
   "source": [
    "# Extract rows that match the question we use\n",
    "data = data[data['Question Number'].isin(questions[questions['Can be used for Project?'] == '*']['Question Number'])]"
   ]
  },
  {
   "cell_type": "code",
   "execution_count": 23,
   "metadata": {
    "colab": {
     "base_uri": "https://localhost:8080/"
    },
    "executionInfo": {
     "elapsed": 52,
     "status": "ok",
     "timestamp": 1664474962781,
     "user": {
      "displayName": "Claire Vu",
      "userId": "16337834021308321030"
     },
     "user_tz": 420
    },
    "id": "b0B5AuVJ9LQl",
    "outputId": "f086970e-efc1-4ebb-d8e4-89acade52bcd"
   },
   "outputs": [
    {
     "name": "stderr",
     "output_type": "stream",
     "text": [
      "/usr/local/lib/python3.7/dist-packages/pandas/core/frame.py:4913: SettingWithCopyWarning: \n",
      "A value is trying to be set on a copy of a slice from a DataFrame\n",
      "\n",
      "See the caveats in the documentation: https://pandas.pydata.org/pandas-docs/stable/user_guide/indexing.html#returning-a-view-versus-a-copy\n",
      "  errors=errors,\n",
      "/usr/local/lib/python3.7/dist-packages/pandas/util/_decorators.py:311: SettingWithCopyWarning: \n",
      "A value is trying to be set on a copy of a slice from a DataFrame\n",
      "\n",
      "See the caveats in the documentation: https://pandas.pydata.org/pandas-docs/stable/user_guide/indexing.html#returning-a-view-versus-a-copy\n",
      "  return func(*args, **kwargs)\n"
     ]
    }
   ],
   "source": [
    "# Drop unnecessary columns & NaN in Response Answer\n",
    "data.drop(['Questionnaire', 'Year Reported to CDP', 'Question Name', 'Column Number', 'Column Name', 'Row Number', 'Row Name', 'Comments', 'File Name', 'Last update'], inplace=True, axis=1)\n",
    "data.dropna(subset=['Response Answer'], inplace=True)"
   ]
  },
  {
   "cell_type": "code",
   "execution_count": 24,
   "metadata": {
    "colab": {
     "base_uri": "https://localhost:8080/"
    },
    "executionInfo": {
     "elapsed": 46,
     "status": "ok",
     "timestamp": 1664474962782,
     "user": {
      "displayName": "Claire Vu",
      "userId": "16337834021308321030"
     },
     "user_tz": 420
    },
    "id": "1YFEgQzVrrUI",
    "outputId": "b412d0f7-0440-4703-d8d9-0fb6c0a6569e"
   },
   "outputs": [
    {
     "data": {
      "text/plain": [
       "(6670, 8)"
      ]
     },
     "execution_count": 24,
     "metadata": {},
     "output_type": "execute_result"
    }
   ],
   "source": [
    "# Check the number of rows\n",
    "data.shape"
   ]
  },
  {
   "cell_type": "code",
   "execution_count": 25,
   "metadata": {
    "colab": {
     "base_uri": "https://localhost:8080/",
     "height": 376
    },
    "executionInfo": {
     "elapsed": 43,
     "status": "ok",
     "timestamp": 1664474962782,
     "user": {
      "displayName": "Claire Vu",
      "userId": "16337834021308321030"
     },
     "user_tz": 420
    },
    "id": "yCskDIffr5qZ",
    "outputId": "7dbea383-ad48-485e-8460-fd1c5cbe281c"
   },
   "outputs": [
    {
     "data": {
      "text/html": [
       "\n",
       "  <div id=\"df-07c896ea-d000-49dc-bf74-4980cd8b46f4\">\n",
       "    <div class=\"colab-df-container\">\n",
       "      <div>\n",
       "<style scoped>\n",
       "    .dataframe tbody tr th:only-of-type {\n",
       "        vertical-align: middle;\n",
       "    }\n",
       "\n",
       "    .dataframe tbody tr th {\n",
       "        vertical-align: top;\n",
       "    }\n",
       "\n",
       "    .dataframe thead th {\n",
       "        text-align: right;\n",
       "    }\n",
       "</style>\n",
       "<table border=\"1\" class=\"dataframe\">\n",
       "  <thead>\n",
       "    <tr style=\"text-align: right;\">\n",
       "      <th></th>\n",
       "      <th>Account Number</th>\n",
       "      <th>Organization</th>\n",
       "      <th>Country</th>\n",
       "      <th>Parent Section</th>\n",
       "      <th>Section</th>\n",
       "      <th>Question Number</th>\n",
       "      <th>Response Answer</th>\n",
       "    </tr>\n",
       "    <tr>\n",
       "      <th>CDP Region</th>\n",
       "      <th></th>\n",
       "      <th></th>\n",
       "      <th></th>\n",
       "      <th></th>\n",
       "      <th></th>\n",
       "      <th></th>\n",
       "      <th></th>\n",
       "    </tr>\n",
       "  </thead>\n",
       "  <tbody>\n",
       "    <tr>\n",
       "      <th>Africa</th>\n",
       "      <td>485</td>\n",
       "      <td>485</td>\n",
       "      <td>485</td>\n",
       "      <td>360</td>\n",
       "      <td>485</td>\n",
       "      <td>485</td>\n",
       "      <td>485</td>\n",
       "    </tr>\n",
       "    <tr>\n",
       "      <th>East Asia</th>\n",
       "      <td>183</td>\n",
       "      <td>183</td>\n",
       "      <td>183</td>\n",
       "      <td>134</td>\n",
       "      <td>183</td>\n",
       "      <td>183</td>\n",
       "      <td>183</td>\n",
       "    </tr>\n",
       "    <tr>\n",
       "      <th>Europe</th>\n",
       "      <td>1389</td>\n",
       "      <td>1389</td>\n",
       "      <td>1389</td>\n",
       "      <td>1053</td>\n",
       "      <td>1389</td>\n",
       "      <td>1389</td>\n",
       "      <td>1389</td>\n",
       "    </tr>\n",
       "    <tr>\n",
       "      <th>Latin America</th>\n",
       "      <td>1975</td>\n",
       "      <td>1975</td>\n",
       "      <td>1975</td>\n",
       "      <td>1568</td>\n",
       "      <td>1975</td>\n",
       "      <td>1975</td>\n",
       "      <td>1975</td>\n",
       "    </tr>\n",
       "    <tr>\n",
       "      <th>Middle East</th>\n",
       "      <td>85</td>\n",
       "      <td>85</td>\n",
       "      <td>85</td>\n",
       "      <td>61</td>\n",
       "      <td>85</td>\n",
       "      <td>85</td>\n",
       "      <td>85</td>\n",
       "    </tr>\n",
       "    <tr>\n",
       "      <th>North America</th>\n",
       "      <td>1723</td>\n",
       "      <td>1723</td>\n",
       "      <td>1723</td>\n",
       "      <td>1328</td>\n",
       "      <td>1723</td>\n",
       "      <td>1723</td>\n",
       "      <td>1723</td>\n",
       "    </tr>\n",
       "    <tr>\n",
       "      <th>South and West Asia</th>\n",
       "      <td>173</td>\n",
       "      <td>173</td>\n",
       "      <td>173</td>\n",
       "      <td>123</td>\n",
       "      <td>173</td>\n",
       "      <td>173</td>\n",
       "      <td>173</td>\n",
       "    </tr>\n",
       "    <tr>\n",
       "      <th>Southeast Asia and Oceania</th>\n",
       "      <td>657</td>\n",
       "      <td>657</td>\n",
       "      <td>657</td>\n",
       "      <td>483</td>\n",
       "      <td>657</td>\n",
       "      <td>657</td>\n",
       "      <td>657</td>\n",
       "    </tr>\n",
       "  </tbody>\n",
       "</table>\n",
       "</div>\n",
       "      <button class=\"colab-df-convert\" onclick=\"convertToInteractive('df-07c896ea-d000-49dc-bf74-4980cd8b46f4')\"\n",
       "              title=\"Convert this dataframe to an interactive table.\"\n",
       "              style=\"display:none;\">\n",
       "        \n",
       "  <svg xmlns=\"http://www.w3.org/2000/svg\" height=\"24px\"viewBox=\"0 0 24 24\"\n",
       "       width=\"24px\">\n",
       "    <path d=\"M0 0h24v24H0V0z\" fill=\"none\"/>\n",
       "    <path d=\"M18.56 5.44l.94 2.06.94-2.06 2.06-.94-2.06-.94-.94-2.06-.94 2.06-2.06.94zm-11 1L8.5 8.5l.94-2.06 2.06-.94-2.06-.94L8.5 2.5l-.94 2.06-2.06.94zm10 10l.94 2.06.94-2.06 2.06-.94-2.06-.94-.94-2.06-.94 2.06-2.06.94z\"/><path d=\"M17.41 7.96l-1.37-1.37c-.4-.4-.92-.59-1.43-.59-.52 0-1.04.2-1.43.59L10.3 9.45l-7.72 7.72c-.78.78-.78 2.05 0 2.83L4 21.41c.39.39.9.59 1.41.59.51 0 1.02-.2 1.41-.59l7.78-7.78 2.81-2.81c.8-.78.8-2.07 0-2.86zM5.41 20L4 18.59l7.72-7.72 1.47 1.35L5.41 20z\"/>\n",
       "  </svg>\n",
       "      </button>\n",
       "      \n",
       "  <style>\n",
       "    .colab-df-container {\n",
       "      display:flex;\n",
       "      flex-wrap:wrap;\n",
       "      gap: 12px;\n",
       "    }\n",
       "\n",
       "    .colab-df-convert {\n",
       "      background-color: #E8F0FE;\n",
       "      border: none;\n",
       "      border-radius: 50%;\n",
       "      cursor: pointer;\n",
       "      display: none;\n",
       "      fill: #1967D2;\n",
       "      height: 32px;\n",
       "      padding: 0 0 0 0;\n",
       "      width: 32px;\n",
       "    }\n",
       "\n",
       "    .colab-df-convert:hover {\n",
       "      background-color: #E2EBFA;\n",
       "      box-shadow: 0px 1px 2px rgba(60, 64, 67, 0.3), 0px 1px 3px 1px rgba(60, 64, 67, 0.15);\n",
       "      fill: #174EA6;\n",
       "    }\n",
       "\n",
       "    [theme=dark] .colab-df-convert {\n",
       "      background-color: #3B4455;\n",
       "      fill: #D2E3FC;\n",
       "    }\n",
       "\n",
       "    [theme=dark] .colab-df-convert:hover {\n",
       "      background-color: #434B5C;\n",
       "      box-shadow: 0px 1px 3px 1px rgba(0, 0, 0, 0.15);\n",
       "      filter: drop-shadow(0px 1px 2px rgba(0, 0, 0, 0.3));\n",
       "      fill: #FFFFFF;\n",
       "    }\n",
       "  </style>\n",
       "\n",
       "      <script>\n",
       "        const buttonEl =\n",
       "          document.querySelector('#df-07c896ea-d000-49dc-bf74-4980cd8b46f4 button.colab-df-convert');\n",
       "        buttonEl.style.display =\n",
       "          google.colab.kernel.accessAllowed ? 'block' : 'none';\n",
       "\n",
       "        async function convertToInteractive(key) {\n",
       "          const element = document.querySelector('#df-07c896ea-d000-49dc-bf74-4980cd8b46f4');\n",
       "          const dataTable =\n",
       "            await google.colab.kernel.invokeFunction('convertToInteractive',\n",
       "                                                     [key], {});\n",
       "          if (!dataTable) return;\n",
       "\n",
       "          const docLinkHtml = 'Like what you see? Visit the ' +\n",
       "            '<a target=\"_blank\" href=https://colab.research.google.com/notebooks/data_table.ipynb>data table notebook</a>'\n",
       "            + ' to learn more about interactive tables.';\n",
       "          element.innerHTML = '';\n",
       "          dataTable['output_type'] = 'display_data';\n",
       "          await google.colab.output.renderOutput(dataTable, element);\n",
       "          const docLink = document.createElement('div');\n",
       "          docLink.innerHTML = docLinkHtml;\n",
       "          element.appendChild(docLink);\n",
       "        }\n",
       "      </script>\n",
       "    </div>\n",
       "  </div>\n",
       "  "
      ],
      "text/plain": [
       "                            Account Number  Organization  Country  \\\n",
       "CDP Region                                                          \n",
       "Africa                                 485           485      485   \n",
       "East Asia                              183           183      183   \n",
       "Europe                                1389          1389     1389   \n",
       "Latin America                         1975          1975     1975   \n",
       "Middle East                             85            85       85   \n",
       "North America                         1723          1723     1723   \n",
       "South and West Asia                    173           173      173   \n",
       "Southeast Asia and Oceania             657           657      657   \n",
       "\n",
       "                            Parent Section  Section  Question Number  \\\n",
       "CDP Region                                                             \n",
       "Africa                                 360      485              485   \n",
       "East Asia                              134      183              183   \n",
       "Europe                                1053     1389             1389   \n",
       "Latin America                         1568     1975             1975   \n",
       "Middle East                             61       85               85   \n",
       "North America                         1328     1723             1723   \n",
       "South and West Asia                    123      173              173   \n",
       "Southeast Asia and Oceania             483      657              657   \n",
       "\n",
       "                            Response Answer  \n",
       "CDP Region                                   \n",
       "Africa                                  485  \n",
       "East Asia                               183  \n",
       "Europe                                 1389  \n",
       "Latin America                          1975  \n",
       "Middle East                              85  \n",
       "North America                          1723  \n",
       "South and West Asia                     173  \n",
       "Southeast Asia and Oceania              657  "
      ]
     },
     "execution_count": 25,
     "metadata": {},
     "output_type": "execute_result"
    }
   ],
   "source": [
    "# Check the number of rows by region\n",
    "data.groupby('CDP Region').count()"
   ]
  },
  {
   "cell_type": "markdown",
   "metadata": {
    "id": "naojhUmGtAZ5"
   },
   "source": [
    "If respondent chooses option \"Other\", they can add their own comments. However, since this project does not focus on Natural Language Processing, we cut out the extra comments next to \"Other:\" to make the data less complicated, turning \"Other\" into a choice that is consistent across questions."
   ]
  },
  {
   "cell_type": "code",
   "execution_count": 26,
   "metadata": {
    "colab": {
     "base_uri": "https://localhost:8080/"
    },
    "executionInfo": {
     "elapsed": 43,
     "status": "ok",
     "timestamp": 1664474962783,
     "user": {
      "displayName": "Claire Vu",
      "userId": "16337834021308321030"
     },
     "user_tz": 420
    },
    "id": "8oxVAiH8TGc1",
    "outputId": "42356d8d-1c18-45d5-b847-233763aa576d"
   },
   "outputs": [
    {
     "name": "stderr",
     "output_type": "stream",
     "text": [
      "/usr/local/lib/python3.7/dist-packages/pandas/core/indexing.py:1817: SettingWithCopyWarning: \n",
      "A value is trying to be set on a copy of a slice from a DataFrame.\n",
      "Try using .loc[row_indexer,col_indexer] = value instead\n",
      "\n",
      "See the caveats in the documentation: https://pandas.pydata.org/pandas-docs/stable/user_guide/indexing.html#returning-a-view-versus-a-copy\n",
      "  self._setitem_single_column(loc, value, pi)\n"
     ]
    }
   ],
   "source": [
    "# Replace responces starts with \"Other: ~~\"\n",
    "data.loc[data['Response Answer'].str.startswith('Other'), \"Response Answer\"] = \"Other\""
   ]
  },
  {
   "cell_type": "code",
   "execution_count": 27,
   "metadata": {
    "executionInfo": {
     "elapsed": 40,
     "status": "ok",
     "timestamp": 1664474962783,
     "user": {
      "displayName": "Claire Vu",
      "userId": "16337834021308321030"
     },
     "user_tz": 420
    },
    "id": "mEGul6vMZ26u"
   },
   "outputs": [],
   "source": [
    "# Extract question numbers\n",
    "q_use_mc = questions[(questions['Can be used for Project?'] == '*') & (questions['Question Type'] == 'Simple Multiple Choice')]\n",
    "q_use_sata = questions[(questions['Can be used for Project?'] == '*') & (questions['Question Type'] == 'Select-all-that-apply')]\n",
    "q_use_num = questions[(questions['Can be used for Project?'] == '*') & (questions['Question Type'] == 'Numerical')]"
   ]
  },
  {
   "cell_type": "markdown",
   "metadata": {
    "id": "vVeDlu0LUMo9"
   },
   "source": [
    "In the case of a question that requires the user to select all the applicable items, the answers are divided into two or more rows when multiple items are selected, resulting in duplication of keys when pivoting. Therefore, we decided to consider a question as a \"Yes-No\" question and assign a unique number corresponding to each choice.\n",
    "\n",
    "e.g., 10.0 -> 10.0_1"
   ]
  },
  {
   "cell_type": "code",
   "execution_count": 28,
   "metadata": {
    "colab": {
     "base_uri": "https://localhost:8080/",
     "height": 372
    },
    "executionInfo": {
     "elapsed": 41,
     "status": "ok",
     "timestamp": 1664474962784,
     "user": {
      "displayName": "Claire Vu",
      "userId": "16337834021308321030"
     },
     "user_tz": 420
    },
    "id": "rZ0BM0z7Itf2",
    "outputId": "fd34ba07-2f7f-418a-c404-98b02bd5fcc7"
   },
   "outputs": [
    {
     "data": {
      "text/html": [
       "\n",
       "  <div id=\"df-e2e3ae3b-cff6-4890-b5ee-987eb41f38eb\">\n",
       "    <div class=\"colab-df-container\">\n",
       "      <div>\n",
       "<style scoped>\n",
       "    .dataframe tbody tr th:only-of-type {\n",
       "        vertical-align: middle;\n",
       "    }\n",
       "\n",
       "    .dataframe tbody tr th {\n",
       "        vertical-align: top;\n",
       "    }\n",
       "\n",
       "    .dataframe thead th {\n",
       "        text-align: right;\n",
       "    }\n",
       "</style>\n",
       "<table border=\"1\" class=\"dataframe\">\n",
       "  <thead>\n",
       "    <tr style=\"text-align: right;\">\n",
       "      <th></th>\n",
       "      <th>Account Number</th>\n",
       "      <th>Organization</th>\n",
       "      <th>Country</th>\n",
       "      <th>CDP Region</th>\n",
       "      <th>Parent Section</th>\n",
       "      <th>Section</th>\n",
       "      <th>Question Number</th>\n",
       "      <th>Response Answer</th>\n",
       "    </tr>\n",
       "  </thead>\n",
       "  <tbody>\n",
       "    <tr>\n",
       "      <th>71</th>\n",
       "      <td>60621</td>\n",
       "      <td>Lilongwe City Council</td>\n",
       "      <td>Malawi</td>\n",
       "      <td>Africa</td>\n",
       "      <td>NaN</td>\n",
       "      <td>Transport</td>\n",
       "      <td>10.0_1</td>\n",
       "      <td>Passenger transport</td>\n",
       "    </tr>\n",
       "    <tr>\n",
       "      <th>114</th>\n",
       "      <td>35887</td>\n",
       "      <td>Ajuntament de Valencia</td>\n",
       "      <td>Spain</td>\n",
       "      <td>Europe</td>\n",
       "      <td>Governance and Data Management</td>\n",
       "      <td>Governance</td>\n",
       "      <td>1.0</td>\n",
       "      <td>Yes</td>\n",
       "    </tr>\n",
       "    <tr>\n",
       "      <th>135</th>\n",
       "      <td>54277</td>\n",
       "      <td>New Plymouth District Council</td>\n",
       "      <td>New Zealand</td>\n",
       "      <td>Southeast Asia and Oceania</td>\n",
       "      <td>NaN</td>\n",
       "      <td>Energy</td>\n",
       "      <td>8.0</td>\n",
       "      <td>Not intending to undertake</td>\n",
       "    </tr>\n",
       "    <tr>\n",
       "      <th>185</th>\n",
       "      <td>50672</td>\n",
       "      <td>Município de Santarém</td>\n",
       "      <td>Portugal</td>\n",
       "      <td>Europe</td>\n",
       "      <td>NaN</td>\n",
       "      <td>Transport</td>\n",
       "      <td>10.7</td>\n",
       "      <td>No</td>\n",
       "    </tr>\n",
       "    <tr>\n",
       "      <th>241</th>\n",
       "      <td>60638</td>\n",
       "      <td>Walvis Bay Municipality</td>\n",
       "      <td>Namibia</td>\n",
       "      <td>Africa</td>\n",
       "      <td>Local Government Emissions</td>\n",
       "      <td>Local Government Operations GHG Emissions Data</td>\n",
       "      <td>7.0</td>\n",
       "      <td>Yes</td>\n",
       "    </tr>\n",
       "  </tbody>\n",
       "</table>\n",
       "</div>\n",
       "      <button class=\"colab-df-convert\" onclick=\"convertToInteractive('df-e2e3ae3b-cff6-4890-b5ee-987eb41f38eb')\"\n",
       "              title=\"Convert this dataframe to an interactive table.\"\n",
       "              style=\"display:none;\">\n",
       "        \n",
       "  <svg xmlns=\"http://www.w3.org/2000/svg\" height=\"24px\"viewBox=\"0 0 24 24\"\n",
       "       width=\"24px\">\n",
       "    <path d=\"M0 0h24v24H0V0z\" fill=\"none\"/>\n",
       "    <path d=\"M18.56 5.44l.94 2.06.94-2.06 2.06-.94-2.06-.94-.94-2.06-.94 2.06-2.06.94zm-11 1L8.5 8.5l.94-2.06 2.06-.94-2.06-.94L8.5 2.5l-.94 2.06-2.06.94zm10 10l.94 2.06.94-2.06 2.06-.94-2.06-.94-.94-2.06-.94 2.06-2.06.94z\"/><path d=\"M17.41 7.96l-1.37-1.37c-.4-.4-.92-.59-1.43-.59-.52 0-1.04.2-1.43.59L10.3 9.45l-7.72 7.72c-.78.78-.78 2.05 0 2.83L4 21.41c.39.39.9.59 1.41.59.51 0 1.02-.2 1.41-.59l7.78-7.78 2.81-2.81c.8-.78.8-2.07 0-2.86zM5.41 20L4 18.59l7.72-7.72 1.47 1.35L5.41 20z\"/>\n",
       "  </svg>\n",
       "      </button>\n",
       "      \n",
       "  <style>\n",
       "    .colab-df-container {\n",
       "      display:flex;\n",
       "      flex-wrap:wrap;\n",
       "      gap: 12px;\n",
       "    }\n",
       "\n",
       "    .colab-df-convert {\n",
       "      background-color: #E8F0FE;\n",
       "      border: none;\n",
       "      border-radius: 50%;\n",
       "      cursor: pointer;\n",
       "      display: none;\n",
       "      fill: #1967D2;\n",
       "      height: 32px;\n",
       "      padding: 0 0 0 0;\n",
       "      width: 32px;\n",
       "    }\n",
       "\n",
       "    .colab-df-convert:hover {\n",
       "      background-color: #E2EBFA;\n",
       "      box-shadow: 0px 1px 2px rgba(60, 64, 67, 0.3), 0px 1px 3px 1px rgba(60, 64, 67, 0.15);\n",
       "      fill: #174EA6;\n",
       "    }\n",
       "\n",
       "    [theme=dark] .colab-df-convert {\n",
       "      background-color: #3B4455;\n",
       "      fill: #D2E3FC;\n",
       "    }\n",
       "\n",
       "    [theme=dark] .colab-df-convert:hover {\n",
       "      background-color: #434B5C;\n",
       "      box-shadow: 0px 1px 3px 1px rgba(0, 0, 0, 0.15);\n",
       "      filter: drop-shadow(0px 1px 2px rgba(0, 0, 0, 0.3));\n",
       "      fill: #FFFFFF;\n",
       "    }\n",
       "  </style>\n",
       "\n",
       "      <script>\n",
       "        const buttonEl =\n",
       "          document.querySelector('#df-e2e3ae3b-cff6-4890-b5ee-987eb41f38eb button.colab-df-convert');\n",
       "        buttonEl.style.display =\n",
       "          google.colab.kernel.accessAllowed ? 'block' : 'none';\n",
       "\n",
       "        async function convertToInteractive(key) {\n",
       "          const element = document.querySelector('#df-e2e3ae3b-cff6-4890-b5ee-987eb41f38eb');\n",
       "          const dataTable =\n",
       "            await google.colab.kernel.invokeFunction('convertToInteractive',\n",
       "                                                     [key], {});\n",
       "          if (!dataTable) return;\n",
       "\n",
       "          const docLinkHtml = 'Like what you see? Visit the ' +\n",
       "            '<a target=\"_blank\" href=https://colab.research.google.com/notebooks/data_table.ipynb>data table notebook</a>'\n",
       "            + ' to learn more about interactive tables.';\n",
       "          element.innerHTML = '';\n",
       "          dataTable['output_type'] = 'display_data';\n",
       "          await google.colab.output.renderOutput(dataTable, element);\n",
       "          const docLink = document.createElement('div');\n",
       "          docLink.innerHTML = docLinkHtml;\n",
       "          element.appendChild(docLink);\n",
       "        }\n",
       "      </script>\n",
       "    </div>\n",
       "  </div>\n",
       "  "
      ],
      "text/plain": [
       "     Account Number                   Organization      Country  \\\n",
       "71            60621          Lilongwe City Council       Malawi   \n",
       "114           35887         Ajuntament de Valencia        Spain   \n",
       "135           54277  New Plymouth District Council  New Zealand   \n",
       "185           50672          Município de Santarém     Portugal   \n",
       "241           60638        Walvis Bay Municipality      Namibia   \n",
       "\n",
       "                     CDP Region                  Parent Section  \\\n",
       "71                       Africa                             NaN   \n",
       "114                      Europe  Governance and Data Management   \n",
       "135  Southeast Asia and Oceania                             NaN   \n",
       "185                      Europe                             NaN   \n",
       "241                      Africa      Local Government Emissions   \n",
       "\n",
       "                                            Section Question Number  \\\n",
       "71                                        Transport          10.0_1   \n",
       "114                                      Governance             1.0   \n",
       "135                                          Energy             8.0   \n",
       "185                                       Transport            10.7   \n",
       "241  Local Government Operations GHG Emissions Data             7.0   \n",
       "\n",
       "                Response Answer  \n",
       "71          Passenger transport  \n",
       "114                         Yes  \n",
       "135  Not intending to undertake  \n",
       "185                          No  \n",
       "241                         Yes  "
      ]
     },
     "execution_count": 28,
     "metadata": {},
     "output_type": "execute_result"
    }
   ],
   "source": [
    "new_sata_qn = []\n",
    "for qn in q_use_sata['Question Number']:\n",
    "\n",
    "  # Create response options list\n",
    "  options = data[data['Question Number'] == qn]['Response Answer'].drop_duplicates().reset_index().drop(['index'], axis=1).to_dict()\n",
    "  for key, option in options['Response Answer'].items():\n",
    "    new_qn = str(qn)+\"_\"+str(key+1)\n",
    "\n",
    "    # If there is an option that no one choose, skip adding the new question number list\n",
    "    if len(data[(data['Question Number'] == qn) & (data['Response Answer'] == option)]) != 0:\n",
    "      new_sata_qn.append(new_qn)\n",
    "\n",
    "    # Assign the new question number\n",
    "    data.loc[(data['Question Number'] == qn) & (data['Response Answer'] == option),  \"Question Number\"] = new_qn\n",
    "\n",
    "data.head()"
   ]
  },
  {
   "cell_type": "code",
   "execution_count": 29,
   "metadata": {
    "executionInfo": {
     "elapsed": 41,
     "status": "ok",
     "timestamp": 1664474962785,
     "user": {
      "displayName": "Claire Vu",
      "userId": "16337834021308321030"
     },
     "user_tz": 420
    },
    "id": "1Lyh_o_FekNk"
   },
   "outputs": [],
   "source": [
    "#Turn data into pivot table form:\n",
    "data_pivoted = data.pivot(index=['Account Number', 'Organization', 'Country', 'CDP Region'], columns=['Question Number'], values=['Response Answer'])"
   ]
  },
  {
   "cell_type": "code",
   "execution_count": 30,
   "metadata": {
    "executionInfo": {
     "elapsed": 41,
     "status": "ok",
     "timestamp": 1664474962785,
     "user": {
      "displayName": "Claire Vu",
      "userId": "16337834021308321030"
     },
     "user_tz": 420
    },
    "id": "uj-MT63TJLSX"
   },
   "outputs": [],
   "source": [
    "# Reset index and column names\n",
    "data_pivoted.reset_index(inplace=True)\n",
    "data_pivoted.columns = list(data.columns[:4]) +  [col[1] for col in data_pivoted.columns][4:]"
   ]
  },
  {
   "cell_type": "code",
   "execution_count": 31,
   "metadata": {
    "colab": {
     "base_uri": "https://localhost:8080/"
    },
    "executionInfo": {
     "elapsed": 42,
     "status": "ok",
     "timestamp": 1664474962786,
     "user": {
      "displayName": "Claire Vu",
      "userId": "16337834021308321030"
     },
     "user_tz": 420
    },
    "id": "1-E13jO0QAa0",
    "outputId": "96f5fa42-32de-48e0-b7df-36cb05c82e86"
   },
   "outputs": [
    {
     "data": {
      "text/plain": [
       "1.9     770\n",
       "6.11    785\n",
       "8.4     776\n",
       "10.4    789\n",
       "11.0    785\n",
       "11.1    784\n",
       "12.0    699\n",
       "12.1    791\n",
       "12.2    787\n",
       "12.3    793\n",
       "13.1    776\n",
       "13.2    773\n",
       "14.2    558\n",
       "dtype: int64"
      ]
     },
     "execution_count": 31,
     "metadata": {},
     "output_type": "execute_result"
    }
   ],
   "source": [
    "# Check NaN\n",
    "data_pivoted[q_use_num['Question Number']].isna().sum()"
   ]
  },
  {
   "cell_type": "markdown",
   "metadata": {
    "id": "4I_LUwn_tuYv"
   },
   "source": [
    "We decided to not use numerical questions as 90% of their answers are NaN, which would give us little to no information."
   ]
  },
  {
   "cell_type": "code",
   "execution_count": 32,
   "metadata": {
    "colab": {
     "base_uri": "https://localhost:8080/",
     "height": 543
    },
    "executionInfo": {
     "elapsed": 441,
     "status": "ok",
     "timestamp": 1664474963188,
     "user": {
      "displayName": "Claire Vu",
      "userId": "16337834021308321030"
     },
     "user_tz": 420
    },
    "id": "vKTdHlbhreuP",
    "outputId": "64d109c0-e16a-4566-9f80-1355b49a903d"
   },
   "outputs": [
    {
     "data": {
      "text/html": [
       "\n",
       "  <div id=\"df-c124e5ee-2301-441f-bf87-1e79b3347dcf\">\n",
       "    <div class=\"colab-df-container\">\n",
       "      <div>\n",
       "<style scoped>\n",
       "    .dataframe tbody tr th:only-of-type {\n",
       "        vertical-align: middle;\n",
       "    }\n",
       "\n",
       "    .dataframe tbody tr th {\n",
       "        vertical-align: top;\n",
       "    }\n",
       "\n",
       "    .dataframe thead th {\n",
       "        text-align: right;\n",
       "    }\n",
       "</style>\n",
       "<table border=\"1\" class=\"dataframe\">\n",
       "  <thead>\n",
       "    <tr style=\"text-align: right;\">\n",
       "      <th></th>\n",
       "      <th>Account Number</th>\n",
       "      <th>Organization</th>\n",
       "      <th>Country</th>\n",
       "      <th>CDP Region</th>\n",
       "      <th>1.0</th>\n",
       "      <th>1.1</th>\n",
       "      <th>1.12_1</th>\n",
       "      <th>1.12_2</th>\n",
       "      <th>1.12_3</th>\n",
       "      <th>1.12_4</th>\n",
       "      <th>...</th>\n",
       "      <th>6.1</th>\n",
       "      <th>6.3</th>\n",
       "      <th>6.4</th>\n",
       "      <th>6.6</th>\n",
       "      <th>6.9</th>\n",
       "      <th>7.0</th>\n",
       "      <th>8.0</th>\n",
       "      <th>8.1</th>\n",
       "      <th>8.6</th>\n",
       "      <th>9.3</th>\n",
       "    </tr>\n",
       "  </thead>\n",
       "  <tbody>\n",
       "    <tr>\n",
       "      <th>0</th>\n",
       "      <td>1093</td>\n",
       "      <td>City of Atlanta</td>\n",
       "      <td>United States of America</td>\n",
       "      <td>North America</td>\n",
       "      <td>No</td>\n",
       "      <td>Yes</td>\n",
       "      <td>No</td>\n",
       "      <td>No</td>\n",
       "      <td>No</td>\n",
       "      <td>No</td>\n",
       "      <td>...</td>\n",
       "      <td>No</td>\n",
       "      <td>No</td>\n",
       "      <td>No</td>\n",
       "      <td>No</td>\n",
       "      <td>No</td>\n",
       "      <td>No</td>\n",
       "      <td>No</td>\n",
       "      <td>No</td>\n",
       "      <td>Yes</td>\n",
       "      <td>No</td>\n",
       "    </tr>\n",
       "    <tr>\n",
       "      <th>1</th>\n",
       "      <td>1184</td>\n",
       "      <td>City of Austin</td>\n",
       "      <td>United States of America</td>\n",
       "      <td>North America</td>\n",
       "      <td>No</td>\n",
       "      <td>No</td>\n",
       "      <td>Yes</td>\n",
       "      <td>Yes</td>\n",
       "      <td>Yes</td>\n",
       "      <td>No</td>\n",
       "      <td>...</td>\n",
       "      <td>No</td>\n",
       "      <td>No</td>\n",
       "      <td>No</td>\n",
       "      <td>Do not know</td>\n",
       "      <td>No</td>\n",
       "      <td>Yes</td>\n",
       "      <td>No</td>\n",
       "      <td>Yes</td>\n",
       "      <td>No</td>\n",
       "      <td>No</td>\n",
       "    </tr>\n",
       "    <tr>\n",
       "      <th>2</th>\n",
       "      <td>1499</td>\n",
       "      <td>Ajuntament de Barcelona</td>\n",
       "      <td>Spain</td>\n",
       "      <td>Europe</td>\n",
       "      <td>No</td>\n",
       "      <td>Yes</td>\n",
       "      <td>No</td>\n",
       "      <td>Yes</td>\n",
       "      <td>No</td>\n",
       "      <td>Yes</td>\n",
       "      <td>...</td>\n",
       "      <td>Yes</td>\n",
       "      <td>No</td>\n",
       "      <td>No</td>\n",
       "      <td>No</td>\n",
       "      <td>Yes</td>\n",
       "      <td>Yes</td>\n",
       "      <td>No</td>\n",
       "      <td>No</td>\n",
       "      <td>Not intending to undertake</td>\n",
       "      <td>No</td>\n",
       "    </tr>\n",
       "    <tr>\n",
       "      <th>3</th>\n",
       "      <td>2028</td>\n",
       "      <td>City of Bonn</td>\n",
       "      <td>Germany</td>\n",
       "      <td>Europe</td>\n",
       "      <td>Yes</td>\n",
       "      <td>Yes</td>\n",
       "      <td>No</td>\n",
       "      <td>No</td>\n",
       "      <td>No</td>\n",
       "      <td>No</td>\n",
       "      <td>...</td>\n",
       "      <td>No</td>\n",
       "      <td>No</td>\n",
       "      <td>No</td>\n",
       "      <td>No</td>\n",
       "      <td>No</td>\n",
       "      <td>Yes</td>\n",
       "      <td>No</td>\n",
       "      <td>No</td>\n",
       "      <td>No</td>\n",
       "      <td>No</td>\n",
       "    </tr>\n",
       "    <tr>\n",
       "      <th>4</th>\n",
       "      <td>2185</td>\n",
       "      <td>Bristol City Council</td>\n",
       "      <td>United Kingdom of Great Britain and Northern I...</td>\n",
       "      <td>Europe</td>\n",
       "      <td>No</td>\n",
       "      <td>Yes</td>\n",
       "      <td>No</td>\n",
       "      <td>No</td>\n",
       "      <td>No</td>\n",
       "      <td>No</td>\n",
       "      <td>...</td>\n",
       "      <td>No</td>\n",
       "      <td>No</td>\n",
       "      <td>No</td>\n",
       "      <td>No</td>\n",
       "      <td>No</td>\n",
       "      <td>Yes</td>\n",
       "      <td>No</td>\n",
       "      <td>No</td>\n",
       "      <td>No</td>\n",
       "      <td>No</td>\n",
       "    </tr>\n",
       "  </tbody>\n",
       "</table>\n",
       "<p>5 rows × 50 columns</p>\n",
       "</div>\n",
       "      <button class=\"colab-df-convert\" onclick=\"convertToInteractive('df-c124e5ee-2301-441f-bf87-1e79b3347dcf')\"\n",
       "              title=\"Convert this dataframe to an interactive table.\"\n",
       "              style=\"display:none;\">\n",
       "        \n",
       "  <svg xmlns=\"http://www.w3.org/2000/svg\" height=\"24px\"viewBox=\"0 0 24 24\"\n",
       "       width=\"24px\">\n",
       "    <path d=\"M0 0h24v24H0V0z\" fill=\"none\"/>\n",
       "    <path d=\"M18.56 5.44l.94 2.06.94-2.06 2.06-.94-2.06-.94-.94-2.06-.94 2.06-2.06.94zm-11 1L8.5 8.5l.94-2.06 2.06-.94-2.06-.94L8.5 2.5l-.94 2.06-2.06.94zm10 10l.94 2.06.94-2.06 2.06-.94-2.06-.94-.94-2.06-.94 2.06-2.06.94z\"/><path d=\"M17.41 7.96l-1.37-1.37c-.4-.4-.92-.59-1.43-.59-.52 0-1.04.2-1.43.59L10.3 9.45l-7.72 7.72c-.78.78-.78 2.05 0 2.83L4 21.41c.39.39.9.59 1.41.59.51 0 1.02-.2 1.41-.59l7.78-7.78 2.81-2.81c.8-.78.8-2.07 0-2.86zM5.41 20L4 18.59l7.72-7.72 1.47 1.35L5.41 20z\"/>\n",
       "  </svg>\n",
       "      </button>\n",
       "      \n",
       "  <style>\n",
       "    .colab-df-container {\n",
       "      display:flex;\n",
       "      flex-wrap:wrap;\n",
       "      gap: 12px;\n",
       "    }\n",
       "\n",
       "    .colab-df-convert {\n",
       "      background-color: #E8F0FE;\n",
       "      border: none;\n",
       "      border-radius: 50%;\n",
       "      cursor: pointer;\n",
       "      display: none;\n",
       "      fill: #1967D2;\n",
       "      height: 32px;\n",
       "      padding: 0 0 0 0;\n",
       "      width: 32px;\n",
       "    }\n",
       "\n",
       "    .colab-df-convert:hover {\n",
       "      background-color: #E2EBFA;\n",
       "      box-shadow: 0px 1px 2px rgba(60, 64, 67, 0.3), 0px 1px 3px 1px rgba(60, 64, 67, 0.15);\n",
       "      fill: #174EA6;\n",
       "    }\n",
       "\n",
       "    [theme=dark] .colab-df-convert {\n",
       "      background-color: #3B4455;\n",
       "      fill: #D2E3FC;\n",
       "    }\n",
       "\n",
       "    [theme=dark] .colab-df-convert:hover {\n",
       "      background-color: #434B5C;\n",
       "      box-shadow: 0px 1px 3px 1px rgba(0, 0, 0, 0.15);\n",
       "      filter: drop-shadow(0px 1px 2px rgba(0, 0, 0, 0.3));\n",
       "      fill: #FFFFFF;\n",
       "    }\n",
       "  </style>\n",
       "\n",
       "      <script>\n",
       "        const buttonEl =\n",
       "          document.querySelector('#df-c124e5ee-2301-441f-bf87-1e79b3347dcf button.colab-df-convert');\n",
       "        buttonEl.style.display =\n",
       "          google.colab.kernel.accessAllowed ? 'block' : 'none';\n",
       "\n",
       "        async function convertToInteractive(key) {\n",
       "          const element = document.querySelector('#df-c124e5ee-2301-441f-bf87-1e79b3347dcf');\n",
       "          const dataTable =\n",
       "            await google.colab.kernel.invokeFunction('convertToInteractive',\n",
       "                                                     [key], {});\n",
       "          if (!dataTable) return;\n",
       "\n",
       "          const docLinkHtml = 'Like what you see? Visit the ' +\n",
       "            '<a target=\"_blank\" href=https://colab.research.google.com/notebooks/data_table.ipynb>data table notebook</a>'\n",
       "            + ' to learn more about interactive tables.';\n",
       "          element.innerHTML = '';\n",
       "          dataTable['output_type'] = 'display_data';\n",
       "          await google.colab.output.renderOutput(dataTable, element);\n",
       "          const docLink = document.createElement('div');\n",
       "          docLink.innerHTML = docLinkHtml;\n",
       "          element.appendChild(docLink);\n",
       "        }\n",
       "      </script>\n",
       "    </div>\n",
       "  </div>\n",
       "  "
      ],
      "text/plain": [
       "   Account Number             Organization  \\\n",
       "0            1093          City of Atlanta   \n",
       "1            1184           City of Austin   \n",
       "2            1499  Ajuntament de Barcelona   \n",
       "3            2028             City of Bonn   \n",
       "4            2185     Bristol City Council   \n",
       "\n",
       "                                             Country     CDP Region  1.0  1.1  \\\n",
       "0                           United States of America  North America   No  Yes   \n",
       "1                           United States of America  North America   No   No   \n",
       "2                                              Spain         Europe   No  Yes   \n",
       "3                                            Germany         Europe  Yes  Yes   \n",
       "4  United Kingdom of Great Britain and Northern I...         Europe   No  Yes   \n",
       "\n",
       "  1.12_1 1.12_2 1.12_3 1.12_4  ...  6.1 6.3 6.4          6.6  6.9  7.0 8.0  \\\n",
       "0     No     No     No     No  ...   No  No  No           No   No   No  No   \n",
       "1    Yes    Yes    Yes     No  ...   No  No  No  Do not know   No  Yes  No   \n",
       "2     No    Yes     No    Yes  ...  Yes  No  No           No  Yes  Yes  No   \n",
       "3     No     No     No     No  ...   No  No  No           No   No  Yes  No   \n",
       "4     No     No     No     No  ...   No  No  No           No   No  Yes  No   \n",
       "\n",
       "   8.1                         8.6 9.3  \n",
       "0   No                         Yes  No  \n",
       "1  Yes                          No  No  \n",
       "2   No  Not intending to undertake  No  \n",
       "3   No                          No  No  \n",
       "4   No                          No  No  \n",
       "\n",
       "[5 rows x 50 columns]"
      ]
     },
     "execution_count": 32,
     "metadata": {},
     "output_type": "execute_result"
    }
   ],
   "source": [
    "# Replace the answers of select-all-that-apply questions to Yes-No\n",
    "for qn in new_sata_qn:\n",
    "  data_pivoted.loc[~(data_pivoted[qn].isnull()), qn] = \"Yes\"\n",
    "  data_pivoted.loc[data_pivoted[qn].isnull(), qn] = \"No\"\n",
    "\n",
    "# Fill all other NaN with 'No' for categorical\n",
    "data_pivoted[q_use_mc['Question Number']] = data_pivoted[q_use_mc['Question Number']].fillna('No')\n",
    "data_pivoted.drop(q_use_num['Question Number'], axis=1, inplace=True)\n",
    "\n",
    "data_pivoted.head()"
   ]
  },
  {
   "cell_type": "markdown",
   "metadata": {
    "id": "IZuiWWTFob4v"
   },
   "source": [
    "## **5 - Hierarchical Clustering**"
   ]
  },
  {
   "cell_type": "markdown",
   "metadata": {
    "id": "8PZzfPlqwPz4"
   },
   "source": [
    "We have 46 usable questions for each city in which the answers are categorical. If we want to turn them into numerical there would be to > 100 features to use, which are too many for 810 observations. Additionally, since most of these questions ask about urban planning and environment, the chance that these questions are correlated is high. Thus, we decide to perform Multiple Correspondence Analysis on our question data. We choose this dimension reduction technique because our data is categorical. "
   ]
  },
  {
   "cell_type": "code",
   "execution_count": 35,
   "metadata": {
    "colab": {
     "base_uri": "https://localhost:8080/"
    },
    "executionInfo": {
     "elapsed": 5435,
     "status": "ok",
     "timestamp": 1664474980613,
     "user": {
      "displayName": "Claire Vu",
      "userId": "16337834021308321030"
     },
     "user_tz": 420
    },
    "id": "NicqOcAcQwb7",
    "outputId": "0bb04926-aeb2-4b2b-feab-1e5737b20b49"
   },
   "outputs": [
    {
     "name": "stdout",
     "output_type": "stream",
     "text": [
      "Looking in indexes: https://pypi.org/simple, https://us-python.pkg.dev/colab-wheels/public/simple/\n",
      "Collecting prince\n",
      "  Downloading prince-0.7.1-py3-none-any.whl (21 kB)\n",
      "Requirement already satisfied: scipy>=1.3.0 in /usr/local/lib/python3.7/dist-packages (from prince) (1.7.3)\n",
      "Requirement already satisfied: pandas>=1.0.3 in /usr/local/lib/python3.7/dist-packages (from prince) (1.3.5)\n",
      "Requirement already satisfied: matplotlib>=3.0.2 in /usr/local/lib/python3.7/dist-packages (from prince) (3.2.2)\n",
      "Requirement already satisfied: scikit-learn>=0.22.1 in /usr/local/lib/python3.7/dist-packages (from prince) (1.0.2)\n",
      "Requirement already satisfied: numpy>=1.17.1 in /usr/local/lib/python3.7/dist-packages (from prince) (1.21.6)\n",
      "Requirement already satisfied: python-dateutil>=2.1 in /usr/local/lib/python3.7/dist-packages (from matplotlib>=3.0.2->prince) (2.8.2)\n",
      "Requirement already satisfied: cycler>=0.10 in /usr/local/lib/python3.7/dist-packages (from matplotlib>=3.0.2->prince) (0.11.0)\n",
      "Requirement already satisfied: pyparsing!=2.0.4,!=2.1.2,!=2.1.6,>=2.0.1 in /usr/local/lib/python3.7/dist-packages (from matplotlib>=3.0.2->prince) (3.0.9)\n",
      "Requirement already satisfied: kiwisolver>=1.0.1 in /usr/local/lib/python3.7/dist-packages (from matplotlib>=3.0.2->prince) (1.4.4)\n",
      "Requirement already satisfied: typing-extensions in /usr/local/lib/python3.7/dist-packages (from kiwisolver>=1.0.1->matplotlib>=3.0.2->prince) (4.1.1)\n",
      "Requirement already satisfied: pytz>=2017.3 in /usr/local/lib/python3.7/dist-packages (from pandas>=1.0.3->prince) (2022.2.1)\n",
      "Requirement already satisfied: six>=1.5 in /usr/local/lib/python3.7/dist-packages (from python-dateutil>=2.1->matplotlib>=3.0.2->prince) (1.15.0)\n",
      "Requirement already satisfied: threadpoolctl>=2.0.0 in /usr/local/lib/python3.7/dist-packages (from scikit-learn>=0.22.1->prince) (3.1.0)\n",
      "Requirement already satisfied: joblib>=0.11 in /usr/local/lib/python3.7/dist-packages (from scikit-learn>=0.22.1->prince) (1.1.0)\n",
      "Installing collected packages: prince\n",
      "Successfully installed prince-0.7.1\n"
     ]
    }
   ],
   "source": [
    "! pip install prince "
   ]
  },
  {
   "cell_type": "code",
   "execution_count": 36,
   "metadata": {
    "executionInfo": {
     "elapsed": 7,
     "status": "ok",
     "timestamp": 1664474984804,
     "user": {
      "displayName": "Claire Vu",
      "userId": "16337834021308321030"
     },
     "user_tz": 420
    },
    "id": "KU2C8ue-M9zW"
   },
   "outputs": [],
   "source": [
    "import prince #import prince for MCA "
   ]
  },
  {
   "cell_type": "markdown",
   "metadata": {
    "id": "RIarfWXzMZ8-"
   },
   "source": [
    "After the installation for Prince library is done, we can instantiate MCA. Because we will use unsupervised learning (clustering) in this project, we cannot tune MCA hyperparameters using cross validation and GridSearch/RandomizedSearch. Instead, since we want to visualize clusters, we opt for 2 components that will be used as x-axis and y-axis in cluster plots later. In the [Prince library](https://github.com/MaxHalford/prince), they also mention n_components = 2 is enough if users want to use chart. "
   ]
  },
  {
   "cell_type": "code",
   "execution_count": 37,
   "metadata": {
    "executionInfo": {
     "elapsed": 8,
     "status": "ok",
     "timestamp": 1664474984805,
     "user": {
      "displayName": "Claire Vu",
      "userId": "16337834021308321030"
     },
     "user_tz": 420
    },
    "id": "qoKPVRf1NAET"
   },
   "outputs": [],
   "source": [
    "#Instantiate MCA\n",
    "mca = prince.MCA(\n",
    "     n_components=2,\n",
    "     random_state=862\n",
    ")\n",
    "\n",
    "X = data_pivoted.iloc[:,4:] #X is the question data for all cities \n",
    "mcaX = mca.fit_transform(X) #Perform MCA on X"
   ]
  },
  {
   "cell_type": "code",
   "execution_count": 38,
   "metadata": {
    "colab": {
     "base_uri": "https://localhost:8080/"
    },
    "executionInfo": {
     "elapsed": 7,
     "status": "ok",
     "timestamp": 1664474984805,
     "user": {
      "displayName": "Claire Vu",
      "userId": "16337834021308321030"
     },
     "user_tz": 420
    },
    "id": "PcLXMV7mNByD",
    "outputId": "c9e95077-c499-4485-c0e9-abf535af0a6b"
   },
   "outputs": [
    {
     "name": "stdout",
     "output_type": "stream",
     "text": [
      "[0.04976353463908195, 0.028778315463600636]\n"
     ]
    }
   ],
   "source": [
    "#Print out explained inertia to see how much data information the new mcaX can cover \n",
    "print(mca.explained_inertia_)"
   ]
  },
  {
   "cell_type": "markdown",
   "metadata": {
    "id": "J-BVi3j1MqCU"
   },
   "source": [
    "Only ~15% of the inertia the 2 components can contribute, which is low. However, we still want to test if these 2 components are really not that helpful by using them for clustering. For hierarchical clustering, first we decide the number of clusters using a dendrogram."
   ]
  },
  {
   "cell_type": "code",
   "execution_count": 39,
   "metadata": {
    "executionInfo": {
     "elapsed": 7,
     "status": "ok",
     "timestamp": 1664474984806,
     "user": {
      "displayName": "Claire Vu",
      "userId": "16337834021308321030"
     },
     "user_tz": 420
    },
    "id": "x2iycFuHNEiC"
   },
   "outputs": [],
   "source": [
    "import matplotlib.pyplot as plt\n",
    "%matplotlib inline"
   ]
  },
  {
   "cell_type": "code",
   "execution_count": 40,
   "metadata": {
    "colab": {
     "base_uri": "https://localhost:8080/",
     "height": 295
    },
    "executionInfo": {
     "elapsed": 20255,
     "status": "ok",
     "timestamp": 1664475005054,
     "user": {
      "displayName": "Claire Vu",
      "userId": "16337834021308321030"
     },
     "user_tz": 420
    },
    "id": "BanAAOaeNICZ",
    "outputId": "b5149806-684d-4261-8cac-b716a57775ff"
   },
   "outputs": [
    {
     "data": {
      "image/png": "[encoded data removed]",
      "text/plain": [
       "<Figure size 432x288 with 1 Axes>"
      ]
     },
     "metadata": {
      "needs_background": "light"
     },
     "output_type": "display_data"
    }
   ],
   "source": [
    "import scipy.cluster.hierarchy as sch\n",
    "dendrogram = sch.dendrogram(sch.linkage(mcaX, method = 'average'))\n",
    "plt.title('Dendrogram')\n",
    "plt.xlabel('Observations')\n",
    "plt.ylabel('Distance')\n",
    "plt.show()"
   ]
  },
  {
   "cell_type": "markdown",
   "metadata": {
    "id": "XmDkrKhCMxdy"
   },
   "source": [
    "The dendogram tells us to go for 2 clusters, which are probably just the left and the right blobs of data. To see if a bigger number performs better, we'll also try 3 clusters. When instantiating AgglomerativeClutering, we are using 'cosine' affinity and 'average' linkage. Since the original data is categorical and text, Euclidean might not be able to capture the relationships between observations as well as cosine, thus we cannot use 'ward' linkage ('ward' can only be used for Euclidean)."
   ]
  },
  {
   "cell_type": "code",
   "execution_count": 41,
   "metadata": {
    "colab": {
     "base_uri": "https://localhost:8080/"
    },
    "executionInfo": {
     "elapsed": 14,
     "status": "ok",
     "timestamp": 1664475005054,
     "user": {
      "displayName": "Claire Vu",
      "userId": "16337834021308321030"
     },
     "user_tz": 420
    },
    "id": "b4pqOgP8vKFx",
    "outputId": "5a981f3f-98fe-4c76-b589-bd74fb850516"
   },
   "outputs": [
    {
     "data": {
      "text/plain": [
       "AgglomerativeClustering(affinity='cosine', linkage='average', n_clusters=3)"
      ]
     },
     "execution_count": 41,
     "metadata": {},
     "output_type": "execute_result"
    }
   ],
   "source": [
    "from sklearn.cluster import AgglomerativeClustering\n",
    "\n",
    "AC2 = AgglomerativeClustering(n_clusters = 2, affinity='cosine',linkage='average') \n",
    "AC2.fit(mcaX)\n",
    "\n",
    "AC3 = AgglomerativeClustering(n_clusters = 3, affinity='cosine',linkage='average') \n",
    "AC3.fit(mcaX)"
   ]
  },
  {
   "cell_type": "markdown",
   "metadata": {
    "id": "Kr-Ir3KCM4vy"
   },
   "source": [
    "Let's print out the number of observations that belong to each cluster to compare the difference between 2 and 3 clusters:"
   ]
  },
  {
   "cell_type": "code",
   "execution_count": 42,
   "metadata": {
    "colab": {
     "base_uri": "https://localhost:8080/"
    },
    "executionInfo": {
     "elapsed": 11,
     "status": "ok",
     "timestamp": 1664475005055,
     "user": {
      "displayName": "Claire Vu",
      "userId": "16337834021308321030"
     },
     "user_tz": 420
    },
    "id": "5aCH_2VdvMX9",
    "outputId": "c171b850-1de1-4e12-e37d-c6139ff66543"
   },
   "outputs": [
    {
     "name": "stdout",
     "output_type": "stream",
     "text": [
      "Counter({0: 702, 1: 102})\n",
      "Counter({2: 421, 1: 281, 0: 102})\n"
     ]
    }
   ],
   "source": [
    "import collections\n",
    "print(collections.Counter(AC2.fit_predict(mcaX)))\n",
    "print(collections.Counter(AC3.fit_predict(mcaX)))"
   ]
  },
  {
   "cell_type": "markdown",
   "metadata": {
    "id": "pNNtOeOBNAJE"
   },
   "source": [
    "When we use 3 clusters, observations with label 1 using AC2 still stay in the same group, which is pretty impressive. On the other hand, 93 observations leave label 0 to form their own group, label 2. Now, let's visualize the clusters to decide which number of clusters performs better."
   ]
  },
  {
   "cell_type": "code",
   "execution_count": 43,
   "metadata": {
    "colab": {
     "base_uri": "https://localhost:8080/",
     "height": 390
    },
    "executionInfo": {
     "elapsed": 503,
     "status": "ok",
     "timestamp": 1664475005552,
     "user": {
      "displayName": "Claire Vu",
      "userId": "16337834021308321030"
     },
     "user_tz": 420
    },
    "id": "B6GSnkwAvNJA",
    "outputId": "c6f0df63-645b-4bf8-c376-b5b4f95cf291"
   },
   "outputs": [
    {
     "data": {
      "image/png": "[encoded data removed]",
      "text/plain": [
       "<Figure size 1080x432 with 2 Axes>"
      ]
     },
     "metadata": {
      "needs_background": "light"
     },
     "output_type": "display_data"
    }
   ],
   "source": [
    "plt.figure(figsize=(15, 6))\n",
    "\n",
    "plt.subplot(121)\n",
    "plt.scatter(mcaX.iloc[:,0], mcaX.iloc[:,1], c = AC2.labels_)\n",
    "plt.title('2 Clusters')\n",
    "\n",
    "plt.subplot(122)\n",
    "plt.scatter(mcaX.iloc[:,0], mcaX.iloc[:,1], c = AC3.labels_)\n",
    "plt.title('3 Clusters')\n",
    "\n",
    "plt.show()"
   ]
  },
  {
   "cell_type": "markdown",
   "metadata": {
    "id": "u7vuZOyKNEpT"
   },
   "source": [
    "Even though we were afraid that the 2 components wouldn't help much with \n",
    "clustering, the results are decent! It is clear that AC3 outperforms AC2 as it is able to detect the \"yellow\" group where observations stay far from each other. AC2 couldn't do that, instead it mixes the \"yellow\" group with \"purple\" observations. Now let's store these labels for later use:"
   ]
  },
  {
   "cell_type": "code",
   "execution_count": 44,
   "metadata": {
    "executionInfo": {
     "elapsed": 4,
     "status": "ok",
     "timestamp": 1664475005553,
     "user": {
      "displayName": "Claire Vu",
      "userId": "16337834021308321030"
     },
     "user_tz": 420
    },
    "id": "kFdPstrONIyV"
   },
   "outputs": [],
   "source": [
    "AClabels = list(AC3.labels_)\n",
    "data_pivoted['AC_labels'] = AClabels"
   ]
  },
  {
   "cell_type": "markdown",
   "metadata": {
    "id": "-xGHMOuJi3dI"
   },
   "source": [
    "## **6 - K-means Clustering**"
   ]
  },
  {
   "cell_type": "markdown",
   "metadata": {
    "id": "M8dF_GUMsl5-"
   },
   "source": [
    "We decided to use K-means clustering as an additional method to validate the results we see from the Hirarchical clustering. As there is no particular response variable. We will be using inertial and silhouette score to find out what is the optimum number of clusters we could use."
   ]
  },
  {
   "cell_type": "code",
   "execution_count": 45,
   "metadata": {
    "colab": {
     "base_uri": "https://localhost:8080/",
     "height": 503
    },
    "executionInfo": {
     "elapsed": 567,
     "status": "ok",
     "timestamp": 1664475006116,
     "user": {
      "displayName": "Claire Vu",
      "userId": "16337834021308321030"
     },
     "user_tz": 420
    },
    "id": "TPGuCf1euC6V",
    "outputId": "bbb51e8d-742d-442d-8e8a-dec801cbaaf7"
   },
   "outputs": [
    {
     "data": {
      "image/png": "[encoded data removed]",
      "text/plain": [
       "<Figure size 1080x576 with 1 Axes>"
      ]
     },
     "metadata": {
      "needs_background": "light"
     },
     "output_type": "display_data"
    }
   ],
   "source": [
    "# Find best K\n",
    "from sklearn.cluster import KMeans\n",
    "\n",
    "# Fit the models with MCA transformed data\n",
    "kmeans_per_k = [KMeans(n_clusters=k, random_state=42).fit(mcaX)\n",
    "                for k in range(1, 15)]\n",
    "\n",
    "# Extract the inertia for each model\n",
    "inertias = [model.inertia_ for model in kmeans_per_k]\n",
    "\n",
    "# Plot the inertia\n",
    "plt.figure(figsize=(15, 8))\n",
    "plt.plot(range(1, 15), inertias, \"bo-\")\n",
    "plt.xlabel(\"$k$\", fontsize=15)\n",
    "plt.ylabel(\"Inertia\", fontsize=15)\n",
    "\n",
    "plt.show()"
   ]
  },
  {
   "cell_type": "code",
   "execution_count": 46,
   "metadata": {
    "colab": {
     "base_uri": "https://localhost:8080/",
     "height": 503
    },
    "executionInfo": {
     "elapsed": 623,
     "status": "ok",
     "timestamp": 1664475006734,
     "user": {
      "displayName": "Claire Vu",
      "userId": "16337834021308321030"
     },
     "user_tz": 420
    },
    "id": "oNNUFiyyuDEg",
    "outputId": "2ac0ce7f-2414-41aa-8c63-0849e09c4d5e"
   },
   "outputs": [
    {
     "data": {
      "image/png": "[encoded data removed]",
      "text/plain": [
       "<Figure size 1080x576 with 1 Axes>"
      ]
     },
     "metadata": {
      "needs_background": "light"
     },
     "output_type": "display_data"
    }
   ],
   "source": [
    "# Import\n",
    "from sklearn.metrics import silhouette_score\n",
    "\n",
    "# Get the Silhouette scores \n",
    "silhouette_scores = [silhouette_score(mcaX, model.labels_)\n",
    "                     for model in kmeans_per_k[1:]]\n",
    "\n",
    "\n",
    "plt.figure(figsize=(15, 8))\n",
    "\n",
    "plt.plot(range(2, 15), silhouette_scores, \"bo-\")\n",
    "\n",
    "plt.xlabel(\"$k$\", fontsize=15)\n",
    "plt.ylabel(\"Silhouette score\", fontsize=15)\n",
    "\n",
    "plt.show()"
   ]
  },
  {
   "cell_type": "markdown",
   "metadata": {
    "id": "qNjQeswYuR4t"
   },
   "source": [
    "Selecting 3 clusters based on inertia and silhouette score."
   ]
  },
  {
   "cell_type": "code",
   "execution_count": 47,
   "metadata": {
    "colab": {
     "base_uri": "https://localhost:8080/"
    },
    "executionInfo": {
     "elapsed": 15,
     "status": "ok",
     "timestamp": 1664475006734,
     "user": {
      "displayName": "Claire Vu",
      "userId": "16337834021308321030"
     },
     "user_tz": 420
    },
    "id": "GoZEPClHuDUF",
    "outputId": "2e35dea7-287b-44b3-d97b-a075fc05886b"
   },
   "outputs": [
    {
     "name": "stdout",
     "output_type": "stream",
     "text": [
      "[0 1 1 0 0 0 1 1 1 1 0 0 1 0 1 0 0 1 1 0 1 1 0 0 0 0 1 1 0 1 0 0 1 1 1 1 1\n",
      " 1 1 0 0 0 1 1 0 0 1 1 1 0 1 0 1 1 1 1 1 0 0 1 0 1 1 1 1 1 0 0 0 1 0 0 0 0\n",
      " 0 0 0 0 0 1 0 1 0 1 0 0 1 0 0 0 0 0 0 0 0 0 0 0 0 0 1 1 0 0 0 1 1 0 0 1 1\n",
      " 1 0 1 1 0 0 1 0 0 0 0 1 0 1 0 0 0 0 0 0 0 0 0 0 0 0 0 0 0 0 0 0 0 0 0 0 0\n",
      " 1 0 1 2 0 0 0 0 0 0 0 0 0 0 0 0 0 1 0 0 1 0 0 0 0 0 0 0 0 0 0 0 0 0 0 0 0\n",
      " 0 0 0 0 0 0 0 0 0 0 0 0 0 0 0 0 0 0 0 0 0 0 0 0 0 0 0 0 0 0 0 0 0 0 0 0 0\n",
      " 0 0 0 0 0 0 0 0 0 0 0 0 0 0 0 0 0 0 0 0 0 0 0 0 0 0 0 0 0 0 0 0 0 0 0 0 0\n",
      " 0 0 0 0 0 0 0 0 0 0 0 0 0 2 0 0 0 0 0 0 0 0 0 0 0 0 0 0 0 0 0 0 0 0 0 0 0\n",
      " 0 0 0 0 0 0 0 0 0 0 0 0 0 0 1 0 0 0 1 0 0 0 0 0 1 0 0 0 0 0 0 0 0 0 0 0 0\n",
      " 0 0 0 0 0 0 0 0 0 0 0 0 0 0 0 0 0 0 0 0 0 0 0 0 0 0 0 0 0 0 0 0 0 0 2 0 0\n",
      " 0 0 0 0 0 0 0 0 0 0 0 0 0 0 0 0 0 0 0 0 0 0 0 0 0 0 0 0 0 0 0 0 0 0 0 0 0\n",
      " 0 0 0 0 0 0 0 0 0 0 0 0 0 0 0 0 0 0 2 0 0 0 0 0 0 0 0 0 0 0 0 0 0 0 0 0 0\n",
      " 0 0 0 0 0 0 0 0 0 0 0 0 0 0 0 0 0 0 0 0 0 0 0 0 0 0 0 0 0 0 0 0 0 0 0 0 0\n",
      " 0 0 0 0 0 2 0 0 0 0 0 2 0 0 0 2 0 0 0 0 0 0 0 0 0 0 0 0 0 0 0 2 0 0 0 0 0\n",
      " 0 0 0 0 0 0 0 0 0 0 0 0 0 0 0 0 0 2 0 0 0 0 0 0 0 0 0 0 0 0 0 0 0 0 0 0 0\n",
      " 0 0 0 0 0 0 0 0 0 0 0 0 0 0 0 0 0 0 0 0 0 0 0 2 0 0 0 0 0 0 2 0 0 0 0 0 0\n",
      " 0 0 0 0 0 0 0 0 0 0 0 0 0 0 0 0 0 0 0 0 2 0 0 0 0 0 0 0 0 0 0 0 0 0 0 0 0\n",
      " 0 0 0 0 0 0 0 0 0 0 0 0 0 0 0 0 0 0 0 0 0 0 0 0 2 0 0 0 0 0 0 0 0 0 0 0 0\n",
      " 0 0 2 0 0 2 0 0 0 0 0 0 0 0 0 0 0 0 0 0 0 0 0 0 0 0 0 0 0 0 0 0 0 0 0 0 0\n",
      " 0 0 0 0 0 0 0 0 0 0 0 0 0 0 0 0 0 0 0 0 0 0 0 0 0 0 0 0 2 0 0 0 0 0 0 0 0\n",
      " 0 0 0 0 0 0 0 0 0 0 0 0 0 0 0 0 0 0 0 0 0 0 0 0 0 0 2 0 0 0 0 0 0 0 0 0 0\n",
      " 0 0 0 0 0 0 0 0 0 0 0 0 2 0 0 0 0 0 0 2 0 0 0 0 0 0 0]\n"
     ]
    }
   ],
   "source": [
    "# Set up the parameters for K-means\n",
    "kmeans = KMeans(n_clusters=3, init ='k-means++', max_iter=500, n_init=50, random_state=42)\n",
    "\n",
    "labels = kmeans.fit_predict(mcaX)\n",
    "\n",
    "# Check the distribution of labels\n",
    "print(labels)\n",
    "\n",
    "labels = pd.DataFrame(labels, columns=['Kmeans_Label'])"
   ]
  },
  {
   "cell_type": "code",
   "execution_count": 48,
   "metadata": {
    "colab": {
     "base_uri": "https://localhost:8080/",
     "height": 625
    },
    "executionInfo": {
     "elapsed": 285,
     "status": "ok",
     "timestamp": 1664475007010,
     "user": {
      "displayName": "Claire Vu",
      "userId": "16337834021308321030"
     },
     "user_tz": 420
    },
    "id": "HtuOHIQ32P4T",
    "outputId": "b65efb06-bae3-4a8e-a98d-cb8b13b41a0c"
   },
   "outputs": [
    {
     "data": {
      "text/plain": [
       "Text(0.5, 1.0, '3 Clusters')"
      ]
     },
     "execution_count": 48,
     "metadata": {},
     "output_type": "execute_result"
    },
    {
     "data": {
      "image/png": "[encoded data removed]",
      "text/plain": [
       "<Figure size 1080x720 with 1 Axes>"
      ]
     },
     "metadata": {
      "needs_background": "light"
     },
     "output_type": "display_data"
    }
   ],
   "source": [
    "# Visualizing the clusters\n",
    "plt.figure(figsize=(15, 10))\n",
    "\n",
    "plt.scatter(mcaX.iloc[:,0], mcaX.iloc[:,1], c = kmeans.labels_)\n",
    "plt.title('3 Clusters')"
   ]
  },
  {
   "cell_type": "code",
   "execution_count": 49,
   "metadata": {
    "colab": {
     "base_uri": "https://localhost:8080/",
     "height": 956
    },
    "executionInfo": {
     "elapsed": 24,
     "status": "ok",
     "timestamp": 1664475007011,
     "user": {
      "displayName": "Claire Vu",
      "userId": "16337834021308321030"
     },
     "user_tz": 420
    },
    "id": "VgugFa4JuYKR",
    "outputId": "76c95321-2df4-4e40-cd58-08f2c663fad2"
   },
   "outputs": [
    {
     "data": {
      "text/html": [
       "\n",
       "  <div id=\"df-742417d4-fd38-4ee2-9456-cc0116f6cab5\">\n",
       "    <div class=\"colab-df-container\">\n",
       "      <div>\n",
       "<style scoped>\n",
       "    .dataframe tbody tr th:only-of-type {\n",
       "        vertical-align: middle;\n",
       "    }\n",
       "\n",
       "    .dataframe tbody tr th {\n",
       "        vertical-align: top;\n",
       "    }\n",
       "\n",
       "    .dataframe thead th {\n",
       "        text-align: right;\n",
       "    }\n",
       "</style>\n",
       "<table border=\"1\" class=\"dataframe\">\n",
       "  <thead>\n",
       "    <tr style=\"text-align: right;\">\n",
       "      <th></th>\n",
       "      <th>Account Number</th>\n",
       "      <th>Organization</th>\n",
       "      <th>Country</th>\n",
       "      <th>CDP Region</th>\n",
       "      <th>1.0</th>\n",
       "      <th>1.1</th>\n",
       "      <th>1.12_1</th>\n",
       "      <th>1.12_2</th>\n",
       "      <th>1.12_3</th>\n",
       "      <th>1.12_4</th>\n",
       "      <th>...</th>\n",
       "      <th>6.4</th>\n",
       "      <th>6.6</th>\n",
       "      <th>6.9</th>\n",
       "      <th>7.0</th>\n",
       "      <th>8.0</th>\n",
       "      <th>8.1</th>\n",
       "      <th>8.6</th>\n",
       "      <th>9.3</th>\n",
       "      <th>AC_labels</th>\n",
       "      <th>Kmeans_Label</th>\n",
       "    </tr>\n",
       "  </thead>\n",
       "  <tbody>\n",
       "    <tr>\n",
       "      <th>0</th>\n",
       "      <td>1093</td>\n",
       "      <td>City of Atlanta</td>\n",
       "      <td>United States of America</td>\n",
       "      <td>North America</td>\n",
       "      <td>No</td>\n",
       "      <td>Yes</td>\n",
       "      <td>No</td>\n",
       "      <td>No</td>\n",
       "      <td>No</td>\n",
       "      <td>No</td>\n",
       "      <td>...</td>\n",
       "      <td>No</td>\n",
       "      <td>No</td>\n",
       "      <td>No</td>\n",
       "      <td>No</td>\n",
       "      <td>No</td>\n",
       "      <td>No</td>\n",
       "      <td>Yes</td>\n",
       "      <td>No</td>\n",
       "      <td>2</td>\n",
       "      <td>0</td>\n",
       "    </tr>\n",
       "    <tr>\n",
       "      <th>1</th>\n",
       "      <td>1184</td>\n",
       "      <td>City of Austin</td>\n",
       "      <td>United States of America</td>\n",
       "      <td>North America</td>\n",
       "      <td>No</td>\n",
       "      <td>No</td>\n",
       "      <td>Yes</td>\n",
       "      <td>Yes</td>\n",
       "      <td>Yes</td>\n",
       "      <td>No</td>\n",
       "      <td>...</td>\n",
       "      <td>No</td>\n",
       "      <td>Do not know</td>\n",
       "      <td>No</td>\n",
       "      <td>Yes</td>\n",
       "      <td>No</td>\n",
       "      <td>Yes</td>\n",
       "      <td>No</td>\n",
       "      <td>No</td>\n",
       "      <td>0</td>\n",
       "      <td>1</td>\n",
       "    </tr>\n",
       "    <tr>\n",
       "      <th>2</th>\n",
       "      <td>1499</td>\n",
       "      <td>Ajuntament de Barcelona</td>\n",
       "      <td>Spain</td>\n",
       "      <td>Europe</td>\n",
       "      <td>No</td>\n",
       "      <td>Yes</td>\n",
       "      <td>No</td>\n",
       "      <td>Yes</td>\n",
       "      <td>No</td>\n",
       "      <td>Yes</td>\n",
       "      <td>...</td>\n",
       "      <td>No</td>\n",
       "      <td>No</td>\n",
       "      <td>Yes</td>\n",
       "      <td>Yes</td>\n",
       "      <td>No</td>\n",
       "      <td>No</td>\n",
       "      <td>Not intending to undertake</td>\n",
       "      <td>No</td>\n",
       "      <td>0</td>\n",
       "      <td>1</td>\n",
       "    </tr>\n",
       "    <tr>\n",
       "      <th>3</th>\n",
       "      <td>2028</td>\n",
       "      <td>City of Bonn</td>\n",
       "      <td>Germany</td>\n",
       "      <td>Europe</td>\n",
       "      <td>Yes</td>\n",
       "      <td>Yes</td>\n",
       "      <td>No</td>\n",
       "      <td>No</td>\n",
       "      <td>No</td>\n",
       "      <td>No</td>\n",
       "      <td>...</td>\n",
       "      <td>No</td>\n",
       "      <td>No</td>\n",
       "      <td>No</td>\n",
       "      <td>Yes</td>\n",
       "      <td>No</td>\n",
       "      <td>No</td>\n",
       "      <td>No</td>\n",
       "      <td>No</td>\n",
       "      <td>2</td>\n",
       "      <td>0</td>\n",
       "    </tr>\n",
       "    <tr>\n",
       "      <th>4</th>\n",
       "      <td>2185</td>\n",
       "      <td>Bristol City Council</td>\n",
       "      <td>United Kingdom of Great Britain and Northern I...</td>\n",
       "      <td>Europe</td>\n",
       "      <td>No</td>\n",
       "      <td>Yes</td>\n",
       "      <td>No</td>\n",
       "      <td>No</td>\n",
       "      <td>No</td>\n",
       "      <td>No</td>\n",
       "      <td>...</td>\n",
       "      <td>No</td>\n",
       "      <td>No</td>\n",
       "      <td>No</td>\n",
       "      <td>Yes</td>\n",
       "      <td>No</td>\n",
       "      <td>No</td>\n",
       "      <td>No</td>\n",
       "      <td>No</td>\n",
       "      <td>2</td>\n",
       "      <td>0</td>\n",
       "    </tr>\n",
       "    <tr>\n",
       "      <th>...</th>\n",
       "      <td>...</td>\n",
       "      <td>...</td>\n",
       "      <td>...</td>\n",
       "      <td>...</td>\n",
       "      <td>...</td>\n",
       "      <td>...</td>\n",
       "      <td>...</td>\n",
       "      <td>...</td>\n",
       "      <td>...</td>\n",
       "      <td>...</td>\n",
       "      <td>...</td>\n",
       "      <td>...</td>\n",
       "      <td>...</td>\n",
       "      <td>...</td>\n",
       "      <td>...</td>\n",
       "      <td>...</td>\n",
       "      <td>...</td>\n",
       "      <td>...</td>\n",
       "      <td>...</td>\n",
       "      <td>...</td>\n",
       "      <td>...</td>\n",
       "    </tr>\n",
       "    <tr>\n",
       "      <th>799</th>\n",
       "      <td>841154</td>\n",
       "      <td>Municipalidad de Independencia (Peru)</td>\n",
       "      <td>Peru</td>\n",
       "      <td>Latin America</td>\n",
       "      <td>No</td>\n",
       "      <td>No</td>\n",
       "      <td>No</td>\n",
       "      <td>No</td>\n",
       "      <td>No</td>\n",
       "      <td>No</td>\n",
       "      <td>...</td>\n",
       "      <td>No</td>\n",
       "      <td>No</td>\n",
       "      <td>No</td>\n",
       "      <td>Intending to undertake in the next 2 years</td>\n",
       "      <td>No</td>\n",
       "      <td>No</td>\n",
       "      <td>No</td>\n",
       "      <td>No</td>\n",
       "      <td>1</td>\n",
       "      <td>0</td>\n",
       "    </tr>\n",
       "    <tr>\n",
       "      <th>800</th>\n",
       "      <td>841155</td>\n",
       "      <td>Municipalidad de Tarapoto</td>\n",
       "      <td>Peru</td>\n",
       "      <td>Latin America</td>\n",
       "      <td>No</td>\n",
       "      <td>No</td>\n",
       "      <td>No</td>\n",
       "      <td>No</td>\n",
       "      <td>No</td>\n",
       "      <td>No</td>\n",
       "      <td>...</td>\n",
       "      <td>No</td>\n",
       "      <td>No</td>\n",
       "      <td>No</td>\n",
       "      <td>No</td>\n",
       "      <td>In progress</td>\n",
       "      <td>No</td>\n",
       "      <td>Do not know</td>\n",
       "      <td>No</td>\n",
       "      <td>1</td>\n",
       "      <td>0</td>\n",
       "    </tr>\n",
       "    <tr>\n",
       "      <th>801</th>\n",
       "      <td>841269</td>\n",
       "      <td>Municipalidad de Montecarlo</td>\n",
       "      <td>Argentina</td>\n",
       "      <td>Latin America</td>\n",
       "      <td>Intending to incorporate in the next 2 years</td>\n",
       "      <td>Yes</td>\n",
       "      <td>No</td>\n",
       "      <td>No</td>\n",
       "      <td>No</td>\n",
       "      <td>No</td>\n",
       "      <td>...</td>\n",
       "      <td>No</td>\n",
       "      <td>No</td>\n",
       "      <td>No</td>\n",
       "      <td>No</td>\n",
       "      <td>No</td>\n",
       "      <td>No</td>\n",
       "      <td>No</td>\n",
       "      <td>No</td>\n",
       "      <td>2</td>\n",
       "      <td>0</td>\n",
       "    </tr>\n",
       "    <tr>\n",
       "      <th>802</th>\n",
       "      <td>841326</td>\n",
       "      <td>Municipalidad de Oro Verde</td>\n",
       "      <td>Argentina</td>\n",
       "      <td>Latin America</td>\n",
       "      <td>No</td>\n",
       "      <td>Yes</td>\n",
       "      <td>No</td>\n",
       "      <td>No</td>\n",
       "      <td>No</td>\n",
       "      <td>No</td>\n",
       "      <td>...</td>\n",
       "      <td>No</td>\n",
       "      <td>No</td>\n",
       "      <td>No</td>\n",
       "      <td>Yes</td>\n",
       "      <td>No</td>\n",
       "      <td>No</td>\n",
       "      <td>No</td>\n",
       "      <td>No</td>\n",
       "      <td>2</td>\n",
       "      <td>0</td>\n",
       "    </tr>\n",
       "    <tr>\n",
       "      <th>803</th>\n",
       "      <td>841416</td>\n",
       "      <td>Municipalidad de Puerto Esperanza</td>\n",
       "      <td>Argentina</td>\n",
       "      <td>Latin America</td>\n",
       "      <td>In progress</td>\n",
       "      <td>No</td>\n",
       "      <td>No</td>\n",
       "      <td>No</td>\n",
       "      <td>No</td>\n",
       "      <td>No</td>\n",
       "      <td>...</td>\n",
       "      <td>No</td>\n",
       "      <td>No</td>\n",
       "      <td>No</td>\n",
       "      <td>No</td>\n",
       "      <td>No</td>\n",
       "      <td>No</td>\n",
       "      <td>No</td>\n",
       "      <td>No</td>\n",
       "      <td>1</td>\n",
       "      <td>0</td>\n",
       "    </tr>\n",
       "  </tbody>\n",
       "</table>\n",
       "<p>804 rows × 52 columns</p>\n",
       "</div>\n",
       "      <button class=\"colab-df-convert\" onclick=\"convertToInteractive('df-742417d4-fd38-4ee2-9456-cc0116f6cab5')\"\n",
       "              title=\"Convert this dataframe to an interactive table.\"\n",
       "              style=\"display:none;\">\n",
       "        \n",
       "  <svg xmlns=\"http://www.w3.org/2000/svg\" height=\"24px\"viewBox=\"0 0 24 24\"\n",
       "       width=\"24px\">\n",
       "    <path d=\"M0 0h24v24H0V0z\" fill=\"none\"/>\n",
       "    <path d=\"M18.56 5.44l.94 2.06.94-2.06 2.06-.94-2.06-.94-.94-2.06-.94 2.06-2.06.94zm-11 1L8.5 8.5l.94-2.06 2.06-.94-2.06-.94L8.5 2.5l-.94 2.06-2.06.94zm10 10l.94 2.06.94-2.06 2.06-.94-2.06-.94-.94-2.06-.94 2.06-2.06.94z\"/><path d=\"M17.41 7.96l-1.37-1.37c-.4-.4-.92-.59-1.43-.59-.52 0-1.04.2-1.43.59L10.3 9.45l-7.72 7.72c-.78.78-.78 2.05 0 2.83L4 21.41c.39.39.9.59 1.41.59.51 0 1.02-.2 1.41-.59l7.78-7.78 2.81-2.81c.8-.78.8-2.07 0-2.86zM5.41 20L4 18.59l7.72-7.72 1.47 1.35L5.41 20z\"/>\n",
       "  </svg>\n",
       "      </button>\n",
       "      \n",
       "  <style>\n",
       "    .colab-df-container {\n",
       "      display:flex;\n",
       "      flex-wrap:wrap;\n",
       "      gap: 12px;\n",
       "    }\n",
       "\n",
       "    .colab-df-convert {\n",
       "      background-color: #E8F0FE;\n",
       "      border: none;\n",
       "      border-radius: 50%;\n",
       "      cursor: pointer;\n",
       "      display: none;\n",
       "      fill: #1967D2;\n",
       "      height: 32px;\n",
       "      padding: 0 0 0 0;\n",
       "      width: 32px;\n",
       "    }\n",
       "\n",
       "    .colab-df-convert:hover {\n",
       "      background-color: #E2EBFA;\n",
       "      box-shadow: 0px 1px 2px rgba(60, 64, 67, 0.3), 0px 1px 3px 1px rgba(60, 64, 67, 0.15);\n",
       "      fill: #174EA6;\n",
       "    }\n",
       "\n",
       "    [theme=dark] .colab-df-convert {\n",
       "      background-color: #3B4455;\n",
       "      fill: #D2E3FC;\n",
       "    }\n",
       "\n",
       "    [theme=dark] .colab-df-convert:hover {\n",
       "      background-color: #434B5C;\n",
       "      box-shadow: 0px 1px 3px 1px rgba(0, 0, 0, 0.15);\n",
       "      filter: drop-shadow(0px 1px 2px rgba(0, 0, 0, 0.3));\n",
       "      fill: #FFFFFF;\n",
       "    }\n",
       "  </style>\n",
       "\n",
       "      <script>\n",
       "        const buttonEl =\n",
       "          document.querySelector('#df-742417d4-fd38-4ee2-9456-cc0116f6cab5 button.colab-df-convert');\n",
       "        buttonEl.style.display =\n",
       "          google.colab.kernel.accessAllowed ? 'block' : 'none';\n",
       "\n",
       "        async function convertToInteractive(key) {\n",
       "          const element = document.querySelector('#df-742417d4-fd38-4ee2-9456-cc0116f6cab5');\n",
       "          const dataTable =\n",
       "            await google.colab.kernel.invokeFunction('convertToInteractive',\n",
       "                                                     [key], {});\n",
       "          if (!dataTable) return;\n",
       "\n",
       "          const docLinkHtml = 'Like what you see? Visit the ' +\n",
       "            '<a target=\"_blank\" href=https://colab.research.google.com/notebooks/data_table.ipynb>data table notebook</a>'\n",
       "            + ' to learn more about interactive tables.';\n",
       "          element.innerHTML = '';\n",
       "          dataTable['output_type'] = 'display_data';\n",
       "          await google.colab.output.renderOutput(dataTable, element);\n",
       "          const docLink = document.createElement('div');\n",
       "          docLink.innerHTML = docLinkHtml;\n",
       "          element.appendChild(docLink);\n",
       "        }\n",
       "      </script>\n",
       "    </div>\n",
       "  </div>\n",
       "  "
      ],
      "text/plain": [
       "     Account Number                           Organization  \\\n",
       "0              1093                        City of Atlanta   \n",
       "1              1184                         City of Austin   \n",
       "2              1499                Ajuntament de Barcelona   \n",
       "3              2028                           City of Bonn   \n",
       "4              2185                   Bristol City Council   \n",
       "..              ...                                    ...   \n",
       "799          841154  Municipalidad de Independencia (Peru)   \n",
       "800          841155              Municipalidad de Tarapoto   \n",
       "801          841269            Municipalidad de Montecarlo   \n",
       "802          841326             Municipalidad de Oro Verde   \n",
       "803          841416      Municipalidad de Puerto Esperanza   \n",
       "\n",
       "                                               Country     CDP Region  \\\n",
       "0                             United States of America  North America   \n",
       "1                             United States of America  North America   \n",
       "2                                                Spain         Europe   \n",
       "3                                              Germany         Europe   \n",
       "4    United Kingdom of Great Britain and Northern I...         Europe   \n",
       "..                                                 ...            ...   \n",
       "799                                               Peru  Latin America   \n",
       "800                                               Peru  Latin America   \n",
       "801                                          Argentina  Latin America   \n",
       "802                                          Argentina  Latin America   \n",
       "803                                          Argentina  Latin America   \n",
       "\n",
       "                                              1.0  1.1 1.12_1 1.12_2 1.12_3  \\\n",
       "0                                              No  Yes     No     No     No   \n",
       "1                                              No   No    Yes    Yes    Yes   \n",
       "2                                              No  Yes     No    Yes     No   \n",
       "3                                             Yes  Yes     No     No     No   \n",
       "4                                              No  Yes     No     No     No   \n",
       "..                                            ...  ...    ...    ...    ...   \n",
       "799                                            No   No     No     No     No   \n",
       "800                                            No   No     No     No     No   \n",
       "801  Intending to incorporate in the next 2 years  Yes     No     No     No   \n",
       "802                                            No  Yes     No     No     No   \n",
       "803                                   In progress   No     No     No     No   \n",
       "\n",
       "    1.12_4  ... 6.4          6.6  6.9  \\\n",
       "0       No  ...  No           No   No   \n",
       "1       No  ...  No  Do not know   No   \n",
       "2      Yes  ...  No           No  Yes   \n",
       "3       No  ...  No           No   No   \n",
       "4       No  ...  No           No   No   \n",
       "..     ...  ...  ..          ...  ...   \n",
       "799     No  ...  No           No   No   \n",
       "800     No  ...  No           No   No   \n",
       "801     No  ...  No           No   No   \n",
       "802     No  ...  No           No   No   \n",
       "803     No  ...  No           No   No   \n",
       "\n",
       "                                            7.0          8.0  8.1  \\\n",
       "0                                            No           No   No   \n",
       "1                                           Yes           No  Yes   \n",
       "2                                           Yes           No   No   \n",
       "3                                           Yes           No   No   \n",
       "4                                           Yes           No   No   \n",
       "..                                          ...          ...  ...   \n",
       "799  Intending to undertake in the next 2 years           No   No   \n",
       "800                                          No  In progress   No   \n",
       "801                                          No           No   No   \n",
       "802                                         Yes           No   No   \n",
       "803                                          No           No   No   \n",
       "\n",
       "                            8.6 9.3 AC_labels Kmeans_Label  \n",
       "0                           Yes  No         2            0  \n",
       "1                            No  No         0            1  \n",
       "2    Not intending to undertake  No         0            1  \n",
       "3                            No  No         2            0  \n",
       "4                            No  No         2            0  \n",
       "..                          ...  ..       ...          ...  \n",
       "799                          No  No         1            0  \n",
       "800                 Do not know  No         1            0  \n",
       "801                          No  No         2            0  \n",
       "802                          No  No         2            0  \n",
       "803                          No  No         1            0  \n",
       "\n",
       "[804 rows x 52 columns]"
      ]
     },
     "execution_count": 49,
     "metadata": {},
     "output_type": "execute_result"
    }
   ],
   "source": [
    "# Concat the labels with the data\n",
    "new_data = pd.concat([data_pivoted, labels], axis = 1)\n",
    "new_data"
   ]
  },
  {
   "cell_type": "code",
   "execution_count": 50,
   "metadata": {
    "colab": {
     "base_uri": "https://localhost:8080/"
    },
    "executionInfo": {
     "elapsed": 20,
     "status": "ok",
     "timestamp": 1664475007012,
     "user": {
      "displayName": "Claire Vu",
      "userId": "16337834021308321030"
     },
     "user_tz": 420
    },
    "id": "5l_gDbRwuavW",
    "outputId": "6577fadd-9edc-42b3-9932-24c50c6ddd9a"
   },
   "outputs": [
    {
     "data": {
      "text/plain": [
       "Kmeans_Label  CDP Region                \n",
       "0             Africa                         36\n",
       "              East Asia                      15\n",
       "              Europe                        153\n",
       "              Latin America                 263\n",
       "              Middle East                     5\n",
       "              North America                 179\n",
       "              South and West Asia            12\n",
       "              Southeast Asia and Oceania     59\n",
       "1             Africa                         10\n",
       "              East Asia                       3\n",
       "              Europe                         15\n",
       "              Latin America                   7\n",
       "              Middle East                     2\n",
       "              North America                  15\n",
       "              South and West Asia             3\n",
       "              Southeast Asia and Oceania      8\n",
       "2             Africa                          2\n",
       "              Europe                          2\n",
       "              Latin America                  12\n",
       "              North America                   3\n",
       "dtype: int64"
      ]
     },
     "execution_count": 50,
     "metadata": {},
     "output_type": "execute_result"
    }
   ],
   "source": [
    "# Check the distribution over different regions\n",
    "group_by_labels = new_data.groupby(['Kmeans_Label','CDP Region']).size()\n",
    "group_by_labels"
   ]
  },
  {
   "cell_type": "code",
   "execution_count": 51,
   "metadata": {
    "colab": {
     "base_uri": "https://localhost:8080/",
     "height": 491
    },
    "executionInfo": {
     "elapsed": 14,
     "status": "ok",
     "timestamp": 1664475007012,
     "user": {
      "displayName": "Claire Vu",
      "userId": "16337834021308321030"
     },
     "user_tz": 420
    },
    "id": "Vn2igkfNudqL",
    "outputId": "7ca81ce8-b575-4e7b-973b-a19ed3860e7c"
   },
   "outputs": [
    {
     "data": {
      "text/html": [
       "\n",
       "  <div id=\"df-2082fb05-7379-403f-b7f6-eb49604de399\">\n",
       "    <div class=\"colab-df-container\">\n",
       "      <div>\n",
       "<style scoped>\n",
       "    .dataframe tbody tr th:only-of-type {\n",
       "        vertical-align: middle;\n",
       "    }\n",
       "\n",
       "    .dataframe tbody tr th {\n",
       "        vertical-align: top;\n",
       "    }\n",
       "\n",
       "    .dataframe thead tr th {\n",
       "        text-align: left;\n",
       "    }\n",
       "\n",
       "    .dataframe thead tr:last-of-type th {\n",
       "        text-align: right;\n",
       "    }\n",
       "</style>\n",
       "<table border=\"1\" class=\"dataframe\">\n",
       "  <thead>\n",
       "    <tr>\n",
       "      <th></th>\n",
       "      <th colspan=\"3\" halign=\"left\">1.0</th>\n",
       "      <th colspan=\"3\" halign=\"left\">1.1</th>\n",
       "      <th colspan=\"3\" halign=\"left\">1.12_1</th>\n",
       "      <th>1.12_2</th>\n",
       "      <th>...</th>\n",
       "      <th>AC_labels</th>\n",
       "      <th colspan=\"3\" halign=\"left\">Account Number</th>\n",
       "      <th colspan=\"3\" halign=\"left\">Country</th>\n",
       "      <th colspan=\"3\" halign=\"left\">Organization</th>\n",
       "    </tr>\n",
       "    <tr>\n",
       "      <th>Kmeans_Label</th>\n",
       "      <th>0</th>\n",
       "      <th>1</th>\n",
       "      <th>2</th>\n",
       "      <th>0</th>\n",
       "      <th>1</th>\n",
       "      <th>2</th>\n",
       "      <th>0</th>\n",
       "      <th>1</th>\n",
       "      <th>2</th>\n",
       "      <th>0</th>\n",
       "      <th>...</th>\n",
       "      <th>2</th>\n",
       "      <th>0</th>\n",
       "      <th>1</th>\n",
       "      <th>2</th>\n",
       "      <th>0</th>\n",
       "      <th>1</th>\n",
       "      <th>2</th>\n",
       "      <th>0</th>\n",
       "      <th>1</th>\n",
       "      <th>2</th>\n",
       "    </tr>\n",
       "    <tr>\n",
       "      <th>CDP Region</th>\n",
       "      <th></th>\n",
       "      <th></th>\n",
       "      <th></th>\n",
       "      <th></th>\n",
       "      <th></th>\n",
       "      <th></th>\n",
       "      <th></th>\n",
       "      <th></th>\n",
       "      <th></th>\n",
       "      <th></th>\n",
       "      <th></th>\n",
       "      <th></th>\n",
       "      <th></th>\n",
       "      <th></th>\n",
       "      <th></th>\n",
       "      <th></th>\n",
       "      <th></th>\n",
       "      <th></th>\n",
       "      <th></th>\n",
       "      <th></th>\n",
       "      <th></th>\n",
       "    </tr>\n",
       "  </thead>\n",
       "  <tbody>\n",
       "    <tr>\n",
       "      <th>Africa</th>\n",
       "      <td>4.0</td>\n",
       "      <td>2.0</td>\n",
       "      <td>1.0</td>\n",
       "      <td>3.0</td>\n",
       "      <td>2.0</td>\n",
       "      <td>2.0</td>\n",
       "      <td>1.0</td>\n",
       "      <td>1.0</td>\n",
       "      <td>1.0</td>\n",
       "      <td>2.0</td>\n",
       "      <td>...</td>\n",
       "      <td>1.0</td>\n",
       "      <td>36.0</td>\n",
       "      <td>10.0</td>\n",
       "      <td>2.0</td>\n",
       "      <td>21.0</td>\n",
       "      <td>8.0</td>\n",
       "      <td>2.0</td>\n",
       "      <td>36.0</td>\n",
       "      <td>10.0</td>\n",
       "      <td>2.0</td>\n",
       "    </tr>\n",
       "    <tr>\n",
       "      <th>East Asia</th>\n",
       "      <td>2.0</td>\n",
       "      <td>2.0</td>\n",
       "      <td>NaN</td>\n",
       "      <td>2.0</td>\n",
       "      <td>2.0</td>\n",
       "      <td>NaN</td>\n",
       "      <td>1.0</td>\n",
       "      <td>1.0</td>\n",
       "      <td>NaN</td>\n",
       "      <td>2.0</td>\n",
       "      <td>...</td>\n",
       "      <td>NaN</td>\n",
       "      <td>15.0</td>\n",
       "      <td>3.0</td>\n",
       "      <td>NaN</td>\n",
       "      <td>5.0</td>\n",
       "      <td>3.0</td>\n",
       "      <td>NaN</td>\n",
       "      <td>15.0</td>\n",
       "      <td>3.0</td>\n",
       "      <td>NaN</td>\n",
       "    </tr>\n",
       "    <tr>\n",
       "      <th>Europe</th>\n",
       "      <td>5.0</td>\n",
       "      <td>3.0</td>\n",
       "      <td>2.0</td>\n",
       "      <td>4.0</td>\n",
       "      <td>2.0</td>\n",
       "      <td>1.0</td>\n",
       "      <td>2.0</td>\n",
       "      <td>2.0</td>\n",
       "      <td>1.0</td>\n",
       "      <td>1.0</td>\n",
       "      <td>...</td>\n",
       "      <td>1.0</td>\n",
       "      <td>153.0</td>\n",
       "      <td>15.0</td>\n",
       "      <td>2.0</td>\n",
       "      <td>29.0</td>\n",
       "      <td>12.0</td>\n",
       "      <td>2.0</td>\n",
       "      <td>153.0</td>\n",
       "      <td>15.0</td>\n",
       "      <td>2.0</td>\n",
       "    </tr>\n",
       "    <tr>\n",
       "      <th>Latin America</th>\n",
       "      <td>5.0</td>\n",
       "      <td>2.0</td>\n",
       "      <td>4.0</td>\n",
       "      <td>5.0</td>\n",
       "      <td>2.0</td>\n",
       "      <td>4.0</td>\n",
       "      <td>1.0</td>\n",
       "      <td>2.0</td>\n",
       "      <td>1.0</td>\n",
       "      <td>2.0</td>\n",
       "      <td>...</td>\n",
       "      <td>1.0</td>\n",
       "      <td>263.0</td>\n",
       "      <td>7.0</td>\n",
       "      <td>12.0</td>\n",
       "      <td>14.0</td>\n",
       "      <td>4.0</td>\n",
       "      <td>6.0</td>\n",
       "      <td>263.0</td>\n",
       "      <td>7.0</td>\n",
       "      <td>12.0</td>\n",
       "    </tr>\n",
       "    <tr>\n",
       "      <th>Middle East</th>\n",
       "      <td>3.0</td>\n",
       "      <td>1.0</td>\n",
       "      <td>NaN</td>\n",
       "      <td>2.0</td>\n",
       "      <td>1.0</td>\n",
       "      <td>NaN</td>\n",
       "      <td>1.0</td>\n",
       "      <td>2.0</td>\n",
       "      <td>NaN</td>\n",
       "      <td>1.0</td>\n",
       "      <td>...</td>\n",
       "      <td>NaN</td>\n",
       "      <td>5.0</td>\n",
       "      <td>2.0</td>\n",
       "      <td>NaN</td>\n",
       "      <td>3.0</td>\n",
       "      <td>2.0</td>\n",
       "      <td>NaN</td>\n",
       "      <td>5.0</td>\n",
       "      <td>2.0</td>\n",
       "      <td>NaN</td>\n",
       "    </tr>\n",
       "    <tr>\n",
       "      <th>North America</th>\n",
       "      <td>6.0</td>\n",
       "      <td>2.0</td>\n",
       "      <td>2.0</td>\n",
       "      <td>5.0</td>\n",
       "      <td>2.0</td>\n",
       "      <td>3.0</td>\n",
       "      <td>2.0</td>\n",
       "      <td>2.0</td>\n",
       "      <td>1.0</td>\n",
       "      <td>2.0</td>\n",
       "      <td>...</td>\n",
       "      <td>1.0</td>\n",
       "      <td>179.0</td>\n",
       "      <td>15.0</td>\n",
       "      <td>3.0</td>\n",
       "      <td>2.0</td>\n",
       "      <td>2.0</td>\n",
       "      <td>1.0</td>\n",
       "      <td>179.0</td>\n",
       "      <td>15.0</td>\n",
       "      <td>3.0</td>\n",
       "    </tr>\n",
       "    <tr>\n",
       "      <th>South and West Asia</th>\n",
       "      <td>5.0</td>\n",
       "      <td>2.0</td>\n",
       "      <td>NaN</td>\n",
       "      <td>4.0</td>\n",
       "      <td>2.0</td>\n",
       "      <td>NaN</td>\n",
       "      <td>1.0</td>\n",
       "      <td>1.0</td>\n",
       "      <td>NaN</td>\n",
       "      <td>2.0</td>\n",
       "      <td>...</td>\n",
       "      <td>NaN</td>\n",
       "      <td>12.0</td>\n",
       "      <td>3.0</td>\n",
       "      <td>NaN</td>\n",
       "      <td>3.0</td>\n",
       "      <td>1.0</td>\n",
       "      <td>NaN</td>\n",
       "      <td>12.0</td>\n",
       "      <td>3.0</td>\n",
       "      <td>NaN</td>\n",
       "    </tr>\n",
       "    <tr>\n",
       "      <th>Southeast Asia and Oceania</th>\n",
       "      <td>5.0</td>\n",
       "      <td>2.0</td>\n",
       "      <td>NaN</td>\n",
       "      <td>4.0</td>\n",
       "      <td>3.0</td>\n",
       "      <td>NaN</td>\n",
       "      <td>1.0</td>\n",
       "      <td>2.0</td>\n",
       "      <td>NaN</td>\n",
       "      <td>2.0</td>\n",
       "      <td>...</td>\n",
       "      <td>NaN</td>\n",
       "      <td>59.0</td>\n",
       "      <td>8.0</td>\n",
       "      <td>NaN</td>\n",
       "      <td>7.0</td>\n",
       "      <td>7.0</td>\n",
       "      <td>NaN</td>\n",
       "      <td>59.0</td>\n",
       "      <td>8.0</td>\n",
       "      <td>NaN</td>\n",
       "    </tr>\n",
       "  </tbody>\n",
       "</table>\n",
       "<p>8 rows × 150 columns</p>\n",
       "</div>\n",
       "      <button class=\"colab-df-convert\" onclick=\"convertToInteractive('df-2082fb05-7379-403f-b7f6-eb49604de399')\"\n",
       "              title=\"Convert this dataframe to an interactive table.\"\n",
       "              style=\"display:none;\">\n",
       "        \n",
       "  <svg xmlns=\"http://www.w3.org/2000/svg\" height=\"24px\"viewBox=\"0 0 24 24\"\n",
       "       width=\"24px\">\n",
       "    <path d=\"M0 0h24v24H0V0z\" fill=\"none\"/>\n",
       "    <path d=\"M18.56 5.44l.94 2.06.94-2.06 2.06-.94-2.06-.94-.94-2.06-.94 2.06-2.06.94zm-11 1L8.5 8.5l.94-2.06 2.06-.94-2.06-.94L8.5 2.5l-.94 2.06-2.06.94zm10 10l.94 2.06.94-2.06 2.06-.94-2.06-.94-.94-2.06-.94 2.06-2.06.94z\"/><path d=\"M17.41 7.96l-1.37-1.37c-.4-.4-.92-.59-1.43-.59-.52 0-1.04.2-1.43.59L10.3 9.45l-7.72 7.72c-.78.78-.78 2.05 0 2.83L4 21.41c.39.39.9.59 1.41.59.51 0 1.02-.2 1.41-.59l7.78-7.78 2.81-2.81c.8-.78.8-2.07 0-2.86zM5.41 20L4 18.59l7.72-7.72 1.47 1.35L5.41 20z\"/>\n",
       "  </svg>\n",
       "      </button>\n",
       "      \n",
       "  <style>\n",
       "    .colab-df-container {\n",
       "      display:flex;\n",
       "      flex-wrap:wrap;\n",
       "      gap: 12px;\n",
       "    }\n",
       "\n",
       "    .colab-df-convert {\n",
       "      background-color: #E8F0FE;\n",
       "      border: none;\n",
       "      border-radius: 50%;\n",
       "      cursor: pointer;\n",
       "      display: none;\n",
       "      fill: #1967D2;\n",
       "      height: 32px;\n",
       "      padding: 0 0 0 0;\n",
       "      width: 32px;\n",
       "    }\n",
       "\n",
       "    .colab-df-convert:hover {\n",
       "      background-color: #E2EBFA;\n",
       "      box-shadow: 0px 1px 2px rgba(60, 64, 67, 0.3), 0px 1px 3px 1px rgba(60, 64, 67, 0.15);\n",
       "      fill: #174EA6;\n",
       "    }\n",
       "\n",
       "    [theme=dark] .colab-df-convert {\n",
       "      background-color: #3B4455;\n",
       "      fill: #D2E3FC;\n",
       "    }\n",
       "\n",
       "    [theme=dark] .colab-df-convert:hover {\n",
       "      background-color: #434B5C;\n",
       "      box-shadow: 0px 1px 3px 1px rgba(0, 0, 0, 0.15);\n",
       "      filter: drop-shadow(0px 1px 2px rgba(0, 0, 0, 0.3));\n",
       "      fill: #FFFFFF;\n",
       "    }\n",
       "  </style>\n",
       "\n",
       "      <script>\n",
       "        const buttonEl =\n",
       "          document.querySelector('#df-2082fb05-7379-403f-b7f6-eb49604de399 button.colab-df-convert');\n",
       "        buttonEl.style.display =\n",
       "          google.colab.kernel.accessAllowed ? 'block' : 'none';\n",
       "\n",
       "        async function convertToInteractive(key) {\n",
       "          const element = document.querySelector('#df-2082fb05-7379-403f-b7f6-eb49604de399');\n",
       "          const dataTable =\n",
       "            await google.colab.kernel.invokeFunction('convertToInteractive',\n",
       "                                                     [key], {});\n",
       "          if (!dataTable) return;\n",
       "\n",
       "          const docLinkHtml = 'Like what you see? Visit the ' +\n",
       "            '<a target=\"_blank\" href=https://colab.research.google.com/notebooks/data_table.ipynb>data table notebook</a>'\n",
       "            + ' to learn more about interactive tables.';\n",
       "          element.innerHTML = '';\n",
       "          dataTable['output_type'] = 'display_data';\n",
       "          await google.colab.output.renderOutput(dataTable, element);\n",
       "          const docLink = document.createElement('div');\n",
       "          docLink.innerHTML = docLinkHtml;\n",
       "          element.appendChild(docLink);\n",
       "        }\n",
       "      </script>\n",
       "    </div>\n",
       "  </div>\n",
       "  "
      ],
      "text/plain": [
       "                            1.0            1.1           1.12_1            \\\n",
       "Kmeans_Label                  0    1    2    0    1    2      0    1    2   \n",
       "CDP Region                                                                  \n",
       "Africa                      4.0  2.0  1.0  3.0  2.0  2.0    1.0  1.0  1.0   \n",
       "East Asia                   2.0  2.0  NaN  2.0  2.0  NaN    1.0  1.0  NaN   \n",
       "Europe                      5.0  3.0  2.0  4.0  2.0  1.0    2.0  2.0  1.0   \n",
       "Latin America               5.0  2.0  4.0  5.0  2.0  4.0    1.0  2.0  1.0   \n",
       "Middle East                 3.0  1.0  NaN  2.0  1.0  NaN    1.0  2.0  NaN   \n",
       "North America               6.0  2.0  2.0  5.0  2.0  3.0    2.0  2.0  1.0   \n",
       "South and West Asia         5.0  2.0  NaN  4.0  2.0  NaN    1.0  1.0  NaN   \n",
       "Southeast Asia and Oceania  5.0  2.0  NaN  4.0  3.0  NaN    1.0  2.0  NaN   \n",
       "\n",
       "                           1.12_2  ... AC_labels Account Number              \\\n",
       "Kmeans_Label                    0  ...         2              0     1     2   \n",
       "CDP Region                         ...                                        \n",
       "Africa                        2.0  ...       1.0           36.0  10.0   2.0   \n",
       "East Asia                     2.0  ...       NaN           15.0   3.0   NaN   \n",
       "Europe                        1.0  ...       1.0          153.0  15.0   2.0   \n",
       "Latin America                 2.0  ...       1.0          263.0   7.0  12.0   \n",
       "Middle East                   1.0  ...       NaN            5.0   2.0   NaN   \n",
       "North America                 2.0  ...       1.0          179.0  15.0   3.0   \n",
       "South and West Asia           2.0  ...       NaN           12.0   3.0   NaN   \n",
       "Southeast Asia and Oceania    2.0  ...       NaN           59.0   8.0   NaN   \n",
       "\n",
       "                           Country            Organization              \n",
       "Kmeans_Label                     0     1    2            0     1     2  \n",
       "CDP Region                                                              \n",
       "Africa                        21.0   8.0  2.0         36.0  10.0   2.0  \n",
       "East Asia                      5.0   3.0  NaN         15.0   3.0   NaN  \n",
       "Europe                        29.0  12.0  2.0        153.0  15.0   2.0  \n",
       "Latin America                 14.0   4.0  6.0        263.0   7.0  12.0  \n",
       "Middle East                    3.0   2.0  NaN          5.0   2.0   NaN  \n",
       "North America                  2.0   2.0  1.0        179.0  15.0   3.0  \n",
       "South and West Asia            3.0   1.0  NaN         12.0   3.0   NaN  \n",
       "Southeast Asia and Oceania     7.0   7.0  NaN         59.0   8.0   NaN  \n",
       "\n",
       "[8 rows x 150 columns]"
      ]
     },
     "execution_count": 51,
     "metadata": {},
     "output_type": "execute_result"
    }
   ],
   "source": [
    "# Check the distribution over the rest of the data.\n",
    "data_label_pivot = pd.pivot_table(new_data, index=[\"CDP Region\"], columns=[\"Kmeans_Label\"], aggfunc=lambda x: len(x.unique()))\n",
    "data_label_pivot"
   ]
  },
  {
   "cell_type": "code",
   "execution_count": 52,
   "metadata": {
    "colab": {
     "base_uri": "https://localhost:8080/"
    },
    "executionInfo": {
     "elapsed": 494,
     "status": "ok",
     "timestamp": 1664475007494,
     "user": {
      "displayName": "Claire Vu",
      "userId": "16337834021308321030"
     },
     "user_tz": 420
    },
    "id": "Vm83pc_2mAUq",
    "outputId": "5c037e32-e6af-4a92-dc69-659a41c646ca"
   },
   "outputs": [
    {
     "name": "stdout",
     "output_type": "stream",
     "text": [
      "Counter({0: 722, 1: 63, 2: 19})\n"
     ]
    }
   ],
   "source": [
    "print(collections.Counter(kmeans.fit_predict(mcaX))) #to see frequencies of each label"
   ]
  },
  {
   "cell_type": "markdown",
   "metadata": {
    "id": "UPyIZhIBpZXU"
   },
   "source": [
    "Looks like K-means' '1' label is actually Hierarchical's '2' label."
   ]
  },
  {
   "cell_type": "markdown",
   "metadata": {
    "id": "cXpj5e6BhROi"
   },
   "source": [
    "## **7 - Conclusion**"
   ]
  },
  {
   "cell_type": "markdown",
   "metadata": {
    "id": "ze_5NlDO4-2z"
   },
   "source": [
    "The Exploratory Analysis shows that climate change and water security are the environmental issues of particular concern. Regardless of the region, a large percentage of cities say they have a clear plan for climate change or that one is underway. However, not as many cities reported a decrease in emissions that contribute to climate change, suggesting that there is still room for improvement.\n",
    "\n",
    "In terms of water security, all regions responded that it could be a risk. However, what is considered a risk differs from region to region, making it difficult to take uniform measures. In Africa and Southeast Asia and Oceania, drought was ranked as one of the top risks, suggesting the need to consider it in relation to climate change."
   ]
  },
  {
   "cell_type": "markdown",
   "metadata": {
    "id": "SbCYmhIcpoME"
   },
   "source": [
    "Now that we are done with clustering, the next step is to make sense out of the results. Usually, if the data is continuous or categorical that follows order (so we can ordinally encode the labels), we can use cluster's means to interpret the cluster labels. However, since our data is entirely categorical and do not necessarily follow any orders (even though some does - ie. 'Yes', 'No', 'In progress' questions), we pick out 3 questions about cities' plans for environmental issues in order to see how different groups respond to these questions. From this, we would accordingly intepret the labels. The 3 questions we selected are: 3.1 (plans for climate changes adaptation), 5.5 (plans for emission reduction), and 8.0 (usage of renewable energy). Since we initially choose Hierarchichal Clustering for our data, we will interpret AC's labels only. K-means labels follow a similar patterns as Agglomerate Clustering, hence we expect the intepretation to be the same."
   ]
  },
  {
   "cell_type": "code",
   "execution_count": 53,
   "metadata": {
    "colab": {
     "base_uri": "https://localhost:8080/",
     "height": 424
    },
    "executionInfo": {
     "elapsed": 15,
     "status": "ok",
     "timestamp": 1664475007494,
     "user": {
      "displayName": "Claire Vu",
      "userId": "16337834021308321030"
     },
     "user_tz": 420
    },
    "id": "28eRRz6ChaLS",
    "outputId": "7404c42e-db5d-4b61-c606-90bf2a02b485"
   },
   "outputs": [
    {
     "data": {
      "text/html": [
       "\n",
       "  <div id=\"df-67661b3f-83f5-4005-9a13-f35cfca45a40\">\n",
       "    <div class=\"colab-df-container\">\n",
       "      <div>\n",
       "<style scoped>\n",
       "    .dataframe tbody tr th:only-of-type {\n",
       "        vertical-align: middle;\n",
       "    }\n",
       "\n",
       "    .dataframe tbody tr th {\n",
       "        vertical-align: top;\n",
       "    }\n",
       "\n",
       "    .dataframe thead th {\n",
       "        text-align: right;\n",
       "    }\n",
       "</style>\n",
       "<table border=\"1\" class=\"dataframe\">\n",
       "  <thead>\n",
       "    <tr style=\"text-align: right;\">\n",
       "      <th></th>\n",
       "      <th>5.5</th>\n",
       "      <th>3.1</th>\n",
       "      <th>8.0</th>\n",
       "      <th>AC_labels</th>\n",
       "    </tr>\n",
       "  </thead>\n",
       "  <tbody>\n",
       "    <tr>\n",
       "      <th>1</th>\n",
       "      <td>Yes</td>\n",
       "      <td>Yes</td>\n",
       "      <td>No</td>\n",
       "      <td>0</td>\n",
       "    </tr>\n",
       "    <tr>\n",
       "      <th>2</th>\n",
       "      <td>Yes</td>\n",
       "      <td>No</td>\n",
       "      <td>No</td>\n",
       "      <td>0</td>\n",
       "    </tr>\n",
       "    <tr>\n",
       "      <th>6</th>\n",
       "      <td>Yes</td>\n",
       "      <td>No</td>\n",
       "      <td>No</td>\n",
       "      <td>0</td>\n",
       "    </tr>\n",
       "    <tr>\n",
       "      <th>7</th>\n",
       "      <td>No</td>\n",
       "      <td>Yes</td>\n",
       "      <td>No</td>\n",
       "      <td>0</td>\n",
       "    </tr>\n",
       "    <tr>\n",
       "      <th>8</th>\n",
       "      <td>No</td>\n",
       "      <td>Yes</td>\n",
       "      <td>No</td>\n",
       "      <td>0</td>\n",
       "    </tr>\n",
       "    <tr>\n",
       "      <th>...</th>\n",
       "      <td>...</td>\n",
       "      <td>...</td>\n",
       "      <td>...</td>\n",
       "      <td>...</td>\n",
       "    </tr>\n",
       "    <tr>\n",
       "      <th>599</th>\n",
       "      <td>In progress</td>\n",
       "      <td>Yes</td>\n",
       "      <td>No</td>\n",
       "      <td>0</td>\n",
       "    </tr>\n",
       "    <tr>\n",
       "      <th>627</th>\n",
       "      <td>No</td>\n",
       "      <td>No</td>\n",
       "      <td>No</td>\n",
       "      <td>0</td>\n",
       "    </tr>\n",
       "    <tr>\n",
       "      <th>638</th>\n",
       "      <td>Yes</td>\n",
       "      <td>Yes</td>\n",
       "      <td>Yes</td>\n",
       "      <td>0</td>\n",
       "    </tr>\n",
       "    <tr>\n",
       "      <th>643</th>\n",
       "      <td>In progress</td>\n",
       "      <td>Intending to undertake in the next 2 years</td>\n",
       "      <td>No</td>\n",
       "      <td>0</td>\n",
       "    </tr>\n",
       "    <tr>\n",
       "      <th>762</th>\n",
       "      <td>No</td>\n",
       "      <td>Yes</td>\n",
       "      <td>No</td>\n",
       "      <td>0</td>\n",
       "    </tr>\n",
       "  </tbody>\n",
       "</table>\n",
       "<p>102 rows × 4 columns</p>\n",
       "</div>\n",
       "      <button class=\"colab-df-convert\" onclick=\"convertToInteractive('df-67661b3f-83f5-4005-9a13-f35cfca45a40')\"\n",
       "              title=\"Convert this dataframe to an interactive table.\"\n",
       "              style=\"display:none;\">\n",
       "        \n",
       "  <svg xmlns=\"http://www.w3.org/2000/svg\" height=\"24px\"viewBox=\"0 0 24 24\"\n",
       "       width=\"24px\">\n",
       "    <path d=\"M0 0h24v24H0V0z\" fill=\"none\"/>\n",
       "    <path d=\"M18.56 5.44l.94 2.06.94-2.06 2.06-.94-2.06-.94-.94-2.06-.94 2.06-2.06.94zm-11 1L8.5 8.5l.94-2.06 2.06-.94-2.06-.94L8.5 2.5l-.94 2.06-2.06.94zm10 10l.94 2.06.94-2.06 2.06-.94-2.06-.94-.94-2.06-.94 2.06-2.06.94z\"/><path d=\"M17.41 7.96l-1.37-1.37c-.4-.4-.92-.59-1.43-.59-.52 0-1.04.2-1.43.59L10.3 9.45l-7.72 7.72c-.78.78-.78 2.05 0 2.83L4 21.41c.39.39.9.59 1.41.59.51 0 1.02-.2 1.41-.59l7.78-7.78 2.81-2.81c.8-.78.8-2.07 0-2.86zM5.41 20L4 18.59l7.72-7.72 1.47 1.35L5.41 20z\"/>\n",
       "  </svg>\n",
       "      </button>\n",
       "      \n",
       "  <style>\n",
       "    .colab-df-container {\n",
       "      display:flex;\n",
       "      flex-wrap:wrap;\n",
       "      gap: 12px;\n",
       "    }\n",
       "\n",
       "    .colab-df-convert {\n",
       "      background-color: #E8F0FE;\n",
       "      border: none;\n",
       "      border-radius: 50%;\n",
       "      cursor: pointer;\n",
       "      display: none;\n",
       "      fill: #1967D2;\n",
       "      height: 32px;\n",
       "      padding: 0 0 0 0;\n",
       "      width: 32px;\n",
       "    }\n",
       "\n",
       "    .colab-df-convert:hover {\n",
       "      background-color: #E2EBFA;\n",
       "      box-shadow: 0px 1px 2px rgba(60, 64, 67, 0.3), 0px 1px 3px 1px rgba(60, 64, 67, 0.15);\n",
       "      fill: #174EA6;\n",
       "    }\n",
       "\n",
       "    [theme=dark] .colab-df-convert {\n",
       "      background-color: #3B4455;\n",
       "      fill: #D2E3FC;\n",
       "    }\n",
       "\n",
       "    [theme=dark] .colab-df-convert:hover {\n",
       "      background-color: #434B5C;\n",
       "      box-shadow: 0px 1px 3px 1px rgba(0, 0, 0, 0.15);\n",
       "      filter: drop-shadow(0px 1px 2px rgba(0, 0, 0, 0.3));\n",
       "      fill: #FFFFFF;\n",
       "    }\n",
       "  </style>\n",
       "\n",
       "      <script>\n",
       "        const buttonEl =\n",
       "          document.querySelector('#df-67661b3f-83f5-4005-9a13-f35cfca45a40 button.colab-df-convert');\n",
       "        buttonEl.style.display =\n",
       "          google.colab.kernel.accessAllowed ? 'block' : 'none';\n",
       "\n",
       "        async function convertToInteractive(key) {\n",
       "          const element = document.querySelector('#df-67661b3f-83f5-4005-9a13-f35cfca45a40');\n",
       "          const dataTable =\n",
       "            await google.colab.kernel.invokeFunction('convertToInteractive',\n",
       "                                                     [key], {});\n",
       "          if (!dataTable) return;\n",
       "\n",
       "          const docLinkHtml = 'Like what you see? Visit the ' +\n",
       "            '<a target=\"_blank\" href=https://colab.research.google.com/notebooks/data_table.ipynb>data table notebook</a>'\n",
       "            + ' to learn more about interactive tables.';\n",
       "          element.innerHTML = '';\n",
       "          dataTable['output_type'] = 'display_data';\n",
       "          await google.colab.output.renderOutput(dataTable, element);\n",
       "          const docLink = document.createElement('div');\n",
       "          docLink.innerHTML = docLinkHtml;\n",
       "          element.appendChild(docLink);\n",
       "        }\n",
       "      </script>\n",
       "    </div>\n",
       "  </div>\n",
       "  "
      ],
      "text/plain": [
       "             5.5                                         3.1  8.0  AC_labels\n",
       "1            Yes                                         Yes   No          0\n",
       "2            Yes                                          No   No          0\n",
       "6            Yes                                          No   No          0\n",
       "7             No                                         Yes   No          0\n",
       "8             No                                         Yes   No          0\n",
       "..           ...                                         ...  ...        ...\n",
       "599  In progress                                         Yes   No          0\n",
       "627           No                                          No   No          0\n",
       "638          Yes                                         Yes  Yes          0\n",
       "643  In progress  Intending to undertake in the next 2 years   No          0\n",
       "762           No                                         Yes   No          0\n",
       "\n",
       "[102 rows x 4 columns]"
      ]
     },
     "execution_count": 53,
     "metadata": {},
     "output_type": "execute_result"
    }
   ],
   "source": [
    "new_data[(new_data['AC_labels'] == 0)][['5.5','3.1','8.0','AC_labels']]"
   ]
  },
  {
   "cell_type": "markdown",
   "metadata": {
    "id": "I2yJsufBqCO_"
   },
   "source": [
    "We can see that group 0 is a mix of 'In progress', 'Intending to undertake in the next 2 years' and 'Yes' when asked about plans for environmental issues. Thus, this group can be categorized as cities that are in the planning process or will launch their environment initiatives in the near future."
   ]
  },
  {
   "cell_type": "code",
   "execution_count": 54,
   "metadata": {
    "colab": {
     "base_uri": "https://localhost:8080/",
     "height": 424
    },
    "executionInfo": {
     "elapsed": 14,
     "status": "ok",
     "timestamp": 1664475007495,
     "user": {
      "displayName": "Claire Vu",
      "userId": "16337834021308321030"
     },
     "user_tz": 420
    },
    "id": "DvvvGye5COSU",
    "outputId": "02b9956e-8311-4507-dfe5-644bd893383b"
   },
   "outputs": [
    {
     "data": {
      "text/html": [
       "\n",
       "  <div id=\"df-9c8bfd07-9d96-4dac-81c6-b69d25a0dfa5\">\n",
       "    <div class=\"colab-df-container\">\n",
       "      <div>\n",
       "<style scoped>\n",
       "    .dataframe tbody tr th:only-of-type {\n",
       "        vertical-align: middle;\n",
       "    }\n",
       "\n",
       "    .dataframe tbody tr th {\n",
       "        vertical-align: top;\n",
       "    }\n",
       "\n",
       "    .dataframe thead th {\n",
       "        text-align: right;\n",
       "    }\n",
       "</style>\n",
       "<table border=\"1\" class=\"dataframe\">\n",
       "  <thead>\n",
       "    <tr style=\"text-align: right;\">\n",
       "      <th></th>\n",
       "      <th>5.5</th>\n",
       "      <th>3.1</th>\n",
       "      <th>8.0</th>\n",
       "      <th>AC_labels</th>\n",
       "    </tr>\n",
       "  </thead>\n",
       "  <tbody>\n",
       "    <tr>\n",
       "      <th>19</th>\n",
       "      <td>No</td>\n",
       "      <td>No</td>\n",
       "      <td>No</td>\n",
       "      <td>1</td>\n",
       "    </tr>\n",
       "    <tr>\n",
       "      <th>60</th>\n",
       "      <td>No</td>\n",
       "      <td>In progress</td>\n",
       "      <td>No</td>\n",
       "      <td>1</td>\n",
       "    </tr>\n",
       "    <tr>\n",
       "      <th>82</th>\n",
       "      <td>No</td>\n",
       "      <td>Do not know</td>\n",
       "      <td>No</td>\n",
       "      <td>1</td>\n",
       "    </tr>\n",
       "    <tr>\n",
       "      <th>88</th>\n",
       "      <td>No</td>\n",
       "      <td>No</td>\n",
       "      <td>No</td>\n",
       "      <td>1</td>\n",
       "    </tr>\n",
       "    <tr>\n",
       "      <th>104</th>\n",
       "      <td>No</td>\n",
       "      <td>No</td>\n",
       "      <td>In progress</td>\n",
       "      <td>1</td>\n",
       "    </tr>\n",
       "    <tr>\n",
       "      <th>...</th>\n",
       "      <td>...</td>\n",
       "      <td>...</td>\n",
       "      <td>...</td>\n",
       "      <td>...</td>\n",
       "    </tr>\n",
       "    <tr>\n",
       "      <th>797</th>\n",
       "      <td>Intending to undertake in the next 2 years</td>\n",
       "      <td>Intending to undertake in the next 2 years</td>\n",
       "      <td>No</td>\n",
       "      <td>1</td>\n",
       "    </tr>\n",
       "    <tr>\n",
       "      <th>798</th>\n",
       "      <td>Intending to undertake in the next 2 years</td>\n",
       "      <td>Intending to undertake in the next 2 years</td>\n",
       "      <td>No</td>\n",
       "      <td>1</td>\n",
       "    </tr>\n",
       "    <tr>\n",
       "      <th>799</th>\n",
       "      <td>No</td>\n",
       "      <td>No</td>\n",
       "      <td>No</td>\n",
       "      <td>1</td>\n",
       "    </tr>\n",
       "    <tr>\n",
       "      <th>800</th>\n",
       "      <td>No</td>\n",
       "      <td>No</td>\n",
       "      <td>In progress</td>\n",
       "      <td>1</td>\n",
       "    </tr>\n",
       "    <tr>\n",
       "      <th>803</th>\n",
       "      <td>No</td>\n",
       "      <td>No</td>\n",
       "      <td>No</td>\n",
       "      <td>1</td>\n",
       "    </tr>\n",
       "  </tbody>\n",
       "</table>\n",
       "<p>281 rows × 4 columns</p>\n",
       "</div>\n",
       "      <button class=\"colab-df-convert\" onclick=\"convertToInteractive('df-9c8bfd07-9d96-4dac-81c6-b69d25a0dfa5')\"\n",
       "              title=\"Convert this dataframe to an interactive table.\"\n",
       "              style=\"display:none;\">\n",
       "        \n",
       "  <svg xmlns=\"http://www.w3.org/2000/svg\" height=\"24px\"viewBox=\"0 0 24 24\"\n",
       "       width=\"24px\">\n",
       "    <path d=\"M0 0h24v24H0V0z\" fill=\"none\"/>\n",
       "    <path d=\"M18.56 5.44l.94 2.06.94-2.06 2.06-.94-2.06-.94-.94-2.06-.94 2.06-2.06.94zm-11 1L8.5 8.5l.94-2.06 2.06-.94-2.06-.94L8.5 2.5l-.94 2.06-2.06.94zm10 10l.94 2.06.94-2.06 2.06-.94-2.06-.94-.94-2.06-.94 2.06-2.06.94z\"/><path d=\"M17.41 7.96l-1.37-1.37c-.4-.4-.92-.59-1.43-.59-.52 0-1.04.2-1.43.59L10.3 9.45l-7.72 7.72c-.78.78-.78 2.05 0 2.83L4 21.41c.39.39.9.59 1.41.59.51 0 1.02-.2 1.41-.59l7.78-7.78 2.81-2.81c.8-.78.8-2.07 0-2.86zM5.41 20L4 18.59l7.72-7.72 1.47 1.35L5.41 20z\"/>\n",
       "  </svg>\n",
       "      </button>\n",
       "      \n",
       "  <style>\n",
       "    .colab-df-container {\n",
       "      display:flex;\n",
       "      flex-wrap:wrap;\n",
       "      gap: 12px;\n",
       "    }\n",
       "\n",
       "    .colab-df-convert {\n",
       "      background-color: #E8F0FE;\n",
       "      border: none;\n",
       "      border-radius: 50%;\n",
       "      cursor: pointer;\n",
       "      display: none;\n",
       "      fill: #1967D2;\n",
       "      height: 32px;\n",
       "      padding: 0 0 0 0;\n",
       "      width: 32px;\n",
       "    }\n",
       "\n",
       "    .colab-df-convert:hover {\n",
       "      background-color: #E2EBFA;\n",
       "      box-shadow: 0px 1px 2px rgba(60, 64, 67, 0.3), 0px 1px 3px 1px rgba(60, 64, 67, 0.15);\n",
       "      fill: #174EA6;\n",
       "    }\n",
       "\n",
       "    [theme=dark] .colab-df-convert {\n",
       "      background-color: #3B4455;\n",
       "      fill: #D2E3FC;\n",
       "    }\n",
       "\n",
       "    [theme=dark] .colab-df-convert:hover {\n",
       "      background-color: #434B5C;\n",
       "      box-shadow: 0px 1px 3px 1px rgba(0, 0, 0, 0.15);\n",
       "      filter: drop-shadow(0px 1px 2px rgba(0, 0, 0, 0.3));\n",
       "      fill: #FFFFFF;\n",
       "    }\n",
       "  </style>\n",
       "\n",
       "      <script>\n",
       "        const buttonEl =\n",
       "          document.querySelector('#df-9c8bfd07-9d96-4dac-81c6-b69d25a0dfa5 button.colab-df-convert');\n",
       "        buttonEl.style.display =\n",
       "          google.colab.kernel.accessAllowed ? 'block' : 'none';\n",
       "\n",
       "        async function convertToInteractive(key) {\n",
       "          const element = document.querySelector('#df-9c8bfd07-9d96-4dac-81c6-b69d25a0dfa5');\n",
       "          const dataTable =\n",
       "            await google.colab.kernel.invokeFunction('convertToInteractive',\n",
       "                                                     [key], {});\n",
       "          if (!dataTable) return;\n",
       "\n",
       "          const docLinkHtml = 'Like what you see? Visit the ' +\n",
       "            '<a target=\"_blank\" href=https://colab.research.google.com/notebooks/data_table.ipynb>data table notebook</a>'\n",
       "            + ' to learn more about interactive tables.';\n",
       "          element.innerHTML = '';\n",
       "          dataTable['output_type'] = 'display_data';\n",
       "          await google.colab.output.renderOutput(dataTable, element);\n",
       "          const docLink = document.createElement('div');\n",
       "          docLink.innerHTML = docLinkHtml;\n",
       "          element.appendChild(docLink);\n",
       "        }\n",
       "      </script>\n",
       "    </div>\n",
       "  </div>\n",
       "  "
      ],
      "text/plain": [
       "                                            5.5  \\\n",
       "19                                           No   \n",
       "60                                           No   \n",
       "82                                           No   \n",
       "88                                           No   \n",
       "104                                          No   \n",
       "..                                          ...   \n",
       "797  Intending to undertake in the next 2 years   \n",
       "798  Intending to undertake in the next 2 years   \n",
       "799                                          No   \n",
       "800                                          No   \n",
       "803                                          No   \n",
       "\n",
       "                                            3.1          8.0  AC_labels  \n",
       "19                                           No           No          1  \n",
       "60                                  In progress           No          1  \n",
       "82                                  Do not know           No          1  \n",
       "88                                           No           No          1  \n",
       "104                                          No  In progress          1  \n",
       "..                                          ...          ...        ...  \n",
       "797  Intending to undertake in the next 2 years           No          1  \n",
       "798  Intending to undertake in the next 2 years           No          1  \n",
       "799                                          No           No          1  \n",
       "800                                          No  In progress          1  \n",
       "803                                          No           No          1  \n",
       "\n",
       "[281 rows x 4 columns]"
      ]
     },
     "execution_count": 54,
     "metadata": {},
     "output_type": "execute_result"
    }
   ],
   "source": [
    "new_data[(new_data['AC_labels'] == 1)][['5.5','3.1','8.0','AC_labels']]"
   ]
  },
  {
   "cell_type": "markdown",
   "metadata": {
    "id": "PQEFq6hWCScL"
   },
   "source": [
    "In this group, there are more No when cities get asked about their plans for environmental changes or usage of renewable energy. This implies that this group is about cities that have little effort in tackling environmental issues."
   ]
  },
  {
   "cell_type": "code",
   "execution_count": 55,
   "metadata": {
    "colab": {
     "base_uri": "https://localhost:8080/",
     "height": 424
    },
    "executionInfo": {
     "elapsed": 12,
     "status": "ok",
     "timestamp": 1664475007495,
     "user": {
      "displayName": "Claire Vu",
      "userId": "16337834021308321030"
     },
     "user_tz": 420
    },
    "id": "A-5WZBxmCRFE",
    "outputId": "f61e0b50-f9c3-4ac8-cd32-1e4f3e701195"
   },
   "outputs": [
    {
     "data": {
      "text/html": [
       "\n",
       "  <div id=\"df-ff77bb66-11fb-4050-a2f9-7a35528c4f54\">\n",
       "    <div class=\"colab-df-container\">\n",
       "      <div>\n",
       "<style scoped>\n",
       "    .dataframe tbody tr th:only-of-type {\n",
       "        vertical-align: middle;\n",
       "    }\n",
       "\n",
       "    .dataframe tbody tr th {\n",
       "        vertical-align: top;\n",
       "    }\n",
       "\n",
       "    .dataframe thead th {\n",
       "        text-align: right;\n",
       "    }\n",
       "</style>\n",
       "<table border=\"1\" class=\"dataframe\">\n",
       "  <thead>\n",
       "    <tr style=\"text-align: right;\">\n",
       "      <th></th>\n",
       "      <th>5.5</th>\n",
       "      <th>3.1</th>\n",
       "      <th>8.0</th>\n",
       "      <th>AC_labels</th>\n",
       "    </tr>\n",
       "  </thead>\n",
       "  <tbody>\n",
       "    <tr>\n",
       "      <th>0</th>\n",
       "      <td>Yes</td>\n",
       "      <td>Yes</td>\n",
       "      <td>No</td>\n",
       "      <td>2</td>\n",
       "    </tr>\n",
       "    <tr>\n",
       "      <th>3</th>\n",
       "      <td>No</td>\n",
       "      <td>No</td>\n",
       "      <td>No</td>\n",
       "      <td>2</td>\n",
       "    </tr>\n",
       "    <tr>\n",
       "      <th>4</th>\n",
       "      <td>In progress</td>\n",
       "      <td>No</td>\n",
       "      <td>No</td>\n",
       "      <td>2</td>\n",
       "    </tr>\n",
       "    <tr>\n",
       "      <th>5</th>\n",
       "      <td>Yes</td>\n",
       "      <td>Intending to undertake in the next 2 years</td>\n",
       "      <td>Yes</td>\n",
       "      <td>2</td>\n",
       "    </tr>\n",
       "    <tr>\n",
       "      <th>10</th>\n",
       "      <td>No</td>\n",
       "      <td>No</td>\n",
       "      <td>No</td>\n",
       "      <td>2</td>\n",
       "    </tr>\n",
       "    <tr>\n",
       "      <th>...</th>\n",
       "      <td>...</td>\n",
       "      <td>...</td>\n",
       "      <td>...</td>\n",
       "      <td>...</td>\n",
       "    </tr>\n",
       "    <tr>\n",
       "      <th>774</th>\n",
       "      <td>Yes</td>\n",
       "      <td>No</td>\n",
       "      <td>No</td>\n",
       "      <td>2</td>\n",
       "    </tr>\n",
       "    <tr>\n",
       "      <th>775</th>\n",
       "      <td>Yes</td>\n",
       "      <td>No</td>\n",
       "      <td>Intending to undertake in the next 2 years</td>\n",
       "      <td>2</td>\n",
       "    </tr>\n",
       "    <tr>\n",
       "      <th>776</th>\n",
       "      <td>No</td>\n",
       "      <td>Yes</td>\n",
       "      <td>No</td>\n",
       "      <td>2</td>\n",
       "    </tr>\n",
       "    <tr>\n",
       "      <th>801</th>\n",
       "      <td>No</td>\n",
       "      <td>No</td>\n",
       "      <td>No</td>\n",
       "      <td>2</td>\n",
       "    </tr>\n",
       "    <tr>\n",
       "      <th>802</th>\n",
       "      <td>Yes</td>\n",
       "      <td>No</td>\n",
       "      <td>No</td>\n",
       "      <td>2</td>\n",
       "    </tr>\n",
       "  </tbody>\n",
       "</table>\n",
       "<p>421 rows × 4 columns</p>\n",
       "</div>\n",
       "      <button class=\"colab-df-convert\" onclick=\"convertToInteractive('df-ff77bb66-11fb-4050-a2f9-7a35528c4f54')\"\n",
       "              title=\"Convert this dataframe to an interactive table.\"\n",
       "              style=\"display:none;\">\n",
       "        \n",
       "  <svg xmlns=\"http://www.w3.org/2000/svg\" height=\"24px\"viewBox=\"0 0 24 24\"\n",
       "       width=\"24px\">\n",
       "    <path d=\"M0 0h24v24H0V0z\" fill=\"none\"/>\n",
       "    <path d=\"M18.56 5.44l.94 2.06.94-2.06 2.06-.94-2.06-.94-.94-2.06-.94 2.06-2.06.94zm-11 1L8.5 8.5l.94-2.06 2.06-.94-2.06-.94L8.5 2.5l-.94 2.06-2.06.94zm10 10l.94 2.06.94-2.06 2.06-.94-2.06-.94-.94-2.06-.94 2.06-2.06.94z\"/><path d=\"M17.41 7.96l-1.37-1.37c-.4-.4-.92-.59-1.43-.59-.52 0-1.04.2-1.43.59L10.3 9.45l-7.72 7.72c-.78.78-.78 2.05 0 2.83L4 21.41c.39.39.9.59 1.41.59.51 0 1.02-.2 1.41-.59l7.78-7.78 2.81-2.81c.8-.78.8-2.07 0-2.86zM5.41 20L4 18.59l7.72-7.72 1.47 1.35L5.41 20z\"/>\n",
       "  </svg>\n",
       "      </button>\n",
       "      \n",
       "  <style>\n",
       "    .colab-df-container {\n",
       "      display:flex;\n",
       "      flex-wrap:wrap;\n",
       "      gap: 12px;\n",
       "    }\n",
       "\n",
       "    .colab-df-convert {\n",
       "      background-color: #E8F0FE;\n",
       "      border: none;\n",
       "      border-radius: 50%;\n",
       "      cursor: pointer;\n",
       "      display: none;\n",
       "      fill: #1967D2;\n",
       "      height: 32px;\n",
       "      padding: 0 0 0 0;\n",
       "      width: 32px;\n",
       "    }\n",
       "\n",
       "    .colab-df-convert:hover {\n",
       "      background-color: #E2EBFA;\n",
       "      box-shadow: 0px 1px 2px rgba(60, 64, 67, 0.3), 0px 1px 3px 1px rgba(60, 64, 67, 0.15);\n",
       "      fill: #174EA6;\n",
       "    }\n",
       "\n",
       "    [theme=dark] .colab-df-convert {\n",
       "      background-color: #3B4455;\n",
       "      fill: #D2E3FC;\n",
       "    }\n",
       "\n",
       "    [theme=dark] .colab-df-convert:hover {\n",
       "      background-color: #434B5C;\n",
       "      box-shadow: 0px 1px 3px 1px rgba(0, 0, 0, 0.15);\n",
       "      filter: drop-shadow(0px 1px 2px rgba(0, 0, 0, 0.3));\n",
       "      fill: #FFFFFF;\n",
       "    }\n",
       "  </style>\n",
       "\n",
       "      <script>\n",
       "        const buttonEl =\n",
       "          document.querySelector('#df-ff77bb66-11fb-4050-a2f9-7a35528c4f54 button.colab-df-convert');\n",
       "        buttonEl.style.display =\n",
       "          google.colab.kernel.accessAllowed ? 'block' : 'none';\n",
       "\n",
       "        async function convertToInteractive(key) {\n",
       "          const element = document.querySelector('#df-ff77bb66-11fb-4050-a2f9-7a35528c4f54');\n",
       "          const dataTable =\n",
       "            await google.colab.kernel.invokeFunction('convertToInteractive',\n",
       "                                                     [key], {});\n",
       "          if (!dataTable) return;\n",
       "\n",
       "          const docLinkHtml = 'Like what you see? Visit the ' +\n",
       "            '<a target=\"_blank\" href=https://colab.research.google.com/notebooks/data_table.ipynb>data table notebook</a>'\n",
       "            + ' to learn more about interactive tables.';\n",
       "          element.innerHTML = '';\n",
       "          dataTable['output_type'] = 'display_data';\n",
       "          await google.colab.output.renderOutput(dataTable, element);\n",
       "          const docLink = document.createElement('div');\n",
       "          docLink.innerHTML = docLinkHtml;\n",
       "          element.appendChild(docLink);\n",
       "        }\n",
       "      </script>\n",
       "    </div>\n",
       "  </div>\n",
       "  "
      ],
      "text/plain": [
       "             5.5                                         3.1  \\\n",
       "0            Yes                                         Yes   \n",
       "3             No                                          No   \n",
       "4    In progress                                          No   \n",
       "5            Yes  Intending to undertake in the next 2 years   \n",
       "10            No                                          No   \n",
       "..           ...                                         ...   \n",
       "774          Yes                                          No   \n",
       "775          Yes                                          No   \n",
       "776           No                                         Yes   \n",
       "801           No                                          No   \n",
       "802          Yes                                          No   \n",
       "\n",
       "                                            8.0  AC_labels  \n",
       "0                                            No          2  \n",
       "3                                            No          2  \n",
       "4                                            No          2  \n",
       "5                                           Yes          2  \n",
       "10                                           No          2  \n",
       "..                                          ...        ...  \n",
       "774                                          No          2  \n",
       "775  Intending to undertake in the next 2 years          2  \n",
       "776                                          No          2  \n",
       "801                                          No          2  \n",
       "802                                          No          2  \n",
       "\n",
       "[421 rows x 4 columns]"
      ]
     },
     "execution_count": 55,
     "metadata": {},
     "output_type": "execute_result"
    }
   ],
   "source": [
    "new_data[(new_data['AC_labels'] == 2)][['5.5','3.1','8.0','AC_labels']]"
   ]
  },
  {
   "cell_type": "markdown",
   "metadata": {
    "id": "HBtzA7y5CS39"
   },
   "source": [
    "Lastly, we can see a lot of 'Yes' with some mix of 'In progress' or 'Intending to undertake in the next 2 years'. This indicates that this group are the most proactive group in which cities have already launched initiatives (or will launch soon) to deal with environmental challenges."
   ]
  },
  {
   "cell_type": "markdown",
   "metadata": {
    "id": "VJgg8Rsz82YC"
   },
   "source": [
    "#### Reflections \n",
    "\n",
    "This project was a good learning experience as we could work on an on-going Kaggle competition data. This was a challenging task for all of us as the data provided was raw in nature. This gave us an opportunity to understand how to refine the available data and make the best out of it. Understanding the data and what needs to be done with it is key for any further analysis. From this project we learned how to lay the ground work for more sophesiticated analysis. We would like to continue working on it, given more time, to find what are the performance indicators of environmental issues from the CDP survey data."
   ]
  },
  {
   "cell_type": "code",
   "execution_count": 55,
   "metadata": {
    "executionInfo": {
     "elapsed": 12,
     "status": "ok",
     "timestamp": 1664475007496,
     "user": {
      "displayName": "Claire Vu",
      "userId": "16337834021308321030"
     },
     "user_tz": 420
    },
    "id": "-DRmC8n9_1by"
   },
   "outputs": [],
   "source": []
  }
 ],
 "metadata": {
  "colab": {
   "collapsed_sections": [],
   "provenance": [],
   "toc_visible": true
  },
  "kernelspec": {
   "display_name": "Python 3 (ipykernel)",
   "language": "python",
   "name": "python3"
  },
  "language_info": {
   "codemirror_mode": {
    "name": "ipython",
    "version": 3
   },
   "file_extension": ".py",
   "mimetype": "text/x-python",
   "name": "python",
   "nbconvert_exporter": "python",
   "pygments_lexer": "ipython3",
   "version": "3.9.12"
  }
 },
 "nbformat": 4,
 "nbformat_minor": 1
}
